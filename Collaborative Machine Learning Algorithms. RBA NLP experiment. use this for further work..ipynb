{
 "cells": [
  {
   "cell_type": "markdown",
   "metadata": {},
   "source": [
    "#### Testing relative performance of multiple machine learning models \"working together\" versus a solo machine learning model. \n",
    "\n",
    "#### Experiment to see how multiple neural network models might \"collaborate\" versus a solo neural network tasked with the same classification challenge. The task for both nets was to classify unseen sections of RBA text.  \n",
    "\n",
    "#### Labels relate to forward actions by the RBA. Class labels were balanced for each run. Rebalancing the classes resulted in some reduction of variance within the classes of interest. \n",
    "\n",
    "#### Results are down the bottom of the notebook. \n",
    "\n",
    "#### Three distinct but related sets of text data were passed to three separate neural nets at the same time. Each had distinct and separate text classification tasks but at the same time the two auxiliary models would be allowed to share updates as they trained with the main model. \n",
    "\n",
    "#### The three data sets are as follows:  \n",
    "\n",
    "1. Text from RBA \"deemed\" neutral.\n",
    "2. Text from RBA \"deemed\" dovish.\n",
    "3. Text from RBA \"deemed\" hawkish.\n",
    "                  \n",
    "#### Machine learning models were set to analyse paragraphs or chunks of text in blocks of around 100 words at a time. LSTM layers were used to remember sequences of 100 words at a time and find any pattern or signal.\n",
    "\n",
    "#### Oct/2018"
   ]
  },
  {
   "cell_type": "code",
   "execution_count": 1,
   "metadata": {},
   "outputs": [
    {
     "name": "stderr",
     "output_type": "stream",
     "text": [
      "Using TensorFlow backend.\n"
     ]
    }
   ],
   "source": [
    "#multiple seeded runs ..  oct 24th..42 , 12 , 112 .. all consistent outperformed solo..\n",
    "\n",
    "import os\n",
    "import shutil\n",
    "import time, glob\n",
    "\n",
    "#Tensorflow\n",
    "import tensorflow as tf \n",
    "\n",
    "#Pandas\n",
    "import pandas as pd\n",
    "from pandas import read_csv\n",
    "\n",
    "#Numpy\n",
    "import numpy as np\n",
    "from numpy import array\n",
    "from array import array\n",
    "from numpy import argmax\n",
    "from numpy import zeros\n",
    "\n",
    "#Randoms\n",
    "import os\n",
    "from tqdm import tqdm \n",
    "from itertools import cycle\n",
    "import logging\n",
    "logging.basicConfig(format='%(asctime)s : %(levelname)s : %(message)s', level=logging.INFO)\n",
    "import string\n",
    "\n",
    "#Matplotlib  \n",
    "%matplotlib inline\n",
    "import matplotlib.pyplot as plt\n",
    "\n",
    "\n",
    "#SK Learn\n",
    "import sklearn\n",
    "from sklearn.model_selection import train_test_split\n",
    "from sklearn import metrics\n",
    "from sklearn import preprocessing\n",
    "from sklearn.externals import joblib\n",
    "from sklearn.metrics import classification_report\n",
    "from sklearn.metrics import confusion_matrix\n",
    "from sklearn.metrics import f1_score\n",
    "from sklearn.utils import resample\n",
    " \n",
    "   \n",
    "#Keras\n",
    "import keras\n",
    "from keras.engine import Input\n",
    "from keras.models import Model\n",
    "from keras.layers.merge import dot\n",
    "from keras.utils import plot_model\n",
    "from keras import backend as K\n",
    "from keras import callbacks\n",
    "from keras import layers\n",
    "from keras import models\n",
    "from keras.wrappers.scikit_learn import KerasClassifier\n",
    "from keras.callbacks import ModelCheckpoint\n",
    "from keras.callbacks import ReduceLROnPlateau\n",
    "from keras.models import Sequential\n",
    "from keras.layers import Dense\n",
    "from keras.wrappers.scikit_learn import KerasClassifier\n",
    "from keras.preprocessing.text import Tokenizer\n",
    "from keras.preprocessing.sequence import pad_sequences\n",
    "from keras.utils.np_utils import to_categorical\n",
    "from keras.layers import Input, Dense, Flatten\n",
    "from keras.layers import Conv1D, MaxPooling1D\n",
    "from keras.layers import TimeDistributed\n",
    "from keras.layers.wrappers import TimeDistributed, Bidirectional\n",
    "from keras.layers.embeddings import Embedding\n",
    "from keras.layers.recurrent import LSTM, GRU\n",
    "from keras.layers.core import Dense, Masking\n",
    "from keras import regularizers\n",
    "from keras.layers import Flatten\n",
    "from keras.layers import Embedding\n",
    "from keras.layers import Dropout, Input\n",
    "from keras.layers.noise import GaussianNoise\n",
    "from keras.layers import LSTM\n",
    "from keras import optimizers\n",
    "from keras import regularizers\n",
    "from keras.layers import Merge\n",
    "from keras.layers.convolutional import Convolution2D, MaxPooling2D, ZeroPadding2D\n",
    "from keras.layers.core import Dense, Activation, Dropout, Reshape, Flatten\n",
    "from keras.utils.np_utils import to_categorical\n",
    "    \n",
    "#Print Confusion matrix and F1 score\n",
    "def print_metrics(self,y):\n",
    "    pred_round_1 = np.round(self, decimals=0,out=None)\n",
    "    f1 = f1_score(y, pred_round_1,average='binary')\n",
    "    con_1= confusion_matrix(y, pred_round_1)\n",
    "    print(con_1)\n",
    "    print(f1)\n",
    "    \n",
    "    \n",
    "#Plot convergence path for collaborative model   \n",
    "def plot_model(self): \n",
    "    plt.plot(self.history['main_output_acc'])\n",
    "    plt.plot(self.history['val_main_output_acc'])\n",
    "    plt.title('model accuracy')\n",
    "    plt.ylabel('accuracy')\n",
    "    plt.xlabel('epoch')\n",
    "    plt.legend(['train', 'val'], loc='upper left')\n",
    "    plt.show()     \n",
    "    plt.plot(self.history['main_output_loss'])\n",
    "    plt.plot(self.history['val_main_output_loss'])\n",
    "    plt.title('model loss')\n",
    "    plt.ylabel('loss')\n",
    "    plt.xlabel('epoch')\n",
    "    plt.legend(['train', 'val'], loc='upper left')\n",
    "    plt.show() \n",
    "    \n",
    "#Plot convergence path for solo model  \n",
    "def plot_model_solo(self): \n",
    "    plt.plot(self.history['acc'])\n",
    "    plt.plot(self.history['val_acc'])\n",
    "    plt.title('model accuracy')\n",
    "    plt.ylabel('accuracy')\n",
    "    plt.xlabel('epoch')\n",
    "    plt.legend(['train', 'val'], loc='upper left')\n",
    "    plt.show()     \n",
    "    plt.plot(self.history['loss'])\n",
    "    plt.plot(self.history['val_loss'])\n",
    "    plt.title('model loss')\n",
    "    plt.ylabel('loss')\n",
    "    plt.xlabel('epoch')\n",
    "    plt.legend(['train', 'val'], loc='upper left')\n",
    "    plt.show() "
   ]
  },
  {
   "cell_type": "markdown",
   "metadata": {},
   "source": [
    "### Read in text files for various predictor matrices.  Three bodies of text split into \"Neutral\", \"Dovish\" and \"Hawkish\". "
   ]
  },
  {
   "cell_type": "code",
   "execution_count": 2,
   "metadata": {},
   "outputs": [
    {
     "name": "stdout",
     "output_type": "stream",
     "text": [
      "((3984, 1), (923, 1), (529, 1))\n"
     ]
    }
   ],
   "source": [
    "#Read in all files from folder relating to \"RBA neutral\"  text\n",
    "with open(\"/Users/brianfarrell/Documents/RBA do nothing/outfile\", 'wb',) as outfile:\n",
    "    for filename in glob.glob( '/Users/brianfarrell/Documents/RBA do nothing/tabula*.csv'):\n",
    "        if filename == outfile:             \n",
    "            continue\n",
    "        with open(filename, 'rb') as readfile:\n",
    "            shutil.copyfileobj(readfile, outfile)\n",
    "#Save \"RBA neutral\" text\n",
    "x = pd.read_fwf('/Users/brianfarrell/Documents/RBA do nothing/outfile',\n",
    "                sep=\".\",encoding='utf8',usecols=[0], header=None)\n",
    "x.rename(columns={0:'text'},inplace=True)\n",
    "\n",
    "\n",
    "             \n",
    "#Open and read in all files relating to \"RBA dovish\" text\n",
    "with open(\"/Users/brianfarrell/Documents/RBA ease/rba_ease.csv\", 'wb',) as outfile:\n",
    "    for filename in glob.glob('/Users/brianfarrell/Documents/RBA ease/tabula*.csv',):\n",
    "        if filename == outfile:            \n",
    "            continue\n",
    "        with open(filename, 'rb') as readfile:\n",
    "            shutil.copyfileobj(readfile, outfile) \n",
    "#Save \"RBA dovish\" text\n",
    "x1 = pd.read_fwf('/Users/brianfarrell/Documents/RBA ease/rba_ease.csv',sep=\".\",encoding='utf8',\n",
    "                 usecols=[0], header=None)\n",
    "x1.rename(columns={0:'text'},inplace=True) \n",
    "\n",
    "\n",
    "#Read in all files relating to \"RBA hawkish\" text \n",
    "with open(\"/Users/brianfarrell/Documents/RBA hike/rba_hike.csv\", 'wb',) as outfile:\n",
    "    for filename in glob.glob('/Users/brianfarrell/Documents/RBA hike/tabula*.csv',):\n",
    "        if filename == outfile:             \n",
    "            continue\n",
    "        with open(filename, 'rb') as readfile:\n",
    "            shutil.copyfileobj(readfile, outfile) \n",
    "#Save \"RBA hawkish\" text\n",
    "x2 = pd.read_fwf('/Users/brianfarrell/Documents/RBA hike/rba_hike.csv',sep=\".\",\n",
    "                encoding='utf8',usecols=[0], header=None)\n",
    "x2.rename(columns={0:'text'},inplace=True)\n",
    " \n",
    " \n",
    "\n",
    "print(x.shape,x1.shape,x2.shape)"
   ]
  },
  {
   "cell_type": "markdown",
   "metadata": {},
   "source": [
    "### Define binary class labels for each neural net."
   ]
  },
  {
   "cell_type": "code",
   "execution_count": 3,
   "metadata": {},
   "outputs": [
    {
     "name": "stdout",
     "output_type": "stream",
     "text": [
      "((5436, 1), (400,), (400,))\n"
     ]
    }
   ],
   "source": [
    "#Define DF for text enocoding below. \n",
    "result= pd.concat([x,x1,x2])\n",
    "#Set target class label array for each Neural Net\n",
    "labels_zeros = np.zeros(400,)\n",
    "labels_ones = np.ones(400,)\n",
    "\n",
    "print(result.shape, labels_zeros.shape,labels_ones.shape)"
   ]
  },
  {
   "cell_type": "markdown",
   "metadata": {},
   "source": [
    "### Tokenize, encode and pad. No NLP preprocessing performed(eg, no punctuation or stopwords removed, no Stemming or Lemmatizing)."
   ]
  },
  {
   "cell_type": "code",
   "execution_count": 4,
   "metadata": {},
   "outputs": [
    {
     "name": "stdout",
     "output_type": "stream",
     "text": [
      "(2298, (3984, 10), (923, 10), (529, 10))\n"
     ]
    }
   ],
   "source": [
    "#Using one Tokinizer to fit on entire text from three files to allow for widest vocabulary index.\n",
    "\n",
    "#Encode blocks of 10 tokens at a time.\n",
    "max_length = 10\n",
    "\n",
    "t_1 = Tokenizer()\n",
    "docs_1= result['text']\n",
    "#Neutral\n",
    "docs_2 = x['text']\n",
    "#Dovish\n",
    "docs_3 = x1['text']\n",
    "#Hawkish\n",
    "docs_4 = x2['text']\n",
    " \n",
    "\n",
    "\n",
    "#Used the following Tokenizer to help encode all three predictor arrays for each Neural Network.\n",
    "#Each word and punctuation is assigned a unique integer. From there each word is effectively\n",
    "#assigned a 200 dimension word embedding vector. Each dimension represents a conversational context.\n",
    "#Number of contexts is decided upfront depending on the size and complexity of the target corpus. \n",
    "\n",
    "t_1.fit_on_texts(docs_1)\n",
    "vocab_size_1 = len(t_1.word_index) + 1\n",
    "\n",
    "#Neutral\n",
    "encoded_docs_1 = t_1.texts_to_sequences(docs_2)\n",
    "#Dovish\n",
    "encoded_docs_2 = t_1.texts_to_sequences(docs_3)\n",
    "#Hawkish\n",
    "encoded_docs_3 = t_1.texts_to_sequences(docs_4)\n",
    " \n",
    "\n",
    "\n",
    "#Neutral\n",
    "padded_docs_1 = pad_sequences(encoded_docs_1, maxlen=max_length, padding='post')\n",
    "#Dovish\n",
    "padded_docs_2 = pad_sequences(encoded_docs_2, maxlen=max_length, padding='post')\n",
    "#Hawkish\n",
    "padded_docs_3 = pad_sequences(encoded_docs_3, maxlen=max_length, padding='post')\n",
    " \n",
    "\n",
    "print(vocab_size_1,padded_docs_1.shape,padded_docs_2.shape,padded_docs_3.shape) "
   ]
  },
  {
   "cell_type": "code",
   "execution_count": 5,
   "metadata": {},
   "outputs": [
    {
     "name": "stdout",
     "output_type": "stream",
     "text": [
      "((4000, 10), (1000, 10), (600, 10))\n"
     ]
    }
   ],
   "source": [
    "#Subjectively decided to round up using top of text files as the top and bottom of corpus\n",
    "#tends to have important content.\n",
    " \n",
    "#Rounding up before reshaping\n",
    "#RBA neutral text enlarged\n",
    "padded_docs_4= padded_docs_1[0:16]\n",
    "padded_docs_5 = np.concatenate((padded_docs_1,padded_docs_4),axis=0)\n",
    " \n",
    "\n",
    "#Rounding up before reshaping\n",
    "#RBA dovish text enlarged\n",
    "padded_docs_6= padded_docs_2[0:77]\n",
    "padded_docs_7 = np.concatenate((padded_docs_2,padded_docs_6),axis=0)\n",
    " \n",
    "\n",
    "#Rounding up before reshaping\n",
    "#RBA hawkish text enlarged\n",
    "padded_docs_8= padded_docs_3[0:71]\n",
    "padded_docs_9 = np.concatenate((padded_docs_3,padded_docs_8),axis=0)\n",
    "print(padded_docs_5.shape,padded_docs_7.shape,padded_docs_9.shape)"
   ]
  },
  {
   "cell_type": "code",
   "execution_count": 6,
   "metadata": {},
   "outputs": [
    {
     "name": "stdout",
     "output_type": "stream",
     "text": [
      "((400, 100), (100, 100), (60, 100))\n"
     ]
    }
   ],
   "source": [
    "#Reshape encoded docs for lstm layer to remember sequence of 100 word blocks at a\n",
    "#time versus each class label.\n",
    "\n",
    "#RBA neutral text\n",
    "padded_docs_5= padded_docs_5.reshape(400,100)\n",
    "#RBA dovish text\n",
    "padded_docs_7= padded_docs_7.reshape(100,100)\n",
    "#RBA hawkish text\n",
    "padded_docs_9= padded_docs_9.reshape(60,100)\n",
    " \n",
    "\n",
    "print(padded_docs_5.shape,padded_docs_7.shape,padded_docs_9.shape)"
   ]
  },
  {
   "cell_type": "code",
   "execution_count": 7,
   "metadata": {},
   "outputs": [
    {
     "name": "stdout",
     "output_type": "stream",
     "text": [
      "((400, 100), (400, 100))\n"
     ]
    }
   ],
   "source": [
    "#Upsample with replacement to rebalance other classes to size of the largest class.\n",
    "\n",
    "#Upsample dovish text\n",
    "padded_docs_2_up = resample(padded_docs_7, \n",
    "                                 replace=True,     # sample with replacement\n",
    "                                 n_samples=400,    # to match majority class\n",
    "                                 random_state=123) # reproducible results\n",
    " \n",
    "#Upsample hawkish text\n",
    "padded_docs_3_up = resample(padded_docs_9, \n",
    "                                 replace=True,     # sample with replacement\n",
    "                                 n_samples=400,    # to match majority class\n",
    "                                 random_state=123) # reproducible results\n",
    " \n",
    "\n",
    "print(padded_docs_2_up.shape,padded_docs_3_up.shape)"
   ]
  },
  {
   "cell_type": "code",
   "execution_count": 8,
   "metadata": {},
   "outputs": [
    {
     "name": "stdout",
     "output_type": "stream",
     "text": [
      "((800, 100), (800, 100), (800, 100))\n"
     ]
    }
   ],
   "source": [
    "#Create four predictor arrays and define labels.\n",
    "labels = np.concatenate((labels_zeros,labels_ones),axis=0)\n",
    "#Assert label array shape\n",
    "labels.shape=(800,1)\n",
    "\n",
    "#Neutral or dovish predictor array.\n",
    "ne = np.concatenate((padded_docs_5,padded_docs_2_up),axis=0)\n",
    "\n",
    "#Neutral or hawkish predictor array.\n",
    "nh = np.concatenate((padded_docs_5,padded_docs_3_up),axis=0)\n",
    "  \n",
    "#Dovish or hawkish predictor array.\n",
    "eh = np.concatenate((padded_docs_2_up,padded_docs_3_up),axis=0)\n",
    "\n",
    " \n",
    "\n",
    "print(ne.shape,nh.shape,eh.shape)"
   ]
  },
  {
   "cell_type": "code",
   "execution_count": 9,
   "metadata": {},
   "outputs": [],
   "source": [
    "#Split arrays into train/test(80/20) for each neural network. Seeded split.\n",
    "X_train_1,X_test_1,y_train_1,y_test_1 = train_test_split(nh,labels,test_size=0.20, shuffle=True,random_state=112)\n",
    "X_train_2,X_test_2,y_train_2,y_test_2 = train_test_split(eh,labels, test_size=0.20, shuffle=True,random_state=112)\n",
    "X_train_3,X_test_3,y_train_3,y_test_3 = train_test_split(ne,labels, test_size=0.20, shuffle=True,random_state=112)"
   ]
  },
  {
   "cell_type": "code",
   "execution_count": 18,
   "metadata": {
    "scrolled": true
   },
   "outputs": [
    {
     "name": "stdout",
     "output_type": "stream",
     "text": [
      "Train on 576 samples, validate on 64 samples\n",
      "Epoch 1/50\n",
      "576/576 [==============================] - 12s 21ms/step - loss: 2.0501 - main_output_loss: 0.6732 - aux_output_1_loss: 0.6972 - aux_output_2_loss: 0.6797 - main_output_acc: 0.6007 - aux_output_1_acc: 0.6493 - aux_output_2_acc: 0.6146 - val_loss: 3.7536 - val_main_output_loss: 0.7582 - val_aux_output_1_loss: 0.6479 - val_aux_output_2_loss: 2.3475 - val_main_output_acc: 0.4844 - val_aux_output_1_acc: 0.7656 - val_aux_output_2_acc: 0.4844\n",
      "Epoch 2/50\n",
      "576/576 [==============================] - 7s 13ms/step - loss: 2.9793 - main_output_loss: 1.5087 - aux_output_1_loss: 0.6079 - aux_output_2_loss: 0.8627 - main_output_acc: 0.5660 - aux_output_1_acc: 0.8368 - aux_output_2_acc: 0.7118 - val_loss: 1.8828 - val_main_output_loss: 0.7536 - val_aux_output_1_loss: 0.5502 - val_aux_output_2_loss: 0.5790 - val_main_output_acc: 0.5625 - val_aux_output_1_acc: 0.8750 - val_aux_output_2_acc: 0.6562\n",
      "Epoch 3/50\n",
      "576/576 [==============================] - 7s 13ms/step - loss: 1.5764 - main_output_loss: 0.4674 - aux_output_1_loss: 0.6999 - aux_output_2_loss: 0.4090 - main_output_acc: 0.8003 - aux_output_1_acc: 0.8767 - aux_output_2_acc: 0.8663 - val_loss: 1.5958 - val_main_output_loss: 0.4572 - val_aux_output_1_loss: 0.4090 - val_aux_output_2_loss: 0.7296 - val_main_output_acc: 0.7500 - val_aux_output_1_acc: 0.9688 - val_aux_output_2_acc: 0.5938\n",
      "Epoch 4/50\n",
      "576/576 [==============================] - 8s 14ms/step - loss: 0.7466 - main_output_loss: 0.1812 - aux_output_1_loss: 0.2719 - aux_output_2_loss: 0.2936 - main_output_acc: 0.9826 - aux_output_1_acc: 0.9601 - aux_output_2_acc: 0.9149 - val_loss: 1.5341 - val_main_output_loss: 0.3227 - val_aux_output_1_loss: 0.2061 - val_aux_output_2_loss: 1.0053 - val_main_output_acc: 0.8438 - val_aux_output_1_acc: 0.9062 - val_aux_output_2_acc: 0.6719\n",
      "Epoch 5/50\n",
      "576/576 [==============================] - 8s 14ms/step - loss: 0.6294 - main_output_loss: 0.1186 - aux_output_1_loss: 0.1484 - aux_output_2_loss: 0.3624 - main_output_acc: 0.9826 - aux_output_1_acc: 0.9792 - aux_output_2_acc: 0.8733 - val_loss: 0.9239 - val_main_output_loss: 0.1752 - val_aux_output_1_loss: 0.1311 - val_aux_output_2_loss: 0.6175 - val_main_output_acc: 0.9375 - val_aux_output_1_acc: 0.9844 - val_aux_output_2_acc: 0.7031\n",
      "Epoch 6/50\n",
      "576/576 [==============================] - 8s 14ms/step - loss: 0.3013 - main_output_loss: 0.0431 - aux_output_1_loss: 0.0575 - aux_output_2_loss: 0.2007 - main_output_acc: 0.9965 - aux_output_1_acc: 0.9896 - aux_output_2_acc: 0.9479 - val_loss: 0.5974 - val_main_output_loss: 0.0689 - val_aux_output_1_loss: 0.0539 - val_aux_output_2_loss: 0.4747 - val_main_output_acc: 1.0000 - val_aux_output_1_acc: 0.9844 - val_aux_output_2_acc: 0.7344\n",
      "Epoch 7/50\n",
      "576/576 [==============================] - 8s 14ms/step - loss: 0.2207 - main_output_loss: 0.0279 - aux_output_1_loss: 0.0546 - aux_output_2_loss: 0.1382 - main_output_acc: 0.9965 - aux_output_1_acc: 0.9931 - aux_output_2_acc: 0.9653 - val_loss: 0.9821 - val_main_output_loss: 0.0975 - val_aux_output_1_loss: 0.0397 - val_aux_output_2_loss: 0.8449 - val_main_output_acc: 1.0000 - val_aux_output_1_acc: 1.0000 - val_aux_output_2_acc: 0.6719\n",
      "Epoch 8/50\n",
      "576/576 [==============================] - 8s 14ms/step - loss: 0.3879 - main_output_loss: 0.0448 - aux_output_1_loss: 0.0491 - aux_output_2_loss: 0.2940 - main_output_acc: 0.9983 - aux_output_1_acc: 0.9948 - aux_output_2_acc: 0.9306 - val_loss: 0.5170 - val_main_output_loss: 0.0430 - val_aux_output_1_loss: 0.0144 - val_aux_output_2_loss: 0.4596 - val_main_output_acc: 1.0000 - val_aux_output_1_acc: 1.0000 - val_aux_output_2_acc: 0.8281\n",
      "Epoch 9/50\n",
      "576/576 [==============================] - 8s 14ms/step - loss: 0.1048 - main_output_loss: 0.0089 - aux_output_1_loss: 0.0122 - aux_output_2_loss: 0.0837 - main_output_acc: 1.0000 - aux_output_1_acc: 0.9965 - aux_output_2_acc: 0.9861 - val_loss: 0.6257 - val_main_output_loss: 0.0693 - val_aux_output_1_loss: 0.0689 - val_aux_output_2_loss: 0.4875 - val_main_output_acc: 1.0000 - val_aux_output_1_acc: 0.9688 - val_aux_output_2_acc: 0.7812\n",
      "Epoch 10/50\n",
      "576/576 [==============================] - 8s 14ms/step - loss: 0.0733 - main_output_loss: 0.0109 - aux_output_1_loss: 0.0132 - aux_output_2_loss: 0.0492 - main_output_acc: 1.0000 - aux_output_1_acc: 1.0000 - aux_output_2_acc: 0.9948 - val_loss: 0.5906 - val_main_output_loss: 0.0238 - val_aux_output_1_loss: 0.0035 - val_aux_output_2_loss: 0.5632 - val_main_output_acc: 1.0000 - val_aux_output_1_acc: 1.0000 - val_aux_output_2_acc: 0.7812\n",
      "Epoch 11/50\n",
      "576/576 [==============================] - 8s 14ms/step - loss: 0.0380 - main_output_loss: 0.0046 - aux_output_1_loss: 0.0041 - aux_output_2_loss: 0.0294 - main_output_acc: 1.0000 - aux_output_1_acc: 1.0000 - aux_output_2_acc: 0.9983 - val_loss: 0.7169 - val_main_output_loss: 0.0228 - val_aux_output_1_loss: 0.0024 - val_aux_output_2_loss: 0.6918 - val_main_output_acc: 1.0000 - val_aux_output_1_acc: 1.0000 - val_aux_output_2_acc: 0.7656\n",
      "Epoch 12/50\n",
      "576/576 [==============================] - 9s 15ms/step - loss: 0.0220 - main_output_loss: 0.0022 - aux_output_1_loss: 0.0017 - aux_output_2_loss: 0.0180 - main_output_acc: 1.0000 - aux_output_1_acc: 1.0000 - aux_output_2_acc: 0.9983 - val_loss: 0.8926 - val_main_output_loss: 0.0228 - val_aux_output_1_loss: 0.0016 - val_aux_output_2_loss: 0.8682 - val_main_output_acc: 1.0000 - val_aux_output_1_acc: 1.0000 - val_aux_output_2_acc: 0.7500\n",
      "Epoch 13/50\n",
      "576/576 [==============================] - 8s 14ms/step - loss: 0.0142 - main_output_loss: 0.0014 - aux_output_1_loss: 0.0012 - aux_output_2_loss: 0.0116 - main_output_acc: 1.0000 - aux_output_1_acc: 1.0000 - aux_output_2_acc: 1.0000 - val_loss: 0.9643 - val_main_output_loss: 0.0208 - val_aux_output_1_loss: 0.0013 - val_aux_output_2_loss: 0.9422 - val_main_output_acc: 1.0000 - val_aux_output_1_acc: 1.0000 - val_aux_output_2_acc: 0.7656\n",
      "Epoch 14/50\n",
      "576/576 [==============================] - 8s 14ms/step - loss: 0.2381 - main_output_loss: 0.0033 - aux_output_1_loss: 7.9992e-04 - aux_output_2_loss: 0.2341 - main_output_acc: 1.0000 - aux_output_1_acc: 1.0000 - aux_output_2_acc: 0.9219 - val_loss: 0.5358 - val_main_output_loss: 0.0051 - val_aux_output_1_loss: 0.0010 - val_aux_output_2_loss: 0.5296 - val_main_output_acc: 1.0000 - val_aux_output_1_acc: 1.0000 - val_aux_output_2_acc: 0.7656\n",
      "Epoch 15/50\n",
      "576/576 [==============================] - 8s 14ms/step - loss: 0.5596 - main_output_loss: 0.1863 - aux_output_1_loss: 0.2552 - aux_output_2_loss: 0.1181 - main_output_acc: 0.9219 - aux_output_1_acc: 0.9479 - aux_output_2_acc: 0.9809 - val_loss: 0.7567 - val_main_output_loss: 0.0877 - val_aux_output_1_loss: 0.1405 - val_aux_output_2_loss: 0.5285 - val_main_output_acc: 0.9844 - val_aux_output_1_acc: 0.9375 - val_aux_output_2_acc: 0.8438\n",
      "Epoch 16/50\n",
      "576/576 [==============================] - 8s 14ms/step - loss: 0.1153 - main_output_loss: 0.0116 - aux_output_1_loss: 0.0768 - aux_output_2_loss: 0.0269 - main_output_acc: 0.9983 - aux_output_1_acc: 0.9757 - aux_output_2_acc: 0.9983 - val_loss: 0.6834 - val_main_output_loss: 0.0403 - val_aux_output_1_loss: 0.0456 - val_aux_output_2_loss: 0.5975 - val_main_output_acc: 0.9844 - val_aux_output_1_acc: 1.0000 - val_aux_output_2_acc: 0.8125\n",
      "Epoch 17/50\n",
      "576/576 [==============================] - 8s 14ms/step - loss: 0.0396 - main_output_loss: 0.0022 - aux_output_1_loss: 0.0259 - aux_output_2_loss: 0.0115 - main_output_acc: 1.0000 - aux_output_1_acc: 1.0000 - aux_output_2_acc: 1.0000 - val_loss: 0.7189 - val_main_output_loss: 0.0232 - val_aux_output_1_loss: 0.0159 - val_aux_output_2_loss: 0.6798 - val_main_output_acc: 1.0000 - val_aux_output_1_acc: 1.0000 - val_aux_output_2_acc: 0.8125\n",
      "Epoch 18/50\n",
      "576/576 [==============================] - 8s 14ms/step - loss: 0.0175 - main_output_loss: 9.7054e-04 - aux_output_1_loss: 0.0099 - aux_output_2_loss: 0.0066 - main_output_acc: 1.0000 - aux_output_1_acc: 1.0000 - aux_output_2_acc: 1.0000 - val_loss: 0.7727 - val_main_output_loss: 0.0184 - val_aux_output_1_loss: 0.0075 - val_aux_output_2_loss: 0.7467 - val_main_output_acc: 1.0000 - val_aux_output_1_acc: 1.0000 - val_aux_output_2_acc: 0.7969\n",
      "Epoch 19/50\n"
     ]
    },
    {
     "name": "stdout",
     "output_type": "stream",
     "text": [
      "576/576 [==============================] - 8s 14ms/step - loss: 0.0093 - main_output_loss: 5.6150e-04 - aux_output_1_loss: 0.0047 - aux_output_2_loss: 0.0041 - main_output_acc: 1.0000 - aux_output_1_acc: 1.0000 - aux_output_2_acc: 1.0000 - val_loss: 0.8364 - val_main_output_loss: 0.0172 - val_aux_output_1_loss: 0.0036 - val_aux_output_2_loss: 0.8156 - val_main_output_acc: 1.0000 - val_aux_output_1_acc: 1.0000 - val_aux_output_2_acc: 0.7969\n",
      "Epoch 20/50\n",
      "576/576 [==============================] - 8s 14ms/step - loss: 0.0050 - main_output_loss: 3.4021e-04 - aux_output_1_loss: 0.0021 - aux_output_2_loss: 0.0026 - main_output_acc: 1.0000 - aux_output_1_acc: 1.0000 - aux_output_2_acc: 1.0000 - val_loss: 0.9047 - val_main_output_loss: 0.0159 - val_aux_output_1_loss: 0.0014 - val_aux_output_2_loss: 0.8875 - val_main_output_acc: 1.0000 - val_aux_output_1_acc: 1.0000 - val_aux_output_2_acc: 0.7812\n",
      "Epoch 21/50\n",
      "576/576 [==============================] - 8s 15ms/step - loss: 0.0029 - main_output_loss: 2.1399e-04 - aux_output_1_loss: 9.4010e-04 - aux_output_2_loss: 0.0017 - main_output_acc: 1.0000 - aux_output_1_acc: 1.0000 - aux_output_2_acc: 1.0000 - val_loss: 0.9781 - val_main_output_loss: 0.0144 - val_aux_output_1_loss: 7.5282e-04 - val_aux_output_2_loss: 0.9630 - val_main_output_acc: 1.0000 - val_aux_output_1_acc: 1.0000 - val_aux_output_2_acc: 0.7812\n",
      "Epoch 22/50\n",
      "576/576 [==============================] - 8s 14ms/step - loss: 0.0019 - main_output_loss: 1.5013e-04 - aux_output_1_loss: 5.9623e-04 - aux_output_2_loss: 0.0011 - main_output_acc: 1.0000 - aux_output_1_acc: 1.0000 - aux_output_2_acc: 1.0000 - val_loss: 1.0562 - val_main_output_loss: 0.0131 - val_aux_output_1_loss: 5.3953e-04 - val_aux_output_2_loss: 1.0426 - val_main_output_acc: 1.0000 - val_aux_output_1_acc: 1.0000 - val_aux_output_2_acc: 0.7969\n",
      "Epoch 23/50\n",
      "576/576 [==============================] - 8s 14ms/step - loss: 0.0013 - main_output_loss: 1.0655e-04 - aux_output_1_loss: 4.2127e-04 - aux_output_2_loss: 7.4645e-04 - main_output_acc: 1.0000 - aux_output_1_acc: 1.0000 - aux_output_2_acc: 1.0000 - val_loss: 1.1309 - val_main_output_loss: 0.0122 - val_aux_output_1_loss: 3.7729e-04 - val_aux_output_2_loss: 1.1184 - val_main_output_acc: 1.0000 - val_aux_output_1_acc: 1.0000 - val_aux_output_2_acc: 0.7969\n",
      "Epoch 24/50\n",
      "576/576 [==============================] - 8s 14ms/step - loss: 8.7018e-04 - main_output_loss: 7.7047e-05 - aux_output_1_loss: 2.9849e-04 - aux_output_2_loss: 4.9464e-04 - main_output_acc: 1.0000 - aux_output_1_acc: 1.0000 - aux_output_2_acc: 1.0000 - val_loss: 1.1958 - val_main_output_loss: 0.0117 - val_aux_output_1_loss: 2.7394e-04 - val_aux_output_2_loss: 1.1838 - val_main_output_acc: 1.0000 - val_aux_output_1_acc: 1.0000 - val_aux_output_2_acc: 0.7969\n",
      "Epoch 25/50\n",
      "576/576 [==============================] - 9s 15ms/step - loss: 5.9812e-04 - main_output_loss: 5.5831e-05 - aux_output_1_loss: 2.1341e-04 - aux_output_2_loss: 3.2889e-04 - main_output_acc: 1.0000 - aux_output_1_acc: 1.0000 - aux_output_2_acc: 1.0000 - val_loss: 1.2128 - val_main_output_loss: 0.0115 - val_aux_output_1_loss: 1.9555e-04 - val_aux_output_2_loss: 1.2011 - val_main_output_acc: 1.0000 - val_aux_output_1_acc: 1.0000 - val_aux_output_2_acc: 0.7969\n",
      "Epoch 26/50\n",
      "576/576 [==============================] - 8s 14ms/step - loss: 4.1172e-04 - main_output_loss: 4.0749e-05 - aux_output_1_loss: 1.5352e-04 - aux_output_2_loss: 2.1745e-04 - main_output_acc: 1.0000 - aux_output_1_acc: 1.0000 - aux_output_2_acc: 1.0000 - val_loss: 1.2904 - val_main_output_loss: 0.0117 - val_aux_output_1_loss: 1.4756e-04 - val_aux_output_2_loss: 1.2785 - val_main_output_acc: 1.0000 - val_aux_output_1_acc: 1.0000 - val_aux_output_2_acc: 0.7969\n",
      "Epoch 27/50\n",
      "576/576 [==============================] - 8s 14ms/step - loss: 0.4592 - main_output_loss: 0.0041 - aux_output_1_loss: 0.0074 - aux_output_2_loss: 0.4477 - main_output_acc: 0.9983 - aux_output_1_acc: 0.9983 - aux_output_2_acc: 0.9358 - val_loss: 4.3172 - val_main_output_loss: 0.1510 - val_aux_output_1_loss: 0.1054 - val_aux_output_2_loss: 4.0608 - val_main_output_acc: 0.9375 - val_aux_output_1_acc: 0.9531 - val_aux_output_2_acc: 0.5156\n",
      "Epoch 28/50\n",
      "576/576 [==============================] - 8s 14ms/step - loss: 4.7387 - main_output_loss: 0.7041 - aux_output_1_loss: 0.8554 - aux_output_2_loss: 3.1792 - main_output_acc: 0.7830 - aux_output_1_acc: 0.9167 - aux_output_2_acc: 0.5122 - val_loss: 1.9832 - val_main_output_loss: 0.0257 - val_aux_output_1_loss: 0.0458 - val_aux_output_2_loss: 1.9117 - val_main_output_acc: 1.0000 - val_aux_output_1_acc: 1.0000 - val_aux_output_2_acc: 0.5156\n",
      "Epoch 29/50\n",
      "576/576 [==============================] - 8s 14ms/step - loss: 0.9839 - main_output_loss: 0.0118 - aux_output_1_loss: 0.0291 - aux_output_2_loss: 0.9430 - main_output_acc: 0.9983 - aux_output_1_acc: 1.0000 - aux_output_2_acc: 0.6233 - val_loss: 0.6407 - val_main_output_loss: 0.0113 - val_aux_output_1_loss: 0.0285 - val_aux_output_2_loss: 0.6009 - val_main_output_acc: 1.0000 - val_aux_output_1_acc: 1.0000 - val_aux_output_2_acc: 0.6875\n",
      "Epoch 30/50\n",
      "576/576 [==============================] - 8s 14ms/step - loss: 0.4193 - main_output_loss: 0.0064 - aux_output_1_loss: 0.0164 - aux_output_2_loss: 0.3965 - main_output_acc: 0.9983 - aux_output_1_acc: 1.0000 - aux_output_2_acc: 0.9219 - val_loss: 0.5723 - val_main_output_loss: 0.0065 - val_aux_output_1_loss: 0.0184 - val_aux_output_2_loss: 0.5475 - val_main_output_acc: 1.0000 - val_aux_output_1_acc: 1.0000 - val_aux_output_2_acc: 0.7500\n",
      "Epoch 31/50\n",
      "576/576 [==============================] - 8s 14ms/step - loss: 0.3780 - main_output_loss: 0.0042 - aux_output_1_loss: 0.0097 - aux_output_2_loss: 0.3640 - main_output_acc: 0.9983 - aux_output_1_acc: 1.0000 - aux_output_2_acc: 0.8490 - val_loss: 0.5805 - val_main_output_loss: 0.0050 - val_aux_output_1_loss: 0.0121 - val_aux_output_2_loss: 0.5633 - val_main_output_acc: 1.0000 - val_aux_output_1_acc: 1.0000 - val_aux_output_2_acc: 0.6875\n",
      "Epoch 32/50\n",
      "576/576 [==============================] - 8s 14ms/step - loss: 0.2054 - main_output_loss: 0.0016 - aux_output_1_loss: 0.0058 - aux_output_2_loss: 0.1980 - main_output_acc: 1.0000 - aux_output_1_acc: 1.0000 - aux_output_2_acc: 0.9549 - val_loss: 0.5512 - val_main_output_loss: 0.0030 - val_aux_output_1_loss: 0.0079 - val_aux_output_2_loss: 0.5403 - val_main_output_acc: 1.0000 - val_aux_output_1_acc: 1.0000 - val_aux_output_2_acc: 0.7812\n",
      "Epoch 33/50\n",
      "576/576 [==============================] - 8s 14ms/step - loss: 0.1592 - main_output_loss: 9.3666e-04 - aux_output_1_loss: 0.0035 - aux_output_2_loss: 0.1547 - main_output_acc: 1.0000 - aux_output_1_acc: 1.0000 - aux_output_2_acc: 0.9566 - val_loss: 0.5591 - val_main_output_loss: 0.0021 - val_aux_output_1_loss: 0.0051 - val_aux_output_2_loss: 0.5518 - val_main_output_acc: 1.0000 - val_aux_output_1_acc: 1.0000 - val_aux_output_2_acc: 0.8125\n",
      "Epoch 34/50\n",
      "576/576 [==============================] - 8s 14ms/step - loss: 0.0823 - main_output_loss: 4.7472e-04 - aux_output_1_loss: 0.0021 - aux_output_2_loss: 0.0797 - main_output_acc: 1.0000 - aux_output_1_acc: 1.0000 - aux_output_2_acc: 0.9774 - val_loss: 0.5888 - val_main_output_loss: 0.0014 - val_aux_output_1_loss: 0.0035 - val_aux_output_2_loss: 0.5839 - val_main_output_acc: 1.0000 - val_aux_output_1_acc: 1.0000 - val_aux_output_2_acc: 0.8281\n",
      "Epoch 35/50\n",
      "576/576 [==============================] - 8s 14ms/step - loss: 0.0798 - main_output_loss: 2.9142e-04 - aux_output_1_loss: 0.0013 - aux_output_2_loss: 0.0782 - main_output_acc: 1.0000 - aux_output_1_acc: 1.0000 - aux_output_2_acc: 0.9792 - val_loss: 0.6174 - val_main_output_loss: 0.0012 - val_aux_output_1_loss: 0.0024 - val_aux_output_2_loss: 0.6138 - val_main_output_acc: 1.0000 - val_aux_output_1_acc: 1.0000 - val_aux_output_2_acc: 0.8125\n",
      "Epoch 36/50\n",
      "576/576 [==============================] - 8s 14ms/step - loss: 0.0306 - main_output_loss: 1.5007e-04 - aux_output_1_loss: 8.2848e-04 - aux_output_2_loss: 0.0296 - main_output_acc: 1.0000 - aux_output_1_acc: 1.0000 - aux_output_2_acc: 0.9983 - val_loss: 0.6637 - val_main_output_loss: 9.5690e-04 - val_aux_output_1_loss: 0.0019 - val_aux_output_2_loss: 0.6609 - val_main_output_acc: 1.0000 - val_aux_output_1_acc: 1.0000 - val_aux_output_2_acc: 0.8125\n"
     ]
    },
    {
     "name": "stdout",
     "output_type": "stream",
     "text": [
      "Epoch 37/50\n",
      "576/576 [==============================] - 8s 14ms/step - loss: 0.0162 - main_output_loss: 9.1927e-05 - aux_output_1_loss: 5.4779e-04 - aux_output_2_loss: 0.0156 - main_output_acc: 1.0000 - aux_output_1_acc: 1.0000 - aux_output_2_acc: 1.0000 - val_loss: 0.7073 - val_main_output_loss: 8.4056e-04 - val_aux_output_1_loss: 0.0016 - val_aux_output_2_loss: 0.7049 - val_main_output_acc: 1.0000 - val_aux_output_1_acc: 1.0000 - val_aux_output_2_acc: 0.8281\n",
      "Epoch 38/50\n",
      "576/576 [==============================] - 8s 14ms/step - loss: 0.0102 - main_output_loss: 6.0393e-05 - aux_output_1_loss: 3.8736e-04 - aux_output_2_loss: 0.0098 - main_output_acc: 1.0000 - aux_output_1_acc: 1.0000 - aux_output_2_acc: 1.0000 - val_loss: 0.7395 - val_main_output_loss: 7.6297e-04 - val_aux_output_1_loss: 0.0015 - val_aux_output_2_loss: 0.7373 - val_main_output_acc: 1.0000 - val_aux_output_1_acc: 1.0000 - val_aux_output_2_acc: 0.8281\n",
      "Epoch 39/50\n",
      "576/576 [==============================] - 8s 14ms/step - loss: 0.0065 - main_output_loss: 4.3366e-05 - aux_output_1_loss: 2.9820e-04 - aux_output_2_loss: 0.0061 - main_output_acc: 1.0000 - aux_output_1_acc: 1.0000 - aux_output_2_acc: 1.0000 - val_loss: 0.7735 - val_main_output_loss: 6.9738e-04 - val_aux_output_1_loss: 0.0014 - val_aux_output_2_loss: 0.7714 - val_main_output_acc: 1.0000 - val_aux_output_1_acc: 1.0000 - val_aux_output_2_acc: 0.8438\n",
      "Epoch 40/50\n",
      "576/576 [==============================] - 8s 15ms/step - loss: 0.0045 - main_output_loss: 3.2812e-05 - aux_output_1_loss: 2.3683e-04 - aux_output_2_loss: 0.0042 - main_output_acc: 1.0000 - aux_output_1_acc: 1.0000 - aux_output_2_acc: 1.0000 - val_loss: 0.8168 - val_main_output_loss: 6.4288e-04 - val_aux_output_1_loss: 0.0015 - val_aux_output_2_loss: 0.8147 - val_main_output_acc: 1.0000 - val_aux_output_1_acc: 1.0000 - val_aux_output_2_acc: 0.8438\n",
      "Epoch 41/50\n",
      "576/576 [==============================] - 8s 14ms/step - loss: 0.0030 - main_output_loss: 2.4970e-05 - aux_output_1_loss: 1.9100e-04 - aux_output_2_loss: 0.0028 - main_output_acc: 1.0000 - aux_output_1_acc: 1.0000 - aux_output_2_acc: 1.0000 - val_loss: 0.8651 - val_main_output_loss: 5.9607e-04 - val_aux_output_1_loss: 0.0017 - val_aux_output_2_loss: 0.8628 - val_main_output_acc: 1.0000 - val_aux_output_1_acc: 1.0000 - val_aux_output_2_acc: 0.8438\n",
      "Epoch 42/50\n",
      "576/576 [==============================] - 8s 14ms/step - loss: 0.0021 - main_output_loss: 1.9273e-05 - aux_output_1_loss: 1.5516e-04 - aux_output_2_loss: 0.0019 - main_output_acc: 1.0000 - aux_output_1_acc: 1.0000 - aux_output_2_acc: 1.0000 - val_loss: 0.9150 - val_main_output_loss: 5.6568e-04 - val_aux_output_1_loss: 0.0021 - val_aux_output_2_loss: 0.9123 - val_main_output_acc: 1.0000 - val_aux_output_1_acc: 1.0000 - val_aux_output_2_acc: 0.8438\n",
      "Epoch 43/50\n",
      "576/576 [==============================] - 8s 14ms/step - loss: 0.0016 - main_output_loss: 1.5128e-05 - aux_output_1_loss: 1.2463e-04 - aux_output_2_loss: 0.0014 - main_output_acc: 1.0000 - aux_output_1_acc: 1.0000 - aux_output_2_acc: 1.0000 - val_loss: 0.9605 - val_main_output_loss: 5.6172e-04 - val_aux_output_1_loss: 0.0033 - val_aux_output_2_loss: 0.9566 - val_main_output_acc: 1.0000 - val_aux_output_1_acc: 1.0000 - val_aux_output_2_acc: 0.8438\n",
      "Epoch 44/50\n",
      "576/576 [==============================] - 8s 14ms/step - loss: 0.0012 - main_output_loss: 1.1895e-05 - aux_output_1_loss: 9.9282e-05 - aux_output_2_loss: 0.0011 - main_output_acc: 1.0000 - aux_output_1_acc: 1.0000 - aux_output_2_acc: 1.0000 - val_loss: 1.0184 - val_main_output_loss: 5.7400e-04 - val_aux_output_1_loss: 0.0079 - val_aux_output_2_loss: 1.0099 - val_main_output_acc: 1.0000 - val_aux_output_1_acc: 1.0000 - val_aux_output_2_acc: 0.8594\n",
      "Epoch 45/50\n",
      "576/576 [==============================] - 8s 14ms/step - loss: 0.1747 - main_output_loss: 5.1866e-05 - aux_output_1_loss: 7.7238e-05 - aux_output_2_loss: 0.1746 - main_output_acc: 1.0000 - aux_output_1_acc: 1.0000 - aux_output_2_acc: 0.9462 - val_loss: 0.8724 - val_main_output_loss: 0.0013 - val_aux_output_1_loss: 0.0163 - val_aux_output_2_loss: 0.8549 - val_main_output_acc: 1.0000 - val_aux_output_1_acc: 0.9844 - val_aux_output_2_acc: 0.8125\n",
      "Epoch 46/50\n",
      "576/576 [==============================] - 8s 14ms/step - loss: 0.0067 - main_output_loss: 1.0686e-05 - aux_output_1_loss: 5.8893e-05 - aux_output_2_loss: 0.0066 - main_output_acc: 1.0000 - aux_output_1_acc: 1.0000 - aux_output_2_acc: 1.0000 - val_loss: 0.9123 - val_main_output_loss: 0.0036 - val_aux_output_1_loss: 0.0482 - val_aux_output_2_loss: 0.8605 - val_main_output_acc: 1.0000 - val_aux_output_1_acc: 0.9844 - val_aux_output_2_acc: 0.8438\n",
      "Epoch 47/50\n",
      "576/576 [==============================] - 8s 14ms/step - loss: 0.0035 - main_output_loss: 7.5498e-06 - aux_output_1_loss: 4.5117e-05 - aux_output_2_loss: 0.0035 - main_output_acc: 1.0000 - aux_output_1_acc: 1.0000 - aux_output_2_acc: 1.0000 - val_loss: 0.9789 - val_main_output_loss: 0.0108 - val_aux_output_1_loss: 0.0847 - val_aux_output_2_loss: 0.8833 - val_main_output_acc: 1.0000 - val_aux_output_1_acc: 0.9844 - val_aux_output_2_acc: 0.8281\n",
      "Epoch 48/50\n",
      "576/576 [==============================] - 8s 14ms/step - loss: 0.0022 - main_output_loss: 5.5114e-06 - aux_output_1_loss: 3.4201e-05 - aux_output_2_loss: 0.0022 - main_output_acc: 1.0000 - aux_output_1_acc: 1.0000 - aux_output_2_acc: 1.0000 - val_loss: 1.0434 - val_main_output_loss: 0.0185 - val_aux_output_1_loss: 0.1113 - val_aux_output_2_loss: 0.9136 - val_main_output_acc: 0.9844 - val_aux_output_1_acc: 0.9844 - val_aux_output_2_acc: 0.8281\n",
      "Epoch 49/50\n",
      "576/576 [==============================] - 8s 14ms/step - loss: 0.0015 - main_output_loss: 4.2160e-06 - aux_output_1_loss: 2.5693e-05 - aux_output_2_loss: 0.0015 - main_output_acc: 1.0000 - aux_output_1_acc: 1.0000 - aux_output_2_acc: 1.0000 - val_loss: 1.1013 - val_main_output_loss: 0.0238 - val_aux_output_1_loss: 0.1291 - val_aux_output_2_loss: 0.9484 - val_main_output_acc: 0.9844 - val_aux_output_1_acc: 0.9844 - val_aux_output_2_acc: 0.8281\n",
      "Epoch 50/50\n",
      "576/576 [==============================] - 8s 14ms/step - loss: 0.0011 - main_output_loss: 3.2564e-06 - aux_output_1_loss: 1.9148e-05 - aux_output_2_loss: 0.0011 - main_output_acc: 1.0000 - aux_output_1_acc: 1.0000 - aux_output_2_acc: 1.0000 - val_loss: 1.1540 - val_main_output_loss: 0.0267 - val_aux_output_1_loss: 0.1411 - val_aux_output_2_loss: 0.9862 - val_main_output_acc: 0.9844 - val_aux_output_1_acc: 0.9844 - val_aux_output_2_acc: 0.8281\n",
      "160/160 [==============================] - 1s 4ms/step\n"
     ]
    }
   ],
   "source": [
    "#Collaborative net. Each net is training on its own text file and looking for specific \n",
    "#patterns in their own right. However the idea behind the test is to see if sharing what each\n",
    "#model is learning via the LSTM layers will collectively help the main model.  \n",
    "\n",
    "\n",
    "#First auxiliary model..feeding it \"Dovish or hawkish\" text and associated labels.\n",
    "auxiliary_input_1 = Input(shape=(100,)) \n",
    "e_2 = Embedding(vocab_size_1,200, input_length=100,trainable=True)(auxiliary_input_1)\n",
    "lstm_2 = LSTM(200,input_shape=(100,1))(e_2)\n",
    "#Logistic regression layer\n",
    "auxiliary_output_1 = Dense(1, activation='sigmoid', name='aux_output_1')(lstm_2)  \n",
    "\n",
    "          \n",
    "#Second auxiliary model..feeding it \"Neutral or Dovish\" text and associated labels. \n",
    "auxiliary_input_2 = Input(shape=(100,)) \n",
    "e_3 = Embedding(vocab_size_1,200, input_length=100,trainable=True)(auxiliary_input_2)\n",
    "lstm_3 = LSTM(200,input_shape=(100,1))(e_3)\n",
    "#Logistic regression layer\n",
    "auxiliary_output_2 = Dense(1, activation='sigmoid', name='aux_output_2')(lstm_3) \n",
    "\n",
    "\n",
    "#Main model...feeding it \"Neutral or hawkish\" text and associated labels.\n",
    "main_input = Input(shape=(100, ), name='aux_input')\n",
    "e_1 = Embedding(vocab_size_1, 200,input_length=100,trainable=True)(main_input)\n",
    "lstm_1 = LSTM(200,input_shape=(100,1))(e_1) \n",
    "#Merge LSTM layers\n",
    "x = keras.layers.concatenate([lstm_1,lstm_2,lstm_3])  \n",
    "#logistic regression layer\n",
    "main_output = Dense(1, activation='sigmoid', name='main_output')(x)    \n",
    "         \n",
    "#Define inputs and outputs from main model. \n",
    "model = Model(inputs=[main_input, auxiliary_input_1,auxiliary_input_2], outputs=[main_output, auxiliary_output_1,auxiliary_output_2])\n",
    "\n",
    "\n",
    "#Allowing for equal loss contributions from each model.  \n",
    "model.compile(optimizer='rmsprop', loss='binary_crossentropy',metrics=['acc'],loss_weights=[1.0,1.0,1.0]) \n",
    " \n",
    "\n",
    "history_1 = model.fit([X_train_1, X_train_2, X_train_3], [y_train_1, y_train_2, y_train_3],\n",
    "         batch_size=100, epochs=50,\n",
    "           validation_split=0.10, shuffle=False, verbose=1) \n",
    "\n",
    "\n",
    "model.evaluate([X_test_1, X_test_2, X_test_3], [y_test_1, y_test_2, y_test_3], batch_size=100)\n",
    "\n",
    "\n",
    "collab_mod = model.predict([X_test_1, X_test_2, X_test_3], batch_size=10,verbose=2) "
   ]
  },
  {
   "cell_type": "code",
   "execution_count": 19,
   "metadata": {},
   "outputs": [
    {
     "data": {
      "text/plain": [
       "['loss',\n",
       " 'main_output_loss',\n",
       " 'aux_output_1_loss',\n",
       " 'aux_output_2_loss',\n",
       " 'main_output_acc',\n",
       " 'aux_output_1_acc',\n",
       " 'aux_output_2_acc']"
      ]
     },
     "execution_count": 19,
     "metadata": {},
     "output_type": "execute_result"
    }
   ],
   "source": [
    "#Check metrics for collaborative net\n",
    "model.metrics_names "
   ]
  },
  {
   "cell_type": "code",
   "execution_count": 20,
   "metadata": {},
   "outputs": [
    {
     "name": "stdout",
     "output_type": "stream",
     "text": [
      "[[75  0]\n",
      " [ 0 85]]\n",
      "1.0\n"
     ]
    }
   ],
   "source": [
    "#Precision/recall check & f1 score for collaborative model\n",
    "print_metrics(collab_mod[0],y_test_1)"
   ]
  },
  {
   "cell_type": "code",
   "execution_count": 21,
   "metadata": {},
   "outputs": [
    {
     "data": {
      "image/png": "[encoded data removed]",
      "text/plain": [
       "<matplotlib.figure.Figure at 0x124155190>"
      ]
     },
     "metadata": {},
     "output_type": "display_data"
    },
    {
     "data": {
      "image/png": "[encoded data removed]",
      "text/plain": [
       "<matplotlib.figure.Figure at 0x124132ad0>"
      ]
     },
     "metadata": {},
     "output_type": "display_data"
    }
   ],
   "source": [
    "#Plot collaborative model behaviour over 50 epochs\n",
    "plot_model(history_1)"
   ]
  },
  {
   "cell_type": "code",
   "execution_count": 22,
   "metadata": {
    "scrolled": true
   },
   "outputs": [
    {
     "name": "stdout",
     "output_type": "stream",
     "text": [
      "Train on 576 samples, validate on 64 samples\n",
      "Epoch 1/50\n",
      "576/576 [==============================] - 6s 10ms/step - loss: 0.6884 - acc: 0.5729 - val_loss: 0.6758 - val_acc: 0.6094\n",
      "Epoch 2/50\n",
      "576/576 [==============================] - 4s 6ms/step - loss: 0.6231 - acc: 0.7726 - val_loss: 0.5202 - val_acc: 0.8281\n",
      "Epoch 3/50\n",
      "576/576 [==============================] - 4s 6ms/step - loss: 0.4733 - acc: 0.8368 - val_loss: 0.4788 - val_acc: 0.8125\n",
      "Epoch 4/50\n",
      "576/576 [==============================] - 4s 6ms/step - loss: 0.2975 - acc: 0.9063 - val_loss: 0.2608 - val_acc: 0.8906\n",
      "Epoch 5/50\n",
      "576/576 [==============================] - 4s 6ms/step - loss: 0.2098 - acc: 0.9583 - val_loss: 0.2419 - val_acc: 0.9062\n",
      "Epoch 6/50\n",
      "576/576 [==============================] - 4s 6ms/step - loss: 0.0715 - acc: 0.9861 - val_loss: 0.1762 - val_acc: 0.9219\n",
      "Epoch 7/50\n",
      "576/576 [==============================] - 3s 6ms/step - loss: 0.0992 - acc: 0.9826 - val_loss: 0.2553 - val_acc: 0.9062\n",
      "Epoch 8/50\n",
      "576/576 [==============================] - 4s 6ms/step - loss: 0.1010 - acc: 0.9896 - val_loss: 0.1058 - val_acc: 1.0000\n",
      "Epoch 9/50\n",
      "576/576 [==============================] - 4s 6ms/step - loss: 0.0301 - acc: 0.9983 - val_loss: 0.0632 - val_acc: 0.9688\n",
      "Epoch 10/50\n",
      "576/576 [==============================] - 4s 6ms/step - loss: 0.0175 - acc: 0.9948 - val_loss: 0.2711 - val_acc: 0.8750\n",
      "Epoch 11/50\n",
      "576/576 [==============================] - 4s 6ms/step - loss: 0.0126 - acc: 0.9948 - val_loss: 0.1409 - val_acc: 0.9531\n",
      "Epoch 12/50\n",
      "576/576 [==============================] - 4s 6ms/step - loss: 0.0052 - acc: 1.0000 - val_loss: 0.0914 - val_acc: 0.9688\n",
      "Epoch 13/50\n",
      "576/576 [==============================] - 4s 6ms/step - loss: 0.0046 - acc: 1.0000 - val_loss: 0.0656 - val_acc: 0.9844\n",
      "Epoch 14/50\n",
      "576/576 [==============================] - 4s 6ms/step - loss: 0.0027 - acc: 1.0000 - val_loss: 0.0603 - val_acc: 0.9844\n",
      "Epoch 15/50\n",
      "576/576 [==============================] - 4s 6ms/step - loss: 0.0017 - acc: 1.0000 - val_loss: 0.1177 - val_acc: 0.9688\n",
      "Epoch 16/50\n",
      "576/576 [==============================] - 4s 6ms/step - loss: 0.0091 - acc: 0.9983 - val_loss: 0.2227 - val_acc: 0.9531\n",
      "Epoch 17/50\n",
      "576/576 [==============================] - 4s 6ms/step - loss: 0.0030 - acc: 1.0000 - val_loss: 0.0925 - val_acc: 0.9688\n",
      "Epoch 18/50\n",
      "576/576 [==============================] - 4s 6ms/step - loss: 0.0039 - acc: 0.9983 - val_loss: 0.3485 - val_acc: 0.8750\n",
      "Epoch 19/50\n",
      "576/576 [==============================] - 4s 6ms/step - loss: 0.1213 - acc: 0.9601 - val_loss: 0.2429 - val_acc: 0.9062\n",
      "Epoch 20/50\n",
      "576/576 [==============================] - 4s 6ms/step - loss: 0.0237 - acc: 1.0000 - val_loss: 0.0126 - val_acc: 1.0000\n",
      "Epoch 21/50\n",
      "576/576 [==============================] - 4s 6ms/step - loss: 0.0252 - acc: 0.9931 - val_loss: 0.0868 - val_acc: 0.9531\n",
      "Epoch 22/50\n",
      "576/576 [==============================] - 4s 6ms/step - loss: 0.0175 - acc: 0.9965 - val_loss: 0.0861 - val_acc: 0.9688\n",
      "Epoch 23/50\n",
      "576/576 [==============================] - 4s 6ms/step - loss: 0.0048 - acc: 1.0000 - val_loss: 0.0569 - val_acc: 0.9688\n",
      "Epoch 24/50\n",
      "576/576 [==============================] - 4s 6ms/step - loss: 0.0013 - acc: 1.0000 - val_loss: 0.0605 - val_acc: 0.9688\n",
      "Epoch 25/50\n",
      "576/576 [==============================] - 4s 6ms/step - loss: 0.0042 - acc: 0.9983 - val_loss: 0.0270 - val_acc: 0.9844\n",
      "Epoch 26/50\n",
      "576/576 [==============================] - 4s 6ms/step - loss: 9.5367e-04 - acc: 1.0000 - val_loss: 0.0211 - val_acc: 0.9844\n",
      "Epoch 27/50\n",
      "576/576 [==============================] - 4s 6ms/step - loss: 9.6787e-04 - acc: 1.0000 - val_loss: 0.0178 - val_acc: 0.9844\n",
      "Epoch 28/50\n",
      "576/576 [==============================] - 4s 6ms/step - loss: 8.1449e-04 - acc: 1.0000 - val_loss: 0.0157 - val_acc: 1.0000\n",
      "Epoch 29/50\n",
      "576/576 [==============================] - 4s 6ms/step - loss: 6.1922e-04 - acc: 1.0000 - val_loss: 0.0149 - val_acc: 1.0000\n",
      "Epoch 30/50\n",
      "576/576 [==============================] - 4s 6ms/step - loss: 4.5933e-04 - acc: 1.0000 - val_loss: 0.0155 - val_acc: 1.0000\n",
      "Epoch 31/50\n",
      "576/576 [==============================] - 4s 6ms/step - loss: 3.4828e-04 - acc: 1.0000 - val_loss: 0.0179 - val_acc: 1.0000\n",
      "Epoch 32/50\n",
      "576/576 [==============================] - 4s 6ms/step - loss: 2.7633e-04 - acc: 1.0000 - val_loss: 0.0218 - val_acc: 0.9844\n",
      "Epoch 33/50\n",
      "576/576 [==============================] - 4s 6ms/step - loss: 2.3236e-04 - acc: 1.0000 - val_loss: 0.0263 - val_acc: 0.9844\n",
      "Epoch 34/50\n",
      "576/576 [==============================] - 4s 6ms/step - loss: 2.0706e-04 - acc: 1.0000 - val_loss: 0.0292 - val_acc: 0.9844\n",
      "Epoch 35/50\n",
      "576/576 [==============================] - 4s 6ms/step - loss: 1.9053e-04 - acc: 1.0000 - val_loss: 0.0288 - val_acc: 0.9844\n",
      "Epoch 36/50\n",
      "576/576 [==============================] - 3s 6ms/step - loss: 1.7502e-04 - acc: 1.0000 - val_loss: 0.0261 - val_acc: 0.9844\n",
      "Epoch 37/50\n",
      "576/576 [==============================] - 3s 6ms/step - loss: 1.5998e-04 - acc: 1.0000 - val_loss: 0.0232 - val_acc: 0.9844\n",
      "Epoch 38/50\n",
      "576/576 [==============================] - 4s 6ms/step - loss: 1.4710e-04 - acc: 1.0000 - val_loss: 0.0210 - val_acc: 0.9844\n",
      "Epoch 39/50\n",
      "576/576 [==============================] - 4s 6ms/step - loss: 1.3633e-04 - acc: 1.0000 - val_loss: 0.0197 - val_acc: 0.9844\n",
      "Epoch 40/50\n",
      "576/576 [==============================] - 4s 6ms/step - loss: 1.2712e-04 - acc: 1.0000 - val_loss: 0.0188 - val_acc: 1.0000\n",
      "Epoch 41/50\n",
      "576/576 [==============================] - 4s 6ms/step - loss: 1.1909e-04 - acc: 1.0000 - val_loss: 0.0183 - val_acc: 1.0000\n",
      "Epoch 42/50\n",
      "576/576 [==============================] - 4s 6ms/step - loss: 1.1204e-04 - acc: 1.0000 - val_loss: 0.0179 - val_acc: 1.0000\n",
      "Epoch 43/50\n",
      "576/576 [==============================] - 4s 6ms/step - loss: 1.0579e-04 - acc: 1.0000 - val_loss: 0.0175 - val_acc: 1.0000\n",
      "Epoch 44/50\n",
      "576/576 [==============================] - 4s 6ms/step - loss: 1.0019e-04 - acc: 1.0000 - val_loss: 0.0170 - val_acc: 1.0000\n",
      "Epoch 45/50\n",
      "576/576 [==============================] - 4s 6ms/step - loss: 9.5112e-05 - acc: 1.0000 - val_loss: 0.0164 - val_acc: 1.0000\n",
      "Epoch 46/50\n",
      "576/576 [==============================] - 4s 6ms/step - loss: 9.0468e-05 - acc: 1.0000 - val_loss: 0.0158 - val_acc: 1.0000\n",
      "Epoch 47/50\n",
      "576/576 [==============================] - 4s 6ms/step - loss: 8.6185e-05 - acc: 1.0000 - val_loss: 0.0152 - val_acc: 1.0000\n",
      "Epoch 48/50\n",
      "576/576 [==============================] - 4s 6ms/step - loss: 8.2227e-05 - acc: 1.0000 - val_loss: 0.0146 - val_acc: 1.0000\n",
      "Epoch 49/50\n",
      "576/576 [==============================] - 4s 6ms/step - loss: 7.8563e-05 - acc: 1.0000 - val_loss: 0.0140 - val_acc: 1.0000\n",
      "Epoch 50/50\n",
      "576/576 [==============================] - 4s 6ms/step - loss: 7.5157e-05 - acc: 1.0000 - val_loss: 0.0134 - val_acc: 1.0000\n"
     ]
    }
   ],
   "source": [
    "#Solo model,using sequential model. Model is asked to predict if unseen text is neutral\n",
    "#or hawkish.\n",
    "\n",
    "model_2 = Sequential()\n",
    "\n",
    "\n",
    "#Add embedding layer, allow for layer to retrain\n",
    "e = Embedding(vocab_size_1, 200, input_length=100, trainable=True)\n",
    "model_2.add(e)\n",
    "\n",
    "#LSTM layer\n",
    "model_2.add(LSTM(200, input_shape=(100,1)))\n",
    "#Logistic Regression classifier layer\n",
    "model_2.add(Dense(1, activation='sigmoid'))\n",
    "\n",
    "#Compile model, same loss function and optimizer as main model from the collaborative net above\n",
    "model_2.compile(optimizer='Adam', loss='binary_crossentropy', metrics=['acc'])\n",
    " \n",
    "#Fit the model\n",
    "history_2 = model_2.fit(X_train_1, y_train_1, shuffle=False, batch_size=100, epochs=50, \n",
    "           validation_split=0.10,verbose=1)\n",
    "\n",
    "#Evaluate the model\n",
    "model_2.evaluate(X_test_1,y_test_1, verbose=2,batch_size=100)\n",
    "\n",
    "pred_ldense = model_2.predict(X_test_1, batch_size=10,verbose=2)"
   ]
  },
  {
   "cell_type": "code",
   "execution_count": 23,
   "metadata": {},
   "outputs": [
    {
     "name": "stdout",
     "output_type": "stream",
     "text": [
      "[[71  4]\n",
      " [ 0 85]]\n",
      "0.9770114942528736\n"
     ]
    }
   ],
   "source": [
    "#Confusion matrix and F1 score for solo model.\n",
    "print_metrics(pred_ldense,y_test_1)"
   ]
  },
  {
   "cell_type": "code",
   "execution_count": 24,
   "metadata": {},
   "outputs": [
    {
     "data": {
      "image/png": "[encoded data removed]",
      "text/plain": [
       "<matplotlib.figure.Figure at 0x136b87dd0>"
      ]
     },
     "metadata": {},
     "output_type": "display_data"
    },
    {
     "data": {
      "image/png": "[encoded data removed]",
      "text/plain": [
       "<matplotlib.figure.Figure at 0x124154950>"
      ]
     },
     "metadata": {},
     "output_type": "display_data"
    }
   ],
   "source": [
    "#Plot model path over 50 epochs.  \n",
    "plot_model_solo(history_2)"
   ]
  }
 ],
 "metadata": {
  "kernelspec": {
   "display_name": "Python 2",
   "language": "python",
   "name": "python2"
  },
  "language_info": {
   "codemirror_mode": {
    "name": "ipython",
    "version": 2
   },
   "file_extension": ".py",
   "mimetype": "text/x-python",
   "name": "python",
   "nbconvert_exporter": "python",
   "pygments_lexer": "ipython2",
   "version": "2.7.14"
  }
 },
 "nbformat": 4,
 "nbformat_minor": 2
}
