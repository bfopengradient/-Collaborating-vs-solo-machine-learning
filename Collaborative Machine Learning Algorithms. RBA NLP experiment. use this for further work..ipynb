{
 "cells": [
  {
   "cell_type": "markdown",
   "metadata": {},
   "source": [
    "#### Testing relative performance of multiple machine learning models \"working together\" versus a solo machine learning model. \n",
    "\n",
    "#### Experiment to see how multiple neural network models might \"collaborate\" versus a solo neural network tasked with the same classification challenge. The task for both nets was to classify unseen sections of RBA text.  \n",
    "\n",
    "#### Labels relate to forward actions by the RBA. Class labels were balanced for each run. Rebalancing the classes resulted in some reduction of variance within the classes of interest. \n",
    "\n",
    "#### Results are down the bottom of the notebook. \n",
    "\n",
    "#### Three distinct but related sets of text data were passed to three separate neural nets at the same time. Each had distinct and separate text classification tasks but at the same time the two auxiliary models would be allowed to share updates as they trained with the main model. \n",
    "\n",
    "#### The three data sets are as follows:  \n",
    "\n",
    "1. Text from RBA \"deemed\" neutral.\n",
    "2. Text from RBA \"deemed\" dovish.\n",
    "3. Text from RBA \"deemed\" hawkish.\n",
    "                  \n",
    "#### Machine learning models were set to analyse paragraphs or chunks of text in blocks of around 100 words at a time. LSTM layers were used to remember sequences of 100 words at a time and find any pattern or signal.\n",
    "\n",
    "#### Oct/2018"
   ]
  },
  {
   "cell_type": "code",
   "execution_count": 1,
   "metadata": {},
   "outputs": [
    {
     "name": "stderr",
     "output_type": "stream",
     "text": [
      "Using TensorFlow backend.\n"
     ]
    }
   ],
   "source": [
    "#multiple seeded runs ..  oct 24th..42 , 12 , 112 .. all consistent outperformed solo..\n",
    "\n",
    "import os\n",
    "import shutil\n",
    "import time, glob\n",
    "\n",
    "#Tensorflow\n",
    "import tensorflow as tf \n",
    "\n",
    "#Pandas\n",
    "import pandas as pd\n",
    "from pandas import read_csv\n",
    "\n",
    "#Numpy\n",
    "import numpy as np\n",
    "from numpy import array\n",
    "from array import array\n",
    "from numpy import argmax\n",
    "from numpy import zeros\n",
    "\n",
    "#Randoms\n",
    "import os\n",
    "from tqdm import tqdm \n",
    "from itertools import cycle\n",
    "import logging\n",
    "logging.basicConfig(format='%(asctime)s : %(levelname)s : %(message)s', level=logging.INFO)\n",
    "import string\n",
    "\n",
    "#Matplotlib  \n",
    "%matplotlib inline\n",
    "import matplotlib.pyplot as plt\n",
    "\n",
    "\n",
    "#SK Learn\n",
    "import sklearn\n",
    "from sklearn.model_selection import train_test_split\n",
    "from sklearn import metrics\n",
    "from sklearn import preprocessing\n",
    "from sklearn.externals import joblib\n",
    "from sklearn.metrics import classification_report\n",
    "from sklearn.metrics import confusion_matrix\n",
    "from sklearn.metrics import f1_score\n",
    "from sklearn.utils import resample\n",
    " \n",
    "   \n",
    "#Keras\n",
    "import keras\n",
    "from keras.engine import Input\n",
    "from keras.models import Model\n",
    "from keras.layers.merge import dot\n",
    "from keras.utils import plot_model\n",
    "from keras import backend as K\n",
    "from keras import callbacks\n",
    "from keras import layers\n",
    "from keras import models\n",
    "from keras.wrappers.scikit_learn import KerasClassifier\n",
    "from keras.callbacks import ModelCheckpoint\n",
    "from keras.callbacks import ReduceLROnPlateau\n",
    "from keras.models import Sequential\n",
    "from keras.layers import Dense\n",
    "from keras.wrappers.scikit_learn import KerasClassifier\n",
    "from keras.preprocessing.text import Tokenizer\n",
    "from keras.preprocessing.sequence import pad_sequences\n",
    "from keras.utils.np_utils import to_categorical\n",
    "from keras.layers import Input, Dense, Flatten\n",
    "from keras.layers import Conv1D, MaxPooling1D\n",
    "from keras.layers import TimeDistributed\n",
    "from keras.layers.wrappers import TimeDistributed, Bidirectional\n",
    "from keras.layers.embeddings import Embedding\n",
    "from keras.layers.recurrent import LSTM, GRU\n",
    "from keras.layers.core import Dense, Masking\n",
    "from keras import regularizers\n",
    "from keras.layers import Flatten\n",
    "from keras.layers import Embedding\n",
    "from keras.layers import Dropout, Input\n",
    "from keras.layers.noise import GaussianNoise\n",
    "from keras.layers import LSTM\n",
    "from keras import optimizers\n",
    "from keras import regularizers\n",
    "from keras.layers import Merge\n",
    "from keras.layers.convolutional import Convolution2D, MaxPooling2D, ZeroPadding2D\n",
    "from keras.layers.core import Dense, Activation, Dropout, Reshape, Flatten\n",
    "from keras.utils.np_utils import to_categorical\n",
    "    \n",
    "#Print Confusion matrix and F1 score\n",
    "def print_metrics(self,y):\n",
    "    pred_round_1 = np.round(self, decimals=0,out=None)\n",
    "    f1 = f1_score(y, pred_round_1,average='binary')\n",
    "    con_1= confusion_matrix(y, pred_round_1)\n",
    "    print(con_1)\n",
    "    print(f1)\n",
    "    \n",
    "    \n",
    "#Plot convergence path for collaborative model   \n",
    "def plot_model(self): \n",
    "    plt.plot(self.history['main_output_acc'])\n",
    "    plt.plot(self.history['val_main_output_acc'])\n",
    "    plt.title('model accuracy')\n",
    "    plt.ylabel('accuracy')\n",
    "    plt.xlabel('epoch')\n",
    "    plt.legend(['train', 'val'], loc='upper left')\n",
    "    plt.show()     \n",
    "    plt.plot(self.history['main_output_loss'])\n",
    "    plt.plot(self.history['val_main_output_loss'])\n",
    "    plt.title('model loss')\n",
    "    plt.ylabel('loss')\n",
    "    plt.xlabel('epoch')\n",
    "    plt.legend(['train', 'val'], loc='upper left')\n",
    "    plt.show() \n",
    "    \n",
    "#Plot convergence path for solo model  \n",
    "def plot_model_solo(self): \n",
    "    plt.plot(self.history['acc'])\n",
    "    plt.plot(self.history['val_acc'])\n",
    "    plt.title('model accuracy')\n",
    "    plt.ylabel('accuracy')\n",
    "    plt.xlabel('epoch')\n",
    "    plt.legend(['train', 'val'], loc='upper left')\n",
    "    plt.show()     \n",
    "    plt.plot(self.history['loss'])\n",
    "    plt.plot(self.history['val_loss'])\n",
    "    plt.title('model loss')\n",
    "    plt.ylabel('loss')\n",
    "    plt.xlabel('epoch')\n",
    "    plt.legend(['train', 'val'], loc='upper left')\n",
    "    plt.show() "
   ]
  },
  {
   "cell_type": "markdown",
   "metadata": {},
   "source": [
    "### Read in text files for various predictor matrices.  Three bodies of text split into \"Neutral\", \"Dovish\" and \"Hawkish\". "
   ]
  },
  {
   "cell_type": "code",
   "execution_count": 2,
   "metadata": {},
   "outputs": [
    {
     "name": "stdout",
     "output_type": "stream",
     "text": [
      "((3984, 1), (923, 1), (529, 1))\n"
     ]
    }
   ],
   "source": [
    "#Read in all files from folder relating to \"RBA neutral\"  text\n",
    "with open(\"/Users/brianfarrell/Documents/RBA do nothing/outfile\", 'wb',) as outfile:\n",
    "    for filename in glob.glob( '/Users/brianfarrell/Documents/RBA do nothing/tabula*.csv'):\n",
    "        if filename == outfile:             \n",
    "            continue\n",
    "        with open(filename, 'rb') as readfile:\n",
    "            shutil.copyfileobj(readfile, outfile)\n",
    "#Save \"RBA neutral\" text\n",
    "x = pd.read_fwf('/Users/brianfarrell/Documents/RBA do nothing/outfile',\n",
    "                sep=\".\",encoding='utf8',usecols=[0], header=None)\n",
    "x.rename(columns={0:'text'},inplace=True)\n",
    "\n",
    "\n",
    "             \n",
    "#Open and read in all files relating to \"RBA dovish\" text\n",
    "with open(\"/Users/brianfarrell/Documents/RBA ease/rba_ease.csv\", 'wb',) as outfile:\n",
    "    for filename in glob.glob('/Users/brianfarrell/Documents/RBA ease/tabula*.csv',):\n",
    "        if filename == outfile:            \n",
    "            continue\n",
    "        with open(filename, 'rb') as readfile:\n",
    "            shutil.copyfileobj(readfile, outfile) \n",
    "#Save \"RBA dovish\" text\n",
    "x1 = pd.read_fwf('/Users/brianfarrell/Documents/RBA ease/rba_ease.csv',sep=\".\",encoding='utf8',\n",
    "                 usecols=[0], header=None)\n",
    "x1.rename(columns={0:'text'},inplace=True) \n",
    "\n",
    "\n",
    "#Read in all files relating to \"RBA hawkish\" text \n",
    "with open(\"/Users/brianfarrell/Documents/RBA hike/rba_hike.csv\", 'wb',) as outfile:\n",
    "    for filename in glob.glob('/Users/brianfarrell/Documents/RBA hike/tabula*.csv',):\n",
    "        if filename == outfile:             \n",
    "            continue\n",
    "        with open(filename, 'rb') as readfile:\n",
    "            shutil.copyfileobj(readfile, outfile) \n",
    "#Save \"RBA hawkish\" text\n",
    "x2 = pd.read_fwf('/Users/brianfarrell/Documents/RBA hike/rba_hike.csv',sep=\".\",\n",
    "                encoding='utf8',usecols=[0], header=None)\n",
    "x2.rename(columns={0:'text'},inplace=True)\n",
    " \n",
    " \n",
    "\n",
    "print(x.shape,x1.shape,x2.shape)"
   ]
  },
  {
   "cell_type": "markdown",
   "metadata": {},
   "source": [
    "### Define binary class labels for each neural net."
   ]
  },
  {
   "cell_type": "code",
   "execution_count": 3,
   "metadata": {},
   "outputs": [
    {
     "name": "stdout",
     "output_type": "stream",
     "text": [
      "((5436, 1), (400,), (400,))\n"
     ]
    }
   ],
   "source": [
    "#Define DF for text enocoding below. \n",
    "result= pd.concat([x,x1,x2])\n",
    "#Set target class label array for each Neural Net\n",
    "labels_zeros = np.zeros(400,)\n",
    "labels_ones = np.ones(400,)\n",
    "\n",
    "print(result.shape, labels_zeros.shape,labels_ones.shape)"
   ]
  },
  {
   "cell_type": "markdown",
   "metadata": {},
   "source": [
    "### Tokenize, encode and pad. No NLP preprocessing performed(eg, no punctuation or stopwords removed, no Stemming or Lemmatizing)."
   ]
  },
  {
   "cell_type": "code",
   "execution_count": 4,
   "metadata": {},
   "outputs": [
    {
     "name": "stdout",
     "output_type": "stream",
     "text": [
      "(2298, (3984, 10), (923, 10), (529, 10))\n"
     ]
    }
   ],
   "source": [
    "#Using one Tokinizer to fit on entire text from three files to allow for widest vocabulary index.\n",
    "\n",
    "#Encode blocks of 10 tokens at a time.\n",
    "max_length = 10\n",
    "\n",
    "t_1 = Tokenizer()\n",
    "docs_1= result['text']\n",
    "#Neutral\n",
    "docs_2 = x['text']\n",
    "#Dovish\n",
    "docs_3 = x1['text']\n",
    "#Hawkish\n",
    "docs_4 = x2['text']\n",
    " \n",
    "\n",
    "\n",
    "#Used the following Tokenizer to help encode all three predictor arrays for each Neural Network.\n",
    "#Each word and punctuation is assigned a unique integer. From there each word is effectively\n",
    "#assigned a 200 dimension word embedding vector. Each dimension represents a conversational context.\n",
    "#Number of contexts is decided upfront depending on the size and complexity of the target corpus. \n",
    "\n",
    "t_1.fit_on_texts(docs_1)\n",
    "vocab_size_1 = len(t_1.word_index) + 1\n",
    "\n",
    "#Neutral\n",
    "encoded_docs_1 = t_1.texts_to_sequences(docs_2)\n",
    "#Dovish\n",
    "encoded_docs_2 = t_1.texts_to_sequences(docs_3)\n",
    "#Hawkish\n",
    "encoded_docs_3 = t_1.texts_to_sequences(docs_4)\n",
    " \n",
    "\n",
    "\n",
    "#Neutral\n",
    "padded_docs_1 = pad_sequences(encoded_docs_1, maxlen=max_length, padding='post')\n",
    "#Dovish\n",
    "padded_docs_2 = pad_sequences(encoded_docs_2, maxlen=max_length, padding='post')\n",
    "#Hawkish\n",
    "padded_docs_3 = pad_sequences(encoded_docs_3, maxlen=max_length, padding='post')\n",
    " \n",
    "\n",
    "print(vocab_size_1,padded_docs_1.shape,padded_docs_2.shape,padded_docs_3.shape) "
   ]
  },
  {
   "cell_type": "code",
   "execution_count": 5,
   "metadata": {},
   "outputs": [
    {
     "name": "stdout",
     "output_type": "stream",
     "text": [
      "((4000, 10), (1000, 10), (600, 10))\n"
     ]
    }
   ],
   "source": [
    "#Subjectively decided to round up using top of text files as the top and bottom of corpus\n",
    "#tends to have important content.\n",
    " \n",
    "#Rounding up before reshaping\n",
    "#RBA neutral text enlarged\n",
    "padded_docs_4= padded_docs_1[0:16]\n",
    "padded_docs_5 = np.concatenate((padded_docs_1,padded_docs_4),axis=0)\n",
    " \n",
    "\n",
    "#Rounding up before reshaping\n",
    "#RBA dovish text enlarged\n",
    "padded_docs_6= padded_docs_2[0:77]\n",
    "padded_docs_7 = np.concatenate((padded_docs_2,padded_docs_6),axis=0)\n",
    " \n",
    "\n",
    "#Rounding up before reshaping\n",
    "#RBA hawkish text enlarged\n",
    "padded_docs_8= padded_docs_3[0:71]\n",
    "padded_docs_9 = np.concatenate((padded_docs_3,padded_docs_8),axis=0)\n",
    "print(padded_docs_5.shape,padded_docs_7.shape,padded_docs_9.shape)"
   ]
  },
  {
   "cell_type": "code",
   "execution_count": 6,
   "metadata": {},
   "outputs": [
    {
     "name": "stdout",
     "output_type": "stream",
     "text": [
      "((400, 100), (100, 100), (60, 100))\n"
     ]
    }
   ],
   "source": [
    "#Reshape encoded docs for lstm layer to remember sequence of 100 word blocks at a\n",
    "#time versus each class label.\n",
    "\n",
    "#RBA neutral text\n",
    "padded_docs_5= padded_docs_5.reshape(400,100)\n",
    "#RBA dovish text\n",
    "padded_docs_7= padded_docs_7.reshape(100,100)\n",
    "#RBA hawkish text\n",
    "padded_docs_9= padded_docs_9.reshape(60,100)\n",
    " \n",
    "\n",
    "print(padded_docs_5.shape,padded_docs_7.shape,padded_docs_9.shape)"
   ]
  },
  {
   "cell_type": "code",
   "execution_count": 7,
   "metadata": {},
   "outputs": [
    {
     "name": "stdout",
     "output_type": "stream",
     "text": [
      "((400, 100), (400, 100))\n"
     ]
    }
   ],
   "source": [
    "#Upsample with replacement to rebalance other classes to size of the largest class.\n",
    "\n",
    "#Upsample dovish text\n",
    "padded_docs_2_up = resample(padded_docs_7, \n",
    "                                 replace=True,     # sample with replacement\n",
    "                                 n_samples=400,    # to match majority class\n",
    "                                 random_state=123) # reproducible results\n",
    " \n",
    "#Upsample hawkish text\n",
    "padded_docs_3_up = resample(padded_docs_9, \n",
    "                                 replace=True,     # sample with replacement\n",
    "                                 n_samples=400,    # to match majority class\n",
    "                                 random_state=123) # reproducible results\n",
    " \n",
    "\n",
    "print(padded_docs_2_up.shape,padded_docs_3_up.shape)"
   ]
  },
  {
   "cell_type": "code",
   "execution_count": 8,
   "metadata": {},
   "outputs": [
    {
     "name": "stdout",
     "output_type": "stream",
     "text": [
      "((800, 100), (800, 100), (800, 100))\n"
     ]
    }
   ],
   "source": [
    "#Create four predictor arrays and define labels.\n",
    "labels = np.concatenate((labels_zeros,labels_ones),axis=0)\n",
    "#Assert label array shape\n",
    "labels.shape=(800,1)\n",
    "\n",
    "#Neutral or dovish predictor array.\n",
    "ne = np.concatenate((padded_docs_5,padded_docs_2_up),axis=0)\n",
    "\n",
    "#Neutral or hawkish predictor array.\n",
    "nh = np.concatenate((padded_docs_5,padded_docs_3_up),axis=0)\n",
    "  \n",
    "#Dovish or hawkish predictor array.\n",
    "eh = np.concatenate((padded_docs_2_up,padded_docs_3_up),axis=0)\n",
    "\n",
    " \n",
    "\n",
    "print(ne.shape,nh.shape,eh.shape)"
   ]
  },
  {
   "cell_type": "code",
   "execution_count": 9,
   "metadata": {},
   "outputs": [],
   "source": [
    "#Split arrays into train/test(80/20) for each neural network. Seeded split.\n",
    "X_train_1,X_test_1,y_train_1,y_test_1 = train_test_split(nh,labels,test_size=0.20, shuffle=True,random_state=112)\n",
    "X_train_2,X_test_2,y_train_2,y_test_2 = train_test_split(eh,labels, test_size=0.20, shuffle=True,random_state=112)\n",
    "X_train_3,X_test_3,y_train_3,y_test_3 = train_test_split(ne,labels, test_size=0.20, shuffle=True,random_state=112)"
   ]
  },
  {
   "cell_type": "code",
   "execution_count": 10,
   "metadata": {
    "scrolled": true
   },
   "outputs": [
    {
     "name": "stdout",
     "output_type": "stream",
     "text": [
      "Train on 576 samples, validate on 64 samples\n",
      "Epoch 1/50\n",
      "576/576 [==============================] - 10s 17ms/step - loss: 2.2116 - main_output_loss: 0.8563 - aux_output_1_loss: 0.6703 - aux_output_2_loss: 0.6850 - main_output_acc: 0.6042 - aux_output_1_acc: 0.6545 - aux_output_2_acc: 0.5903 - val_loss: 1.9014 - val_main_output_loss: 0.6325 - val_aux_output_1_loss: 0.6077 - val_aux_output_2_loss: 0.6612 - val_main_output_acc: 0.7500 - val_aux_output_1_acc: 0.8125 - val_aux_output_2_acc: 0.6875\n",
      "Epoch 2/50\n",
      "576/576 [==============================] - 7s 12ms/step - loss: 2.3612 - main_output_loss: 0.6076 - aux_output_1_loss: 0.7812 - aux_output_2_loss: 0.9724 - main_output_acc: 0.8021 - aux_output_1_acc: 0.8194 - aux_output_2_acc: 0.7743 - val_loss: 1.5100 - val_main_output_loss: 0.4177 - val_aux_output_1_loss: 0.4639 - val_aux_output_2_loss: 0.6284 - val_main_output_acc: 0.8438 - val_aux_output_1_acc: 0.7969 - val_aux_output_2_acc: 0.6719\n",
      "Epoch 3/50\n",
      "576/576 [==============================] - 7s 11ms/step - loss: 1.2130 - main_output_loss: 0.3315 - aux_output_1_loss: 0.3962 - aux_output_2_loss: 0.4852 - main_output_acc: 0.9132 - aux_output_1_acc: 0.8993 - aux_output_2_acc: 0.8750 - val_loss: 1.2733 - val_main_output_loss: 0.3046 - val_aux_output_1_loss: 0.4117 - val_aux_output_2_loss: 0.5570 - val_main_output_acc: 0.9062 - val_aux_output_1_acc: 0.9062 - val_aux_output_2_acc: 0.7812\n",
      "Epoch 4/50\n",
      "576/576 [==============================] - 7s 12ms/step - loss: 0.8927 - main_output_loss: 0.1562 - aux_output_1_loss: 0.2578 - aux_output_2_loss: 0.4786 - main_output_acc: 0.9635 - aux_output_1_acc: 0.9497 - aux_output_2_acc: 0.8611 - val_loss: 1.0698 - val_main_output_loss: 0.2657 - val_aux_output_1_loss: 0.2752 - val_aux_output_2_loss: 0.5290 - val_main_output_acc: 0.9844 - val_aux_output_1_acc: 0.9688 - val_aux_output_2_acc: 0.8281\n",
      "Epoch 5/50\n",
      "576/576 [==============================] - 7s 12ms/step - loss: 0.4835 - main_output_loss: 0.0893 - aux_output_1_loss: 0.1299 - aux_output_2_loss: 0.2644 - main_output_acc: 0.9931 - aux_output_1_acc: 0.9774 - aux_output_2_acc: 0.9427 - val_loss: 0.7372 - val_main_output_loss: 0.0957 - val_aux_output_1_loss: 0.1383 - val_aux_output_2_loss: 0.5031 - val_main_output_acc: 0.9688 - val_aux_output_1_acc: 0.9375 - val_aux_output_2_acc: 0.8438\n",
      "Epoch 6/50\n",
      "576/576 [==============================] - 7s 12ms/step - loss: 0.4355 - main_output_loss: 0.0628 - aux_output_1_loss: 0.1128 - aux_output_2_loss: 0.2599 - main_output_acc: 0.9913 - aux_output_1_acc: 0.9705 - aux_output_2_acc: 0.8976 - val_loss: 0.6989 - val_main_output_loss: 0.0571 - val_aux_output_1_loss: 0.0522 - val_aux_output_2_loss: 0.5896 - val_main_output_acc: 0.9531 - val_aux_output_1_acc: 0.9531 - val_aux_output_2_acc: 0.6875\n",
      "Epoch 7/50\n",
      "576/576 [==============================] - 7s 11ms/step - loss: 0.2263 - main_output_loss: 0.0155 - aux_output_1_loss: 0.0280 - aux_output_2_loss: 0.1828 - main_output_acc: 1.0000 - aux_output_1_acc: 0.9965 - aux_output_2_acc: 0.9618 - val_loss: 0.5624 - val_main_output_loss: 0.0294 - val_aux_output_1_loss: 0.0104 - val_aux_output_2_loss: 0.5225 - val_main_output_acc: 1.0000 - val_aux_output_1_acc: 1.0000 - val_aux_output_2_acc: 0.7969\n",
      "Epoch 8/50\n",
      "576/576 [==============================] - 7s 11ms/step - loss: 0.1279 - main_output_loss: 0.0071 - aux_output_1_loss: 0.0253 - aux_output_2_loss: 0.0955 - main_output_acc: 1.0000 - aux_output_1_acc: 0.9948 - aux_output_2_acc: 0.9844 - val_loss: 0.6273 - val_main_output_loss: 0.0305 - val_aux_output_1_loss: 0.0096 - val_aux_output_2_loss: 0.5872 - val_main_output_acc: 1.0000 - val_aux_output_1_acc: 1.0000 - val_aux_output_2_acc: 0.7969\n",
      "Epoch 9/50\n",
      "576/576 [==============================] - 7s 12ms/step - loss: 0.0761 - main_output_loss: 0.0044 - aux_output_1_loss: 0.0127 - aux_output_2_loss: 0.0590 - main_output_acc: 1.0000 - aux_output_1_acc: 1.0000 - aux_output_2_acc: 0.9948 - val_loss: 0.8694 - val_main_output_loss: 0.0235 - val_aux_output_1_loss: 0.0469 - val_aux_output_2_loss: 0.7990 - val_main_output_acc: 1.0000 - val_aux_output_1_acc: 0.9844 - val_aux_output_2_acc: 0.8125\n",
      "Epoch 10/50\n",
      "576/576 [==============================] - 7s 12ms/step - loss: 0.0981 - main_output_loss: 0.0032 - aux_output_1_loss: 0.0070 - aux_output_2_loss: 0.0880 - main_output_acc: 1.0000 - aux_output_1_acc: 0.9983 - aux_output_2_acc: 0.9826 - val_loss: 0.6969 - val_main_output_loss: 0.0350 - val_aux_output_1_loss: 0.0250 - val_aux_output_2_loss: 0.6369 - val_main_output_acc: 0.9844 - val_aux_output_1_acc: 0.9844 - val_aux_output_2_acc: 0.7969\n",
      "Epoch 11/50\n",
      "576/576 [==============================] - 7s 12ms/step - loss: 0.0497 - main_output_loss: 0.0015 - aux_output_1_loss: 0.0020 - aux_output_2_loss: 0.0462 - main_output_acc: 1.0000 - aux_output_1_acc: 1.0000 - aux_output_2_acc: 0.9965 - val_loss: 0.7681 - val_main_output_loss: 0.0212 - val_aux_output_1_loss: 0.0471 - val_aux_output_2_loss: 0.6998 - val_main_output_acc: 1.0000 - val_aux_output_1_acc: 0.9844 - val_aux_output_2_acc: 0.7969\n",
      "Epoch 12/50\n",
      "576/576 [==============================] - 7s 12ms/step - loss: 0.1195 - main_output_loss: 8.9922e-04 - aux_output_1_loss: 0.0012 - aux_output_2_loss: 0.1174 - main_output_acc: 1.0000 - aux_output_1_acc: 1.0000 - aux_output_2_acc: 0.9583 - val_loss: 0.8853 - val_main_output_loss: 0.0357 - val_aux_output_1_loss: 0.0233 - val_aux_output_2_loss: 0.8263 - val_main_output_acc: 0.9844 - val_aux_output_1_acc: 0.9844 - val_aux_output_2_acc: 0.7031\n",
      "Epoch 13/50\n",
      "576/576 [==============================] - 7s 12ms/step - loss: 0.3317 - main_output_loss: 0.0470 - aux_output_1_loss: 0.1877 - aux_output_2_loss: 0.0970 - main_output_acc: 0.9948 - aux_output_1_acc: 0.9427 - aux_output_2_acc: 0.9774 - val_loss: 0.9021 - val_main_output_loss: 0.1487 - val_aux_output_1_loss: 0.0979 - val_aux_output_2_loss: 0.6555 - val_main_output_acc: 0.9219 - val_aux_output_1_acc: 0.9844 - val_aux_output_2_acc: 0.7812\n",
      "Epoch 14/50\n",
      "576/576 [==============================] - 7s 12ms/step - loss: 0.0867 - main_output_loss: 0.0181 - aux_output_1_loss: 0.0525 - aux_output_2_loss: 0.0161 - main_output_acc: 0.9965 - aux_output_1_acc: 0.9931 - aux_output_2_acc: 1.0000 - val_loss: 0.8859 - val_main_output_loss: 0.0991 - val_aux_output_1_loss: 0.0395 - val_aux_output_2_loss: 0.7474 - val_main_output_acc: 0.9688 - val_aux_output_1_acc: 1.0000 - val_aux_output_2_acc: 0.7656\n",
      "Epoch 15/50\n",
      "576/576 [==============================] - 7s 12ms/step - loss: 0.0308 - main_output_loss: 0.0047 - aux_output_1_loss: 0.0181 - aux_output_2_loss: 0.0080 - main_output_acc: 1.0000 - aux_output_1_acc: 1.0000 - aux_output_2_acc: 1.0000 - val_loss: 0.8930 - val_main_output_loss: 0.0800 - val_aux_output_1_loss: 0.0196 - val_aux_output_2_loss: 0.7935 - val_main_output_acc: 0.9688 - val_aux_output_1_acc: 1.0000 - val_aux_output_2_acc: 0.8281\n",
      "Epoch 16/50\n",
      "576/576 [==============================] - 7s 12ms/step - loss: 0.0149 - main_output_loss: 0.0018 - aux_output_1_loss: 0.0083 - aux_output_2_loss: 0.0048 - main_output_acc: 1.0000 - aux_output_1_acc: 1.0000 - aux_output_2_acc: 1.0000 - val_loss: 0.9500 - val_main_output_loss: 0.0662 - val_aux_output_1_loss: 0.0117 - val_aux_output_2_loss: 0.8721 - val_main_output_acc: 0.9688 - val_aux_output_1_acc: 1.0000 - val_aux_output_2_acc: 0.7969\n",
      "Epoch 17/50\n",
      "576/576 [==============================] - 7s 12ms/step - loss: 0.0100 - main_output_loss: 8.6418e-04 - aux_output_1_loss: 0.0044 - aux_output_2_loss: 0.0047 - main_output_acc: 1.0000 - aux_output_1_acc: 1.0000 - aux_output_2_acc: 0.9983 - val_loss: 1.0010 - val_main_output_loss: 0.0577 - val_aux_output_1_loss: 0.0084 - val_aux_output_2_loss: 0.9349 - val_main_output_acc: 0.9688 - val_aux_output_1_acc: 1.0000 - val_aux_output_2_acc: 0.7656\n",
      "Epoch 18/50\n",
      "576/576 [==============================] - 7s 12ms/step - loss: 0.0873 - main_output_loss: 0.0014 - aux_output_1_loss: 0.0025 - aux_output_2_loss: 0.0834 - main_output_acc: 1.0000 - aux_output_1_acc: 1.0000 - aux_output_2_acc: 0.9688 - val_loss: 0.8741 - val_main_output_loss: 0.0217 - val_aux_output_1_loss: 0.0079 - val_aux_output_2_loss: 0.8445 - val_main_output_acc: 1.0000 - val_aux_output_1_acc: 1.0000 - val_aux_output_2_acc: 0.7500\n",
      "Epoch 19/50\n"
     ]
    },
    {
     "name": "stdout",
     "output_type": "stream",
     "text": [
      "576/576 [==============================] - 7s 12ms/step - loss: 0.0096 - main_output_loss: 3.5052e-04 - aux_output_1_loss: 0.0015 - aux_output_2_loss: 0.0078 - main_output_acc: 1.0000 - aux_output_1_acc: 1.0000 - aux_output_2_acc: 1.0000 - val_loss: 0.9116 - val_main_output_loss: 0.0201 - val_aux_output_1_loss: 0.0087 - val_aux_output_2_loss: 0.8828 - val_main_output_acc: 1.0000 - val_aux_output_1_acc: 1.0000 - val_aux_output_2_acc: 0.8125\n",
      "Epoch 20/50\n",
      "576/576 [==============================] - 7s 12ms/step - loss: 0.0049 - main_output_loss: 2.2494e-04 - aux_output_1_loss: 9.9353e-04 - aux_output_2_loss: 0.0037 - main_output_acc: 1.0000 - aux_output_1_acc: 1.0000 - aux_output_2_acc: 1.0000 - val_loss: 0.9730 - val_main_output_loss: 0.0184 - val_aux_output_1_loss: 0.0113 - val_aux_output_2_loss: 0.9433 - val_main_output_acc: 1.0000 - val_aux_output_1_acc: 1.0000 - val_aux_output_2_acc: 0.8281\n",
      "Epoch 21/50\n",
      "576/576 [==============================] - 7s 12ms/step - loss: 0.0030 - main_output_loss: 1.5476e-04 - aux_output_1_loss: 6.5535e-04 - aux_output_2_loss: 0.0022 - main_output_acc: 1.0000 - aux_output_1_acc: 1.0000 - aux_output_2_acc: 1.0000 - val_loss: 1.0412 - val_main_output_loss: 0.0165 - val_aux_output_1_loss: 0.0191 - val_aux_output_2_loss: 1.0056 - val_main_output_acc: 1.0000 - val_aux_output_1_acc: 0.9844 - val_aux_output_2_acc: 0.8438\n",
      "Epoch 22/50\n",
      "576/576 [==============================] - 7s 12ms/step - loss: 0.0019 - main_output_loss: 1.0571e-04 - aux_output_1_loss: 4.4026e-04 - aux_output_2_loss: 0.0014 - main_output_acc: 1.0000 - aux_output_1_acc: 1.0000 - aux_output_2_acc: 1.0000 - val_loss: 1.1138 - val_main_output_loss: 0.0146 - val_aux_output_1_loss: 0.0325 - val_aux_output_2_loss: 1.0667 - val_main_output_acc: 1.0000 - val_aux_output_1_acc: 0.9844 - val_aux_output_2_acc: 0.8438\n",
      "Epoch 23/50\n",
      "576/576 [==============================] - 7s 12ms/step - loss: 0.0013 - main_output_loss: 7.2923e-05 - aux_output_1_loss: 3.0318e-04 - aux_output_2_loss: 8.8762e-04 - main_output_acc: 1.0000 - aux_output_1_acc: 1.0000 - aux_output_2_acc: 1.0000 - val_loss: 1.1906 - val_main_output_loss: 0.0129 - val_aux_output_1_loss: 0.0501 - val_aux_output_2_loss: 1.1276 - val_main_output_acc: 1.0000 - val_aux_output_1_acc: 0.9844 - val_aux_output_2_acc: 0.8438\n",
      "Epoch 24/50\n",
      "576/576 [==============================] - 7s 12ms/step - loss: 2.2916 - main_output_loss: 0.4448 - aux_output_1_loss: 1.3414 - aux_output_2_loss: 0.5055 - main_output_acc: 0.9271 - aux_output_1_acc: 0.8385 - aux_output_2_acc: 0.9201 - val_loss: 2.6229 - val_main_output_loss: 0.9401 - val_aux_output_1_loss: 0.6129 - val_aux_output_2_loss: 1.0699 - val_main_output_acc: 0.7500 - val_aux_output_1_acc: 0.8750 - val_aux_output_2_acc: 0.7188\n",
      "Epoch 25/50\n",
      "576/576 [==============================] - 7s 12ms/step - loss: 0.5544 - main_output_loss: 0.1361 - aux_output_1_loss: 0.1343 - aux_output_2_loss: 0.2840 - main_output_acc: 0.9479 - aux_output_1_acc: 0.9687 - aux_output_2_acc: 0.9514 - val_loss: 0.8418 - val_main_output_loss: 0.0769 - val_aux_output_1_loss: 0.0149 - val_aux_output_2_loss: 0.7500 - val_main_output_acc: 0.9688 - val_aux_output_1_acc: 1.0000 - val_aux_output_2_acc: 0.8281\n",
      "Epoch 26/50\n",
      "576/576 [==============================] - 7s 12ms/step - loss: 0.0357 - main_output_loss: 0.0029 - aux_output_1_loss: 0.0082 - aux_output_2_loss: 0.0246 - main_output_acc: 1.0000 - aux_output_1_acc: 1.0000 - aux_output_2_acc: 0.9983 - val_loss: 0.7991 - val_main_output_loss: 0.0304 - val_aux_output_1_loss: 0.0130 - val_aux_output_2_loss: 0.7557 - val_main_output_acc: 1.0000 - val_aux_output_1_acc: 1.0000 - val_aux_output_2_acc: 0.7969\n",
      "Epoch 27/50\n",
      "576/576 [==============================] - 7s 12ms/step - loss: 0.0215 - main_output_loss: 0.0014 - aux_output_1_loss: 0.0052 - aux_output_2_loss: 0.0149 - main_output_acc: 1.0000 - aux_output_1_acc: 1.0000 - aux_output_2_acc: 1.0000 - val_loss: 0.8051 - val_main_output_loss: 0.0220 - val_aux_output_1_loss: 0.0156 - val_aux_output_2_loss: 0.7675 - val_main_output_acc: 1.0000 - val_aux_output_1_acc: 0.9844 - val_aux_output_2_acc: 0.7969\n",
      "Epoch 28/50\n",
      "576/576 [==============================] - 7s 12ms/step - loss: 0.0153 - main_output_loss: 9.2507e-04 - aux_output_1_loss: 0.0037 - aux_output_2_loss: 0.0107 - main_output_acc: 1.0000 - aux_output_1_acc: 1.0000 - aux_output_2_acc: 1.0000 - val_loss: 0.8223 - val_main_output_loss: 0.0168 - val_aux_output_1_loss: 0.0235 - val_aux_output_2_loss: 0.7820 - val_main_output_acc: 1.0000 - val_aux_output_1_acc: 0.9844 - val_aux_output_2_acc: 0.7969\n",
      "Epoch 29/50\n",
      "576/576 [==============================] - 7s 12ms/step - loss: 0.0112 - main_output_loss: 6.2743e-04 - aux_output_1_loss: 0.0027 - aux_output_2_loss: 0.0078 - main_output_acc: 1.0000 - aux_output_1_acc: 1.0000 - aux_output_2_acc: 1.0000 - val_loss: 0.8471 - val_main_output_loss: 0.0136 - val_aux_output_1_loss: 0.0345 - val_aux_output_2_loss: 0.7990 - val_main_output_acc: 1.0000 - val_aux_output_1_acc: 0.9844 - val_aux_output_2_acc: 0.7969\n",
      "Epoch 30/50\n",
      "576/576 [==============================] - 7s 12ms/step - loss: 0.0082 - main_output_loss: 4.3555e-04 - aux_output_1_loss: 0.0021 - aux_output_2_loss: 0.0057 - main_output_acc: 1.0000 - aux_output_1_acc: 1.0000 - aux_output_2_acc: 1.0000 - val_loss: 0.8758 - val_main_output_loss: 0.0113 - val_aux_output_1_loss: 0.0458 - val_aux_output_2_loss: 0.8187 - val_main_output_acc: 1.0000 - val_aux_output_1_acc: 0.9844 - val_aux_output_2_acc: 0.7812\n",
      "Epoch 31/50\n",
      "576/576 [==============================] - 7s 12ms/step - loss: 0.0061 - main_output_loss: 3.0588e-04 - aux_output_1_loss: 0.0016 - aux_output_2_loss: 0.0042 - main_output_acc: 1.0000 - aux_output_1_acc: 1.0000 - aux_output_2_acc: 1.0000 - val_loss: 0.9081 - val_main_output_loss: 0.0097 - val_aux_output_1_loss: 0.0562 - val_aux_output_2_loss: 0.8421 - val_main_output_acc: 1.0000 - val_aux_output_1_acc: 0.9844 - val_aux_output_2_acc: 0.7812\n",
      "Epoch 32/50\n",
      "576/576 [==============================] - 7s 12ms/step - loss: 0.0044 - main_output_loss: 2.1523e-04 - aux_output_1_loss: 0.0012 - aux_output_2_loss: 0.0030 - main_output_acc: 1.0000 - aux_output_1_acc: 1.0000 - aux_output_2_acc: 1.0000 - val_loss: 0.9446 - val_main_output_loss: 0.0087 - val_aux_output_1_loss: 0.0648 - val_aux_output_2_loss: 0.8710 - val_main_output_acc: 1.0000 - val_aux_output_1_acc: 0.9844 - val_aux_output_2_acc: 0.7656\n",
      "Epoch 33/50\n",
      "576/576 [==============================] - 7s 12ms/step - loss: 0.0033 - main_output_loss: 1.5431e-04 - aux_output_1_loss: 9.4495e-04 - aux_output_2_loss: 0.0022 - main_output_acc: 1.0000 - aux_output_1_acc: 1.0000 - aux_output_2_acc: 1.0000 - val_loss: 0.9853 - val_main_output_loss: 0.0079 - val_aux_output_1_loss: 0.0712 - val_aux_output_2_loss: 0.9062 - val_main_output_acc: 1.0000 - val_aux_output_1_acc: 0.9844 - val_aux_output_2_acc: 0.7812\n",
      "Epoch 34/50\n",
      "576/576 [==============================] - 7s 12ms/step - loss: 0.0024 - main_output_loss: 1.1164e-04 - aux_output_1_loss: 7.3756e-04 - aux_output_2_loss: 0.0016 - main_output_acc: 1.0000 - aux_output_1_acc: 1.0000 - aux_output_2_acc: 1.0000 - val_loss: 1.0308 - val_main_output_loss: 0.0071 - val_aux_output_1_loss: 0.0765 - val_aux_output_2_loss: 0.9472 - val_main_output_acc: 1.0000 - val_aux_output_1_acc: 0.9844 - val_aux_output_2_acc: 0.7812\n",
      "Epoch 35/50\n",
      "576/576 [==============================] - 7s 12ms/step - loss: 0.0018 - main_output_loss: 8.0896e-05 - aux_output_1_loss: 5.7174e-04 - aux_output_2_loss: 0.0011 - main_output_acc: 1.0000 - aux_output_1_acc: 1.0000 - aux_output_2_acc: 1.0000 - val_loss: 1.0822 - val_main_output_loss: 0.0064 - val_aux_output_1_loss: 0.0817 - val_aux_output_2_loss: 0.9941 - val_main_output_acc: 1.0000 - val_aux_output_1_acc: 0.9844 - val_aux_output_2_acc: 0.7812\n",
      "Epoch 36/50\n",
      "576/576 [==============================] - 7s 12ms/step - loss: 0.0013 - main_output_loss: 5.8448e-05 - aux_output_1_loss: 4.3931e-04 - aux_output_2_loss: 7.8943e-04 - main_output_acc: 1.0000 - aux_output_1_acc: 1.0000 - aux_output_2_acc: 1.0000 - val_loss: 1.1401 - val_main_output_loss: 0.0059 - val_aux_output_1_loss: 0.0872 - val_aux_output_2_loss: 1.0470 - val_main_output_acc: 1.0000 - val_aux_output_1_acc: 0.9844 - val_aux_output_2_acc: 0.7812\n"
     ]
    },
    {
     "name": "stdout",
     "output_type": "stream",
     "text": [
      "Epoch 37/50\n",
      "576/576 [==============================] - 7s 12ms/step - loss: 9.3281e-04 - main_output_loss: 4.2247e-05 - aux_output_1_loss: 3.3473e-04 - aux_output_2_loss: 5.5583e-04 - main_output_acc: 1.0000 - aux_output_1_acc: 1.0000 - aux_output_2_acc: 1.0000 - val_loss: 1.2038 - val_main_output_loss: 0.0055 - val_aux_output_1_loss: 0.0931 - val_aux_output_2_loss: 1.1051 - val_main_output_acc: 1.0000 - val_aux_output_1_acc: 0.9844 - val_aux_output_2_acc: 0.7812\n",
      "Epoch 38/50\n",
      "576/576 [==============================] - 7s 12ms/step - loss: 6.7123e-04 - main_output_loss: 2.9455e-05 - aux_output_1_loss: 2.5296e-04 - aux_output_2_loss: 3.8882e-04 - main_output_acc: 1.0000 - aux_output_1_acc: 1.0000 - aux_output_2_acc: 1.0000 - val_loss: 1.2705 - val_main_output_loss: 0.0050 - val_aux_output_1_loss: 0.0984 - val_aux_output_2_loss: 1.1670 - val_main_output_acc: 1.0000 - val_aux_output_1_acc: 0.9844 - val_aux_output_2_acc: 0.7812\n",
      "Epoch 39/50\n",
      "576/576 [==============================] - 7s 12ms/step - loss: 4.8213e-04 - main_output_loss: 2.1515e-05 - aux_output_1_loss: 1.8975e-04 - aux_output_2_loss: 2.7086e-04 - main_output_acc: 1.0000 - aux_output_1_acc: 1.0000 - aux_output_2_acc: 1.0000 - val_loss: 1.3401 - val_main_output_loss: 0.0048 - val_aux_output_1_loss: 0.1047 - val_aux_output_2_loss: 1.2307 - val_main_output_acc: 1.0000 - val_aux_output_1_acc: 0.9844 - val_aux_output_2_acc: 0.7969\n",
      "Epoch 40/50\n",
      "576/576 [==============================] - 7s 12ms/step - loss: 3.4530e-04 - main_output_loss: 1.5878e-05 - aux_output_1_loss: 1.4104e-04 - aux_output_2_loss: 1.8838e-04 - main_output_acc: 1.0000 - aux_output_1_acc: 1.0000 - aux_output_2_acc: 1.0000 - val_loss: 1.4120 - val_main_output_loss: 0.0046 - val_aux_output_1_loss: 0.1107 - val_aux_output_2_loss: 1.2967 - val_main_output_acc: 1.0000 - val_aux_output_1_acc: 0.9844 - val_aux_output_2_acc: 0.7969\n",
      "Epoch 41/50\n",
      "576/576 [==============================] - 7s 12ms/step - loss: 0.0024 - main_output_loss: 3.4206e-05 - aux_output_1_loss: 0.0023 - aux_output_2_loss: 1.3229e-04 - main_output_acc: 1.0000 - aux_output_1_acc: 0.9983 - aux_output_2_acc: 1.0000 - val_loss: 1.3797 - val_main_output_loss: 0.0019 - val_aux_output_1_loss: 0.0307 - val_aux_output_2_loss: 1.3471 - val_main_output_acc: 1.0000 - val_aux_output_1_acc: 0.9844 - val_aux_output_2_acc: 0.7969\n",
      "Epoch 42/50\n",
      "576/576 [==============================] - 7s 12ms/step - loss: 2.0173e-04 - main_output_loss: 9.9064e-06 - aux_output_1_loss: 1.0171e-04 - aux_output_2_loss: 9.0114e-05 - main_output_acc: 1.0000 - aux_output_1_acc: 1.0000 - aux_output_2_acc: 1.0000 - val_loss: 1.4827 - val_main_output_loss: 0.0015 - val_aux_output_1_loss: 0.0432 - val_aux_output_2_loss: 1.4381 - val_main_output_acc: 1.0000 - val_aux_output_1_acc: 0.9844 - val_aux_output_2_acc: 0.7969\n",
      "Epoch 43/50\n",
      "576/576 [==============================] - 7s 12ms/step - loss: 1.3429e-04 - main_output_loss: 6.9207e-06 - aux_output_1_loss: 6.4571e-05 - aux_output_2_loss: 6.2802e-05 - main_output_acc: 1.0000 - aux_output_1_acc: 1.0000 - aux_output_2_acc: 1.0000 - val_loss: 1.5677 - val_main_output_loss: 0.0013 - val_aux_output_1_loss: 0.0496 - val_aux_output_2_loss: 1.5168 - val_main_output_acc: 1.0000 - val_aux_output_1_acc: 0.9844 - val_aux_output_2_acc: 0.7969\n",
      "Epoch 44/50\n",
      "576/576 [==============================] - 7s 12ms/step - loss: 9.5831e-05 - main_output_loss: 5.1963e-06 - aux_output_1_loss: 4.6677e-05 - aux_output_2_loss: 4.3958e-05 - main_output_acc: 1.0000 - aux_output_1_acc: 1.0000 - aux_output_2_acc: 1.0000 - val_loss: 1.6562 - val_main_output_loss: 0.0012 - val_aux_output_1_loss: 0.0598 - val_aux_output_2_loss: 1.5952 - val_main_output_acc: 1.0000 - val_aux_output_1_acc: 0.9844 - val_aux_output_2_acc: 0.7969\n",
      "Epoch 45/50\n",
      "576/576 [==============================] - 7s 12ms/step - loss: 7.0558e-05 - main_output_loss: 3.9667e-06 - aux_output_1_loss: 3.5872e-05 - aux_output_2_loss: 3.0720e-05 - main_output_acc: 1.0000 - aux_output_1_acc: 1.0000 - aux_output_2_acc: 1.0000 - val_loss: 1.7303 - val_main_output_loss: 0.0010 - val_aux_output_1_loss: 0.0534 - val_aux_output_2_loss: 1.6758 - val_main_output_acc: 1.0000 - val_aux_output_1_acc: 0.9844 - val_aux_output_2_acc: 0.7969\n",
      "Epoch 46/50\n",
      "576/576 [==============================] - 7s 12ms/step - loss: 5.0673e-05 - main_output_loss: 2.9816e-06 - aux_output_1_loss: 2.6133e-05 - aux_output_2_loss: 2.1558e-05 - main_output_acc: 1.0000 - aux_output_1_acc: 1.0000 - aux_output_2_acc: 1.0000 - val_loss: 1.8424 - val_main_output_loss: 0.0010 - val_aux_output_1_loss: 0.0813 - val_aux_output_2_loss: 1.7601 - val_main_output_acc: 1.0000 - val_aux_output_1_acc: 0.9844 - val_aux_output_2_acc: 0.7969\n",
      "Epoch 47/50\n",
      "576/576 [==============================] - 7s 13ms/step - loss: 3.7019e-05 - main_output_loss: 2.2449e-06 - aux_output_1_loss: 1.9544e-05 - aux_output_2_loss: 1.5230e-05 - main_output_acc: 1.0000 - aux_output_1_acc: 1.0000 - aux_output_2_acc: 1.0000 - val_loss: 1.9254 - val_main_output_loss: 9.6878e-04 - val_aux_output_1_loss: 0.0839 - val_aux_output_2_loss: 1.8405 - val_main_output_acc: 1.0000 - val_aux_output_1_acc: 0.9844 - val_aux_output_2_acc: 0.7969\n",
      "Epoch 48/50\n",
      "576/576 [==============================] - 7s 12ms/step - loss: 2.6862e-05 - main_output_loss: 1.6818e-06 - aux_output_1_loss: 1.4376e-05 - aux_output_2_loss: 1.0804e-05 - main_output_acc: 1.0000 - aux_output_1_acc: 1.0000 - aux_output_2_acc: 1.0000 - val_loss: 2.0119 - val_main_output_loss: 9.7165e-04 - val_aux_output_1_loss: 0.0975 - val_aux_output_2_loss: 1.9135 - val_main_output_acc: 1.0000 - val_aux_output_1_acc: 0.9844 - val_aux_output_2_acc: 0.7969\n",
      "Epoch 49/50\n",
      "576/576 [==============================] - 8s 14ms/step - loss: 1.9566e-05 - main_output_loss: 1.2574e-06 - aux_output_1_loss: 1.0622e-05 - aux_output_2_loss: 7.6866e-06 - main_output_acc: 1.0000 - aux_output_1_acc: 1.0000 - aux_output_2_acc: 1.0000 - val_loss: 2.0732 - val_main_output_loss: 8.8482e-04 - val_aux_output_1_loss: 0.0969 - val_aux_output_2_loss: 1.9754 - val_main_output_acc: 1.0000 - val_aux_output_1_acc: 0.9844 - val_aux_output_2_acc: 0.7969\n",
      "Epoch 50/50\n",
      "576/576 [==============================] - 8s 14ms/step - loss: 1.4114e-05 - main_output_loss: 9.3322e-07 - aux_output_1_loss: 7.6359e-06 - aux_output_2_loss: 5.5451e-06 - main_output_acc: 1.0000 - aux_output_1_acc: 1.0000 - aux_output_2_acc: 1.0000 - val_loss: 2.0432 - val_main_output_loss: 8.5527e-04 - val_aux_output_1_loss: 0.1060 - val_aux_output_2_loss: 1.9364 - val_main_output_acc: 1.0000 - val_aux_output_1_acc: 0.9844 - val_aux_output_2_acc: 0.7969\n",
      "160/160 [==============================] - 1s 4ms/step\n"
     ]
    }
   ],
   "source": [
    "#Collaborative net. Each net is training on its own text file and looking for specific \n",
    "#patterns in their own right. However the idea behind the test is to see if sharing what each\n",
    "#model is learning via the LSTM layers will collectively help the main model.  \n",
    "\n",
    "\n",
    "#First auxiliary model..feeding it \"Dovish or hawkish\" text and associated labels.\n",
    "auxiliary_input_1 = Input(shape=(100,)) \n",
    "e_2 = Embedding(vocab_size_1,200, input_length=100,trainable=True)(auxiliary_input_1)\n",
    "lstm_2 = LSTM(200,input_shape=(100,1))(e_2)\n",
    "#Logistic regression layer\n",
    "auxiliary_output_1 = Dense(1, activation='sigmoid', name='aux_output_1')(lstm_2)  \n",
    "\n",
    "          \n",
    "#Second auxiliary model..feeding it \"Neutral or Dovish\" text and associated labels. \n",
    "auxiliary_input_2 = Input(shape=(100,)) \n",
    "e_3 = Embedding(vocab_size_1,200, input_length=100,trainable=True)(auxiliary_input_2)\n",
    "lstm_3 = LSTM(200,input_shape=(100,1))(e_3)\n",
    "#Logistic regression layer\n",
    "auxiliary_output_2 = Dense(1, activation='sigmoid', name='aux_output_2')(lstm_3) \n",
    "\n",
    "\n",
    "#Main model...feeding it \"Neutral or hawkish\" text and associated labels.\n",
    "main_input = Input(shape=(100, ), name='aux_input')\n",
    "e_1 = Embedding(vocab_size_1, 200,input_length=100,trainable=True)(main_input)\n",
    "lstm_1 = LSTM(200,input_shape=(100,1))(e_1) \n",
    "#Merge LSTM layers\n",
    "x = keras.layers.concatenate([lstm_1,lstm_2,lstm_3])  \n",
    "#logistic regression layer\n",
    "main_output = Dense(1, activation='sigmoid', name='main_output')(x)    \n",
    "         \n",
    "#Define inputs and outputs from main model. \n",
    "model = Model(inputs=[main_input, auxiliary_input_1,auxiliary_input_2], outputs=[main_output, auxiliary_output_1,auxiliary_output_2])\n",
    "\n",
    "\n",
    "#Allowing for equal loss contributions from each model.  \n",
    "model.compile(optimizer='rmsprop', loss='binary_crossentropy',metrics=['acc'],loss_weights=[1.0,1.0,1.0]) \n",
    " \n",
    "\n",
    "history_1 = model.fit([X_train_1, X_train_2, X_train_3], [y_train_1, y_train_2, y_train_3],\n",
    "         batch_size=100, epochs=50,\n",
    "           validation_split=0.10, shuffle=False, verbose=1) \n",
    "\n",
    "\n",
    "model.evaluate([X_test_1, X_test_2, X_test_3], [y_test_1, y_test_2, y_test_3], batch_size=100)\n",
    "\n",
    "\n",
    "collab_mod = model.predict([X_test_1, X_test_2, X_test_3], batch_size=100,verbose=2) "
   ]
  },
  {
   "cell_type": "code",
   "execution_count": 11,
   "metadata": {},
   "outputs": [
    {
     "data": {
      "text/plain": [
       "['loss',\n",
       " 'main_output_loss',\n",
       " 'aux_output_1_loss',\n",
       " 'aux_output_2_loss',\n",
       " 'main_output_acc',\n",
       " 'aux_output_1_acc',\n",
       " 'aux_output_2_acc']"
      ]
     },
     "execution_count": 11,
     "metadata": {},
     "output_type": "execute_result"
    }
   ],
   "source": [
    "#Check metrics for collaborative net\n",
    "model.metrics_names "
   ]
  },
  {
   "cell_type": "code",
   "execution_count": 12,
   "metadata": {},
   "outputs": [
    {
     "name": "stdout",
     "output_type": "stream",
     "text": [
      "[[75  0]\n",
      " [ 0 85]]\n",
      "1.0\n"
     ]
    }
   ],
   "source": [
    "#Precision/recall check & f1 score for collaborative model\n",
    "print_metrics(collab_mod[0],y_test_1)"
   ]
  },
  {
   "cell_type": "code",
   "execution_count": 13,
   "metadata": {},
   "outputs": [
    {
     "data": {
      "image/png": "[encoded data removed]",
      "text/plain": [
       "<matplotlib.figure.Figure at 0x116fc0b50>"
      ]
     },
     "metadata": {},
     "output_type": "display_data"
    },
    {
     "data": {
      "image/png": "[encoded data removed]",
      "text/plain": [
       "<matplotlib.figure.Figure at 0x11e2bb6d0>"
      ]
     },
     "metadata": {},
     "output_type": "display_data"
    }
   ],
   "source": [
    "#Plot collaborative model behaviour over 50 epochs\n",
    "plot_model(history_1)"
   ]
  },
  {
   "cell_type": "code",
   "execution_count": 14,
   "metadata": {
    "scrolled": true
   },
   "outputs": [
    {
     "name": "stdout",
     "output_type": "stream",
     "text": [
      "Train on 576 samples, validate on 64 samples\n",
      "Epoch 1/50\n",
      "576/576 [==============================] - 5s 8ms/step - loss: 0.6892 - acc: 0.6406 - val_loss: 0.6770 - val_acc: 0.7188\n",
      "Epoch 2/50\n",
      "576/576 [==============================] - 3s 6ms/step - loss: 0.6278 - acc: 0.7899 - val_loss: 0.5724 - val_acc: 0.8125\n",
      "Epoch 3/50\n",
      "576/576 [==============================] - 3s 6ms/step - loss: 0.6677 - acc: 0.8368 - val_loss: 0.5120 - val_acc: 0.7500\n",
      "Epoch 4/50\n",
      "576/576 [==============================] - 3s 6ms/step - loss: 0.4982 - acc: 0.7517 - val_loss: 0.5475 - val_acc: 0.7188\n",
      "Epoch 5/50\n",
      "576/576 [==============================] - 3s 6ms/step - loss: 0.4870 - acc: 0.7969 - val_loss: 0.4983 - val_acc: 0.7344\n",
      "Epoch 6/50\n",
      "576/576 [==============================] - 3s 6ms/step - loss: 0.3663 - acc: 0.8681 - val_loss: 0.4857 - val_acc: 0.8125\n",
      "Epoch 7/50\n",
      "576/576 [==============================] - 3s 6ms/step - loss: 0.2102 - acc: 0.9392 - val_loss: 0.3054 - val_acc: 0.8594\n",
      "Epoch 8/50\n",
      "576/576 [==============================] - 3s 6ms/step - loss: 0.1631 - acc: 0.9583 - val_loss: 0.1688 - val_acc: 0.9844\n",
      "Epoch 9/50\n",
      "576/576 [==============================] - 3s 6ms/step - loss: 0.0694 - acc: 0.9844 - val_loss: 0.3013 - val_acc: 0.8906\n",
      "Epoch 10/50\n",
      "576/576 [==============================] - 3s 6ms/step - loss: 0.0536 - acc: 0.9861 - val_loss: 0.1616 - val_acc: 0.9375\n",
      "Epoch 11/50\n",
      "576/576 [==============================] - 3s 6ms/step - loss: 0.0236 - acc: 0.9983 - val_loss: 0.1898 - val_acc: 0.9062\n",
      "Epoch 12/50\n",
      "576/576 [==============================] - 3s 6ms/step - loss: 0.0142 - acc: 0.9983 - val_loss: 0.1670 - val_acc: 0.9531\n",
      "Epoch 13/50\n",
      "576/576 [==============================] - 3s 6ms/step - loss: 0.0084 - acc: 1.0000 - val_loss: 0.2543 - val_acc: 0.9219\n",
      "Epoch 14/50\n",
      "576/576 [==============================] - 3s 6ms/step - loss: 0.0064 - acc: 1.0000 - val_loss: 0.0825 - val_acc: 0.9844\n",
      "Epoch 15/50\n",
      "576/576 [==============================] - 3s 6ms/step - loss: 0.0052 - acc: 1.0000 - val_loss: 0.0735 - val_acc: 0.9844\n",
      "Epoch 16/50\n",
      "576/576 [==============================] - 3s 6ms/step - loss: 0.0033 - acc: 1.0000 - val_loss: 0.1443 - val_acc: 0.9531\n",
      "Epoch 17/50\n",
      "576/576 [==============================] - 3s 6ms/step - loss: 0.0024 - acc: 1.0000 - val_loss: 0.1755 - val_acc: 0.9375\n",
      "Epoch 18/50\n",
      "576/576 [==============================] - 3s 6ms/step - loss: 0.0020 - acc: 1.0000 - val_loss: 0.1265 - val_acc: 0.9531\n",
      "Epoch 19/50\n",
      "576/576 [==============================] - 3s 6ms/step - loss: 0.0017 - acc: 1.0000 - val_loss: 0.1197 - val_acc: 0.9531\n",
      "Epoch 20/50\n",
      "576/576 [==============================] - 3s 6ms/step - loss: 0.0014 - acc: 1.0000 - val_loss: 0.1535 - val_acc: 0.9531\n",
      "Epoch 21/50\n",
      "576/576 [==============================] - 3s 6ms/step - loss: 0.0012 - acc: 1.0000 - val_loss: 0.1544 - val_acc: 0.9531\n",
      "Epoch 22/50\n",
      "576/576 [==============================] - 3s 6ms/step - loss: 0.0011 - acc: 1.0000 - val_loss: 0.1307 - val_acc: 0.9531\n",
      "Epoch 23/50\n",
      "576/576 [==============================] - 3s 6ms/step - loss: 9.7281e-04 - acc: 1.0000 - val_loss: 0.1264 - val_acc: 0.9531\n",
      "Epoch 24/50\n",
      "576/576 [==============================] - 3s 6ms/step - loss: 8.7282e-04 - acc: 1.0000 - val_loss: 0.1288 - val_acc: 0.9531\n",
      "Epoch 25/50\n",
      "576/576 [==============================] - 3s 5ms/step - loss: 7.9953e-04 - acc: 1.0000 - val_loss: 0.1108 - val_acc: 0.9688\n",
      "Epoch 26/50\n",
      "576/576 [==============================] - 3s 6ms/step - loss: 7.2147e-04 - acc: 1.0000 - val_loss: 0.1049 - val_acc: 0.9688\n",
      "Epoch 27/50\n",
      "576/576 [==============================] - 3s 6ms/step - loss: 6.5855e-04 - acc: 1.0000 - val_loss: 0.1057 - val_acc: 0.9688\n",
      "Epoch 28/50\n",
      "576/576 [==============================] - 3s 6ms/step - loss: 6.0982e-04 - acc: 1.0000 - val_loss: 0.0951 - val_acc: 0.9688\n",
      "Epoch 29/50\n",
      "576/576 [==============================] - 3s 6ms/step - loss: 5.6021e-04 - acc: 1.0000 - val_loss: 0.0944 - val_acc: 0.9688\n",
      "Epoch 30/50\n",
      "576/576 [==============================] - 3s 6ms/step - loss: 5.1977e-04 - acc: 1.0000 - val_loss: 0.0946 - val_acc: 0.9688\n",
      "Epoch 31/50\n",
      "576/576 [==============================] - 3s 6ms/step - loss: 4.8534e-04 - acc: 1.0000 - val_loss: 0.0891 - val_acc: 0.9688\n",
      "Epoch 32/50\n",
      "576/576 [==============================] - 3s 6ms/step - loss: 4.5260e-04 - acc: 1.0000 - val_loss: 0.0895 - val_acc: 0.9688\n",
      "Epoch 33/50\n",
      "576/576 [==============================] - 3s 6ms/step - loss: 4.2468e-04 - acc: 1.0000 - val_loss: 0.0889 - val_acc: 0.9688\n",
      "Epoch 34/50\n",
      "576/576 [==============================] - 3s 6ms/step - loss: 3.9886e-04 - acc: 1.0000 - val_loss: 0.0860 - val_acc: 0.9688\n",
      "Epoch 35/50\n",
      "576/576 [==============================] - 3s 6ms/step - loss: 3.7454e-04 - acc: 1.0000 - val_loss: 0.0859 - val_acc: 0.9688\n",
      "Epoch 36/50\n",
      "576/576 [==============================] - 4s 6ms/step - loss: 3.5274e-04 - acc: 1.0000 - val_loss: 0.0849 - val_acc: 0.9688\n",
      "Epoch 37/50\n",
      "576/576 [==============================] - 4s 6ms/step - loss: 3.3233e-04 - acc: 1.0000 - val_loss: 0.0831 - val_acc: 0.9688\n",
      "Epoch 38/50\n",
      "576/576 [==============================] - 3s 6ms/step - loss: 3.1330e-04 - acc: 1.0000 - val_loss: 0.0827 - val_acc: 0.9688\n",
      "Epoch 39/50\n",
      "576/576 [==============================] - 3s 6ms/step - loss: 2.9583e-04 - acc: 1.0000 - val_loss: 0.0815 - val_acc: 0.9688\n",
      "Epoch 40/50\n",
      "576/576 [==============================] - 4s 6ms/step - loss: 2.7946e-04 - acc: 1.0000 - val_loss: 0.0804 - val_acc: 0.9688\n",
      "Epoch 41/50\n",
      "576/576 [==============================] - 4s 6ms/step - loss: 2.6420e-04 - acc: 1.0000 - val_loss: 0.0798 - val_acc: 0.9688\n",
      "Epoch 42/50\n",
      "576/576 [==============================] - 3s 6ms/step - loss: 2.5008e-04 - acc: 1.0000 - val_loss: 0.0789 - val_acc: 0.9688\n",
      "Epoch 43/50\n",
      "576/576 [==============================] - 3s 6ms/step - loss: 2.3688e-04 - acc: 1.0000 - val_loss: 0.0783 - val_acc: 0.9688\n",
      "Epoch 44/50\n",
      "576/576 [==============================] - 4s 6ms/step - loss: 2.2463e-04 - acc: 1.0000 - val_loss: 0.0778 - val_acc: 0.9688\n",
      "Epoch 45/50\n",
      "576/576 [==============================] - 4s 6ms/step - loss: 2.1324e-04 - acc: 1.0000 - val_loss: 0.0772 - val_acc: 0.9688\n",
      "Epoch 46/50\n",
      "576/576 [==============================] - 4s 6ms/step - loss: 2.0263e-04 - acc: 1.0000 - val_loss: 0.0770 - val_acc: 0.9688\n",
      "Epoch 47/50\n",
      "576/576 [==============================] - 4s 6ms/step - loss: 1.9274e-04 - acc: 1.0000 - val_loss: 0.0767 - val_acc: 0.9688\n",
      "Epoch 48/50\n",
      "576/576 [==============================] - 4s 6ms/step - loss: 1.8346e-04 - acc: 1.0000 - val_loss: 0.0767 - val_acc: 0.9688\n",
      "Epoch 49/50\n",
      "576/576 [==============================] - 3s 6ms/step - loss: 1.7470e-04 - acc: 1.0000 - val_loss: 0.0769 - val_acc: 0.9688\n",
      "Epoch 50/50\n",
      "576/576 [==============================] - 4s 6ms/step - loss: 1.6636e-04 - acc: 1.0000 - val_loss: 0.0771 - val_acc: 0.9688\n"
     ]
    }
   ],
   "source": [
    "#Solo model,using sequential model. Model is asked to predict if unseen text is neutral\n",
    "#or hawkish.\n",
    "\n",
    "model_2 = Sequential()\n",
    "\n",
    "\n",
    "#Add embedding layer, allow for layer to retrain\n",
    "e = Embedding(vocab_size_1, 200, input_length=100, trainable=True)\n",
    "model_2.add(e)\n",
    "\n",
    "#LSTM layer\n",
    "model_2.add(LSTM(200, input_shape=(100,1)))\n",
    "#Logistic Regression classifier layer\n",
    "model_2.add(Dense(1, activation='sigmoid'))\n",
    "\n",
    "#Compile model, same loss function and optimizer as main model from the collaborative net above\n",
    "model_2.compile(optimizer='Adam', loss='binary_crossentropy', metrics=['acc'])\n",
    " \n",
    "#Fit the model\n",
    "history_2 = model_2.fit(X_train_1, y_train_1, shuffle=False, batch_size=100, epochs=50, \n",
    "           validation_split=0.10,verbose=1)\n",
    "\n",
    "#Evaluate the model\n",
    "model_2.evaluate(X_test_1,y_test_1, verbose=2,batch_size=100)\n",
    "\n",
    "pred_ldense = model_2.predict(X_test_1, batch_size=100,verbose=2)"
   ]
  },
  {
   "cell_type": "code",
   "execution_count": 15,
   "metadata": {},
   "outputs": [
    {
     "name": "stdout",
     "output_type": "stream",
     "text": [
      "[[71  4]\n",
      " [ 0 85]]\n",
      "0.9770114942528736\n"
     ]
    }
   ],
   "source": [
    "#Confusion matrix and F1 score for solo model.\n",
    "print_metrics(pred_ldense,y_test_1)"
   ]
  },
  {
   "cell_type": "code",
   "execution_count": 16,
   "metadata": {},
   "outputs": [
    {
     "data": {
      "image/png": "[encoded data removed]",
      "text/plain": [
       "<matplotlib.figure.Figure at 0x11e384c10>"
      ]
     },
     "metadata": {},
     "output_type": "display_data"
    },
    {
     "data": {
      "image/png": "[encoded data removed]",
      "text/plain": [
       "<matplotlib.figure.Figure at 0x123e3bc50>"
      ]
     },
     "metadata": {},
     "output_type": "display_data"
    }
   ],
   "source": [
    "#Plot model path over 50 epochs.  \n",
    "plot_model_solo(history_2)"
   ]
  }
 ],
 "metadata": {
  "kernelspec": {
   "display_name": "Python 2",
   "language": "python",
   "name": "python2"
  },
  "language_info": {
   "codemirror_mode": {
    "name": "ipython",
    "version": 2
   },
   "file_extension": ".py",
   "mimetype": "text/x-python",
   "name": "python",
   "nbconvert_exporter": "python",
   "pygments_lexer": "ipython2",
   "version": "2.7.14"
  }
 },
 "nbformat": 4,
 "nbformat_minor": 2
}
