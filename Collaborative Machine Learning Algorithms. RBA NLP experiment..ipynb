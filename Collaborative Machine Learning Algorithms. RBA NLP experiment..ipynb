{
 "cells": [
  {
   "cell_type": "markdown",
   "metadata": {},
   "source": [
    "#### Testing relative performance of multiple machine learning models \"working together\" versus a solo machine learning model. \n",
    "\n",
    "\n",
    "#### Experiment to see how multiple neural network models might \"collaborate\" versus a solo neural network tasked with the same classification challenge. The task for both nets was to classify unseen sections of RBA text.  \n",
    "\n",
    "#### Labels relate to forward actions by the RBA. Class labels were balanced for each run. Rebalancing the classes resulted in some reduction of variance within the classes of interest. \n",
    "\n",
    "#### Results are down the bottom of the notebook.  F1 score on the collaborative net was generally better than the solo.  \n",
    "\n",
    "#### Three distinct but related sets of text data were feed into three separate neural nets at the same time. Each had distinct and separate text classification tasks but at the same time the two auxiliary models would be allowed to share updates as they trained with the main model. \n",
    "\n",
    "#### Usual disclaimer, this is not a scientific experiment and is not intended to form part of anybodys investment strategy should anybody fork the code.   \n",
    "\n",
    "#### The three data sets are as follows:  \n",
    "\n",
    "1. Text from RBA \"deemed\" neutral.\n",
    "2. Text from RBA \"deemed\" dovish.\n",
    "3. Text from RBA \"deemed\" hawkish.\n",
    "         \n",
    "         \n",
    "#### Machine learning models were set to analyse paragraphs or chunks of text in blocks of around 100 words at a time. LSTM layers were used to remember sequences of 100 words at a time and find any pattern or signal.\n",
    "\n",
    "#### Oct/2018"
   ]
  },
  {
   "cell_type": "code",
   "execution_count": 1,
   "metadata": {},
   "outputs": [
    {
     "name": "stderr",
     "output_type": "stream",
     "text": [
      "Using TensorFlow backend.\n"
     ]
    }
   ],
   "source": [
    "import os\n",
    "import shutil\n",
    "import time, glob\n",
    "\n",
    "#Tensorflow\n",
    "import tensorflow as tf \n",
    "\n",
    "#Pandas\n",
    "import pandas as pd\n",
    "from pandas import read_csv\n",
    "\n",
    "#Numpy\n",
    "import numpy as np\n",
    "from numpy import array\n",
    "from array import array\n",
    "from numpy import argmax\n",
    "from numpy import zeros\n",
    "\n",
    "#Scipy\n",
    "import scipy as sp\n",
    "from scipy import interp\n",
    "\n",
    "#Randoms\n",
    "import os\n",
    "from tqdm import tqdm \n",
    "from itertools import cycle\n",
    "import logging\n",
    "logging.basicConfig(format='%(asctime)s : %(levelname)s : %(message)s', level=logging.INFO)\n",
    "import string\n",
    "\n",
    "#Matplotlib  \n",
    "%matplotlib inline\n",
    "import matplotlib.pyplot as plt\n",
    "\n",
    "\n",
    "#SK Learn\n",
    "import sklearn\n",
    "from sklearn.model_selection import train_test_split\n",
    "from sklearn.model_selection import cross_val_score\n",
    "from sklearn.feature_extraction.text import CountVectorizer, TfidfVectorizer\n",
    "from sklearn import metrics\n",
    "from sklearn.metrics import roc_curve, auc\n",
    "from sklearn import preprocessing\n",
    "from sklearn.externals import joblib\n",
    "from sklearn.preprocessing import label_binarize\n",
    "from sklearn import cluster\n",
    "from sklearn.externals import joblib\n",
    "from sklearn.linear_model import LogisticRegression\n",
    "from sklearn.multiclass import OneVsRestClassifier\n",
    "from sklearn import ensemble\n",
    "from sklearn.preprocessing import LabelEncoder\n",
    "from sklearn.model_selection import learning_curve\n",
    "from sklearn.model_selection import StratifiedKFold\n",
    "from sklearn.metrics import classification_report\n",
    "from sklearn.metrics import confusion_matrix\n",
    "from sklearn.metrics import f1_score\n",
    "from sklearn.metrics import mean_squared_error\n",
    "from sklearn.utils import resample\n",
    "from sklearn.preprocessing import normalize\n",
    "   \n",
    "#Keras\n",
    "import keras\n",
    "from keras.engine import Input\n",
    "from keras.models import Model\n",
    "from keras.layers.merge import dot\n",
    "from keras.utils import plot_model\n",
    "from keras import backend as K\n",
    "from keras import callbacks\n",
    "from keras import layers\n",
    "from keras import models\n",
    "from keras.wrappers.scikit_learn import KerasClassifier\n",
    "from keras.callbacks import ModelCheckpoint\n",
    "from keras.callbacks import ReduceLROnPlateau\n",
    "from keras.models import Sequential\n",
    "from keras.layers import Dense\n",
    "from keras.wrappers.scikit_learn import KerasClassifier\n",
    "from keras.preprocessing.text import Tokenizer\n",
    "from keras.preprocessing.sequence import pad_sequences\n",
    "from keras.utils.np_utils import to_categorical\n",
    "from keras.layers import Input, Dense, Flatten\n",
    "from keras.layers import Conv1D, MaxPooling1D\n",
    "from keras.layers import TimeDistributed\n",
    "from keras.layers.wrappers import TimeDistributed, Bidirectional\n",
    "from keras.layers.embeddings import Embedding\n",
    "from keras.layers.recurrent import LSTM, GRU\n",
    "from keras.layers.core import Dense, Masking\n",
    "from keras import regularizers\n",
    "from keras.layers import Flatten\n",
    "from keras.layers import Embedding\n",
    "from keras.layers import Dropout, Input\n",
    "from keras.layers.noise import GaussianNoise\n",
    "from keras.layers import LSTM\n",
    "from keras import optimizers\n",
    "from keras import regularizers\n",
    "from keras.layers import Merge\n",
    "from keras.layers.convolutional import Convolution2D, MaxPooling2D, ZeroPadding2D\n",
    "from keras.layers.core import Dense, Activation, Dropout, Reshape, Flatten\n",
    "from keras.utils.np_utils import to_categorical\n",
    "    \n",
    "#Print Confusion matrix and F1 score\n",
    "def print_metrics(self,y):\n",
    "    pred_round_1 = np.round(self, decimals=0,out=None)\n",
    "    f1 = f1_score(y, pred_round_1,average='binary')\n",
    "    con_1= confusion_matrix(y, pred_round_1)\n",
    "    print(con_1)\n",
    "    print(f1)\n",
    "    \n",
    "    \n",
    "#Plot convergence path for collaborative model   \n",
    "def plot_model(self): \n",
    "    plt.plot(self.history['main_output_acc'])\n",
    "    plt.plot(self.history['val_main_output_acc'])\n",
    "    plt.title('model accuracy')\n",
    "    plt.ylabel('accuracy')\n",
    "    plt.xlabel('epoch')\n",
    "    plt.legend(['train', 'val'], loc='upper left')\n",
    "    plt.show()     \n",
    "    plt.plot(self.history['main_output_loss'])\n",
    "    plt.plot(self.history['val_main_output_loss'])\n",
    "    plt.title('model loss')\n",
    "    plt.ylabel('loss')\n",
    "    plt.xlabel('epoch')\n",
    "    plt.legend(['train', 'val'], loc='upper left')\n",
    "    plt.show() \n",
    "    \n",
    "#Plot convergence path for solo model  \n",
    "def plot_model_solo(self): \n",
    "    plt.plot(self.history['acc'])\n",
    "    plt.plot(self.history['val_acc'])\n",
    "    plt.title('model accuracy')\n",
    "    plt.ylabel('accuracy')\n",
    "    plt.xlabel('epoch')\n",
    "    plt.legend(['train', 'val'], loc='upper left')\n",
    "    plt.show()     \n",
    "    plt.plot(self.history['loss'])\n",
    "    plt.plot(self.history['val_loss'])\n",
    "    plt.title('model loss')\n",
    "    plt.ylabel('loss')\n",
    "    plt.xlabel('epoch')\n",
    "    plt.legend(['train', 'val'], loc='upper left')\n",
    "    plt.show() "
   ]
  },
  {
   "cell_type": "markdown",
   "metadata": {},
   "source": [
    "### Read in text files for various predictor matrices.  Three bodies of text split into \"Neutral\", \"Dovish\" and \"Hawkish\". "
   ]
  },
  {
   "cell_type": "code",
   "execution_count": 2,
   "metadata": {},
   "outputs": [
    {
     "name": "stdout",
     "output_type": "stream",
     "text": [
      "((3984, 1), (923, 1), (529, 1), (311, 1))\n"
     ]
    }
   ],
   "source": [
    "#Read in all files from folder relating to \"RBA neutral\"  text\n",
    "with open(\"RBA neutral\", 'wb',) as outfile:\n",
    "    for filename in glob.glob('RBA neutral/*.csv'):\n",
    "        if filename == outfile:             \n",
    "            continue\n",
    "        with open(filename, 'rb') as readfile:\n",
    "            shutil.copyfileobj(readfile, outfile)\n",
    "#Save \"RBA neutral\" text\n",
    "x = pd.read_fwf('RBA neutral',\n",
    "                sep=\".\",encoding='utf8',usecols=[0], header=None)\n",
    "x.rename(columns={0:'text'},inplace=True)\n",
    "\n",
    "\n",
    "             \n",
    "#Open and read in all files relating to \"RBA dovish\" text\n",
    "with open(\"RBA dovish\", 'wb',) as outfile:\n",
    "    for filename in glob.glob('RBA dovish/*.csv',):\n",
    "        if filename == outfile:            \n",
    "            continue\n",
    "        with open(filename, 'rb') as readfile:\n",
    "            shutil.copyfileobj(readfile, outfile) \n",
    "#Save \"RBA dovish\" text\n",
    "x1 = pd.read_fwf('RBA dovish',sep=\".\",encoding='utf8',\n",
    "                 usecols=[0], header=None)\n",
    "x1.rename(columns={0:'text'},inplace=True) \n",
    "\n",
    "\n",
    "#Read in all files relating to \"RBA hawkish\" text \n",
    "with open(\"rba hawkish.csv\", 'wb',) as outfile:\n",
    "    for filename in glob.glob('RBA hawkish/*.csv',):\n",
    "        if filename == outfile:             \n",
    "            continue\n",
    "        with open(filename, 'rb') as readfile:\n",
    "            shutil.copyfileobj(readfile, outfile) \n",
    "#Save \"RBA hawkish\" text\n",
    "x2 = pd.read_fwf('RBA hawkish.csv',sep=\".\",\n",
    "                encoding='utf8',usecols=[0], header=None)\n",
    "x2.rename(columns={0:'text'},inplace=True)\n",
    " \n",
    "\n",
    "#Read in all files from folder \"RBA 2018\"\n",
    "with open(\"RBA_2018\", 'wb',) as outfile:\n",
    "    for filename in glob.glob('RBA_2018*.csv'):\n",
    "        if filename == outfile:             \n",
    "            continue\n",
    "        with open(filename, 'rb') as readfile:\n",
    "            shutil.copyfileobj(readfile, outfile)\n",
    "#Save \"RBA 2018\" text\n",
    "x3 = pd.read_fwf('RBA_2018',\n",
    "                sep=\".\",encoding='utf8',usecols=[0], header=None)\n",
    "x3.rename(columns={0:'text'},inplace=True)\n",
    " \n",
    "\n",
    "print(x.shape,x1.shape,x2.shape,x3.shape)"
   ]
  },
  {
   "cell_type": "markdown",
   "metadata": {},
   "source": [
    "### Define binary class labels for each neural net."
   ]
  },
  {
   "cell_type": "code",
   "execution_count": 12,
   "metadata": {},
   "outputs": [
    {
     "name": "stdout",
     "output_type": "stream",
     "text": [
      "((5436, 1), (400,), (400,))\n"
     ]
    }
   ],
   "source": [
    "#Define DF for text enocoding below. \n",
    "result= pd.concat([x,x1,x2])\n",
    "#Set target class label array for each Neural Net\n",
    "labels_zeros = np.zeros(400,)\n",
    "labels_ones = np.ones(400,)\n",
    "\n",
    "print(result.shape, labels_zeros.shape,labels_ones.shape)"
   ]
  },
  {
   "cell_type": "markdown",
   "metadata": {},
   "source": [
    "### Tokenize, encode and pad. No NLP preprocessing performed(eg, no punctuation or stopwords removed, no Stemming or Lemmatizing)."
   ]
  },
  {
   "cell_type": "code",
   "execution_count": 4,
   "metadata": {},
   "outputs": [
    {
     "name": "stdout",
     "output_type": "stream",
     "text": [
      "(2298, (3984, 10), (923, 10), (529, 10), (311, 10))\n"
     ]
    }
   ],
   "source": [
    "#Using one Tokinizer to fit on entire text from three files to allow for widest vocabulary index.\n",
    "\n",
    "#Encode blocks of 10 tokens at a time.\n",
    "max_length = 10\n",
    "\n",
    "t_1 = Tokenizer()\n",
    "docs_1= result['text']\n",
    "#Neutral\n",
    "docs_2 = x['text']\n",
    "#Dovish\n",
    "docs_3 = x1['text']\n",
    "#Hawkish\n",
    "docs_4 = x2['text']\n",
    "#2018 samples\n",
    "docs_2018 = x3['text']\n",
    "\n",
    "\n",
    "#Used the following Tokenizer to help encode all three predictor arrays for each Neural Network.\n",
    "#Each word and punctuation is assigned a unique integer. From there each word is effectively\n",
    "#assigned a 200 dimension word embedding vector. Each dimension represents a conversational context.\n",
    "#Number of contexts is decided upfront depending on the size and complexity of the target corpus. \n",
    "\n",
    "t_1.fit_on_texts(docs_1)\n",
    "vocab_size_1 = len(t_1.word_index) + 1\n",
    "\n",
    "#Neutral\n",
    "encoded_docs_1 = t_1.texts_to_sequences(docs_2)\n",
    "#Dovish\n",
    "encoded_docs_2 = t_1.texts_to_sequences(docs_3)\n",
    "#Hawkish\n",
    "encoded_docs_3 = t_1.texts_to_sequences(docs_4)\n",
    "#2018\n",
    "encoded_docs_4 = t_1.texts_to_sequences(docs_2018)\n",
    "\n",
    "\n",
    "\n",
    "#Neutral\n",
    "padded_docs_1 = pad_sequences(encoded_docs_1, maxlen=max_length, padding='post')\n",
    "#Dovish\n",
    "padded_docs_2 = pad_sequences(encoded_docs_2, maxlen=max_length, padding='post')\n",
    "#Hawkish\n",
    "padded_docs_3 = pad_sequences(encoded_docs_3, maxlen=max_length, padding='post')\n",
    "#2018 samples\n",
    "padded_docs_10 =  pad_sequences(encoded_docs_4, maxlen=max_length, padding='post') \n",
    "\n",
    "\n",
    "print(vocab_size_1,padded_docs_1.shape,padded_docs_2.shape,padded_docs_3.shape,padded_docs_10.shape) "
   ]
  },
  {
   "cell_type": "code",
   "execution_count": 5,
   "metadata": {},
   "outputs": [
    {
     "name": "stdout",
     "output_type": "stream",
     "text": [
      "(4000, 10)\n",
      "(1000, 10)\n",
      "(600, 10)\n",
      "(300, 10)\n"
     ]
    }
   ],
   "source": [
    "#Subjectively decided to round up using top of text files as the top and bottom of corpus\n",
    "#tends to have important content.\n",
    " \n",
    "#Rounding up before reshaping\n",
    "#RBA neutral text enlarged\n",
    "padded_docs_4= padded_docs_1[0:16]\n",
    "padded_docs_5 = np.concatenate((padded_docs_1,padded_docs_4),axis=0)\n",
    "print(padded_docs_5.shape)\n",
    " \n",
    "\n",
    "#Rounding up before reshaping\n",
    "#RBA dovish text enlarged\n",
    "padded_docs_6= padded_docs_2[0:77]\n",
    "padded_docs_7 = np.concatenate((padded_docs_2,padded_docs_6),axis=0)\n",
    "print(padded_docs_7.shape)\n",
    "\n",
    "#Rounding up before reshaping\n",
    "#RBA hawkish text enlarged\n",
    "padded_docs_8= padded_docs_3[0:71]\n",
    "padded_docs_9 = np.concatenate((padded_docs_3,padded_docs_8),axis=0)\n",
    "print(padded_docs_9.shape)\n",
    "\n",
    "#Rounding down 2018 RBA text given its original corpus size.\n",
    "padded_docs_11 = padded_docs_10[0:300]\n",
    "print(padded_docs_11.shape)"
   ]
  },
  {
   "cell_type": "code",
   "execution_count": 13,
   "metadata": {},
   "outputs": [
    {
     "name": "stdout",
     "output_type": "stream",
     "text": [
      "((400, 100), (100, 100), (60, 100), (30, 100))\n"
     ]
    }
   ],
   "source": [
    "#Reshape encoded docs for lstm layer to remember sequence of 100 word blocks at a\n",
    "#time versus each class label.\n",
    "\n",
    "#RBA neutral text\n",
    "padded_docs_5= padded_docs_5.reshape(400,100)\n",
    "#RBA dovish text\n",
    "padded_docs_7= padded_docs_7.reshape(100,100)\n",
    "#RBA hawkish text\n",
    "padded_docs_9= padded_docs_9.reshape(60,100)\n",
    "#RBA select 2018 text\n",
    "padded_docs_11 = padded_docs_11.reshape(30,100)\n",
    "\n",
    "print(padded_docs_5.shape,padded_docs_7.shape,padded_docs_9.shape,padded_docs_11.shape)"
   ]
  },
  {
   "cell_type": "code",
   "execution_count": 14,
   "metadata": {},
   "outputs": [
    {
     "name": "stdout",
     "output_type": "stream",
     "text": [
      "((400, 100), (400, 100), (80, 100))\n"
     ]
    }
   ],
   "source": [
    "#Upsample with replacement to rebalance other classes to size of the largest class.\n",
    "\n",
    "#Upsample dovish text\n",
    "padded_docs_2_up = resample(padded_docs_7, \n",
    "                                 replace=True,     # sample with replacement\n",
    "                                 n_samples=400,    # to match majority class\n",
    "                                 random_state=123) # reproducible results\n",
    " \n",
    "#Upsample hawkish text\n",
    "padded_docs_3_up = resample(padded_docs_9, \n",
    "                                 replace=True,     # sample with replacement\n",
    "                                 n_samples=400,    # to match majority class\n",
    "                                 random_state=123) # reproducible results\n",
    "#Upsample new 2018 RBA neutral text\n",
    "padded_docs_4_up = resample(padded_docs_11, \n",
    "                                 replace=True,     # sample with replacement\n",
    "                                 n_samples=80,    # to match majority class\n",
    "                                 random_state=123)\n",
    "\n",
    "print(padded_docs_2_up.shape,padded_docs_3_up.shape,padded_docs_4_up.shape)"
   ]
  },
  {
   "cell_type": "code",
   "execution_count": 15,
   "metadata": {},
   "outputs": [
    {
     "name": "stdout",
     "output_type": "stream",
     "text": [
      "((800, 100), (800, 100), (800, 100), (160, 100))\n"
     ]
    }
   ],
   "source": [
    "#Create four predictor arrays and define labels.\n",
    "labels = np.concatenate((labels_zeros,labels_ones),axis=0)\n",
    "#Assert label array shape\n",
    "labels.shape=(800,1)\n",
    "\n",
    "#Neutral or dovish predictor array.\n",
    "ne = np.concatenate((padded_docs_5,padded_docs_2_up),axis=0)\n",
    "\n",
    "#Neutral or hawkish predictor array.\n",
    "nh = np.concatenate((padded_docs_5,padded_docs_3_up),axis=0)\n",
    "  \n",
    "#Dovish or hawkish predictor array.\n",
    "eh = np.concatenate((padded_docs_2_up,padded_docs_3_up),axis=0)\n",
    "\n",
    "#2018 neutral or hawkish text data array.\n",
    "padded_docs_6_up = padded_docs_3_up[0:80]\n",
    "new_nh_hike = np.concatenate((padded_docs_4_up,padded_docs_6_up),axis=0)\n",
    "\n",
    "print(ne.shape,nh.shape,eh.shape,new_nh_hike.shape)"
   ]
  },
  {
   "cell_type": "code",
   "execution_count": 20,
   "metadata": {},
   "outputs": [],
   "source": [
    "#Split arrays into train/test(80/20) for each neural network. \n",
    "X_train_1,X_test_1,y_train_1,y_test_1 = train_test_split(nh,labels,test_size=0.20, shuffle=True,random_state=42)\n",
    "X_train_2,X_test_2,y_train_2,y_test_2 = train_test_split(eh,labels, test_size=0.20, shuffle=True,random_state=42)\n",
    "X_train_3,X_test_3,y_train_3,y_test_3 = train_test_split(ne,labels, test_size=0.20, shuffle=True,random_state=42)"
   ]
  },
  {
   "cell_type": "markdown",
   "metadata": {},
   "source": [
    "#### Using 2018 samples of RBA text for this notebook. Cell below defines that test data."
   ]
  },
  {
   "cell_type": "code",
   "execution_count": 19,
   "metadata": {},
   "outputs": [
    {
     "name": "stdout",
     "output_type": "stream",
     "text": [
      "((160, 100), (160, 100), (160, 100), (160, 100), (160,))\n"
     ]
    }
   ],
   "source": [
    "#Define new unseen 2018 predictor and labels arrays. \n",
    "labels_2018_0 = np.zeros(80,)\n",
    "labels_2018_1 = np.ones(80,)\n",
    "labels_2018 = np.concatenate((labels_2018_0,labels_2018_1),axis=0) \n",
    "\n",
    "#Define new predictor array for 2018 sample data.\n",
    "x_test_2018 = new_nh_hike\n",
    " \n",
    "#Check test array shapes,the new 2018 test data and new corresponding test label shape.\n",
    "print(X_test_1.shape,X_test_2.shape,X_test_3.shape,new_nh_hike.shape,labels_2018.shape)"
   ]
  },
  {
   "cell_type": "code",
   "execution_count": 21,
   "metadata": {
    "scrolled": true
   },
   "outputs": [
    {
     "name": "stdout",
     "output_type": "stream",
     "text": [
      "Train on 576 samples, validate on 64 samples\n",
      "Epoch 1/50\n",
      "576/576 [==============================] - 22s 38ms/step - loss: 2.0974 - main_output_loss: 0.6064 - aux_output_1_loss: 0.5666 - aux_output_2_loss: 0.9244 - main_output_acc: 0.6736 - aux_output_1_acc: 0.7674 - aux_output_2_acc: 0.5556 - val_loss: 1.0527 - val_main_output_loss: 0.1893 - val_aux_output_1_loss: 0.1636 - val_aux_output_2_loss: 0.6998 - val_main_output_acc: 0.9531 - val_aux_output_1_acc: 0.9531 - val_aux_output_2_acc: 0.5313\n",
      "Epoch 2/50\n",
      "576/576 [==============================] - 21s 36ms/step - loss: 1.0053 - main_output_loss: 0.1302 - aux_output_1_loss: 0.1636 - aux_output_2_loss: 0.7116 - main_output_acc: 0.9635 - aux_output_1_acc: 0.9670 - aux_output_2_acc: 0.5330 - val_loss: 0.7768 - val_main_output_loss: 0.0518 - val_aux_output_1_loss: 0.0498 - val_aux_output_2_loss: 0.6752 - val_main_output_acc: 0.9687 - val_aux_output_1_acc: 0.9687 - val_aux_output_2_acc: 0.7344\n",
      "Epoch 3/50\n",
      "576/576 [==============================] - 20s 35ms/step - loss: 0.7505 - main_output_loss: 0.0267 - aux_output_1_loss: 0.0510 - aux_output_2_loss: 0.6729 - main_output_acc: 0.9931 - aux_output_1_acc: 0.9878 - aux_output_2_acc: 0.5538 - val_loss: 0.6991 - val_main_output_loss: 0.0032 - val_aux_output_1_loss: 0.0567 - val_aux_output_2_loss: 0.6393 - val_main_output_acc: 1.0000 - val_aux_output_1_acc: 0.9844 - val_aux_output_2_acc: 0.6406\n",
      "Epoch 4/50\n",
      "576/576 [==============================] - 19s 33ms/step - loss: 0.5589 - main_output_loss: 0.0045 - aux_output_1_loss: 0.0110 - aux_output_2_loss: 0.5434 - main_output_acc: 0.9983 - aux_output_1_acc: 0.9965 - aux_output_2_acc: 0.7361 - val_loss: 0.4646 - val_main_output_loss: 0.0055 - val_aux_output_1_loss: 0.0039 - val_aux_output_2_loss: 0.4552 - val_main_output_acc: 1.0000 - val_aux_output_1_acc: 1.0000 - val_aux_output_2_acc: 0.8125\n",
      "Epoch 5/50\n",
      "576/576 [==============================] - 19s 33ms/step - loss: 0.3056 - main_output_loss: 3.7025e-04 - aux_output_1_loss: 0.0018 - aux_output_2_loss: 0.3034 - main_output_acc: 1.0000 - aux_output_1_acc: 1.0000 - aux_output_2_acc: 0.8767 - val_loss: 0.5208 - val_main_output_loss: 2.9544e-04 - val_aux_output_1_loss: 0.0251 - val_aux_output_2_loss: 0.4954 - val_main_output_acc: 1.0000 - val_aux_output_1_acc: 0.9687 - val_aux_output_2_acc: 0.8438\n",
      "Epoch 6/50\n",
      "576/576 [==============================] - 21s 36ms/step - loss: 0.3387 - main_output_loss: 0.0065 - aux_output_1_loss: 0.0185 - aux_output_2_loss: 0.3136 - main_output_acc: 0.9983 - aux_output_1_acc: 0.9913 - aux_output_2_acc: 0.9010 - val_loss: 0.4389 - val_main_output_loss: 0.0330 - val_aux_output_1_loss: 0.0133 - val_aux_output_2_loss: 0.3926 - val_main_output_acc: 0.9844 - val_aux_output_1_acc: 0.9844 - val_aux_output_2_acc: 0.8437\n",
      "Epoch 7/50\n",
      "576/576 [==============================] - 19s 33ms/step - loss: 0.1021 - main_output_loss: 8.1971e-05 - aux_output_1_loss: 3.9723e-04 - aux_output_2_loss: 0.1016 - main_output_acc: 1.0000 - aux_output_1_acc: 1.0000 - aux_output_2_acc: 0.9653 - val_loss: 0.4879 - val_main_output_loss: 4.5144e-04 - val_aux_output_1_loss: 1.6112e-04 - val_aux_output_2_loss: 0.4873 - val_main_output_acc: 1.0000 - val_aux_output_1_acc: 1.0000 - val_aux_output_2_acc: 0.7969\n",
      "Epoch 8/50\n",
      "576/576 [==============================] - 18s 32ms/step - loss: 0.0628 - main_output_loss: 2.9956e-06 - aux_output_1_loss: 1.4569e-05 - aux_output_2_loss: 0.0627 - main_output_acc: 1.0000 - aux_output_1_acc: 1.0000 - aux_output_2_acc: 0.9792 - val_loss: 0.5056 - val_main_output_loss: 6.3891e-07 - val_aux_output_1_loss: 2.3992e-06 - val_aux_output_2_loss: 0.5056 - val_main_output_acc: 1.0000 - val_aux_output_1_acc: 1.0000 - val_aux_output_2_acc: 0.8906\n",
      "Epoch 9/50\n",
      "576/576 [==============================] - 19s 33ms/step - loss: 0.0244 - main_output_loss: 1.8070e-07 - aux_output_1_loss: 4.0547e-07 - aux_output_2_loss: 0.0244 - main_output_acc: 1.0000 - aux_output_1_acc: 1.0000 - aux_output_2_acc: 0.9896 - val_loss: 0.6273 - val_main_output_loss: 1.1232e-07 - val_aux_output_1_loss: 1.1979e-07 - val_aux_output_2_loss: 0.6273 - val_main_output_acc: 1.0000 - val_aux_output_1_acc: 1.0000 - val_aux_output_2_acc: 0.8750\n",
      "Epoch 10/50\n",
      "576/576 [==============================] - 19s 33ms/step - loss: 0.0158 - main_output_loss: 1.1005e-07 - aux_output_1_loss: 1.1163e-07 - aux_output_2_loss: 0.0158 - main_output_acc: 1.0000 - aux_output_1_acc: 1.0000 - aux_output_2_acc: 0.9965 - val_loss: 0.4872 - val_main_output_loss: 1.0900e-07 - val_aux_output_1_loss: 1.0900e-07 - val_aux_output_2_loss: 0.4872 - val_main_output_acc: 1.0000 - val_aux_output_1_acc: 1.0000 - val_aux_output_2_acc: 0.9219\n",
      "Epoch 11/50\n",
      "576/576 [==============================] - 20s 34ms/step - loss: 0.0250 - main_output_loss: 1.0974e-07 - aux_output_1_loss: 1.1030e-07 - aux_output_2_loss: 0.0250 - main_output_acc: 1.0000 - aux_output_1_acc: 1.0000 - aux_output_2_acc: 0.9896 - val_loss: 0.6067 - val_main_output_loss: 1.0900e-07 - val_aux_output_1_loss: 1.0900e-07 - val_aux_output_2_loss: 0.6067 - val_main_output_acc: 1.0000 - val_aux_output_1_acc: 1.0000 - val_aux_output_2_acc: 0.8750\n",
      "Epoch 12/50\n",
      "576/576 [==============================] - 20s 35ms/step - loss: 0.0012 - main_output_loss: 1.0967e-07 - aux_output_1_loss: 1.0967e-07 - aux_output_2_loss: 0.0012 - main_output_acc: 1.0000 - aux_output_1_acc: 1.0000 - aux_output_2_acc: 1.0000 - val_loss: 0.5205 - val_main_output_loss: 1.0900e-07 - val_aux_output_1_loss: 1.0900e-07 - val_aux_output_2_loss: 0.5205 - val_main_output_acc: 1.0000 - val_aux_output_1_acc: 1.0000 - val_aux_output_2_acc: 0.9219\n",
      "Epoch 13/50\n",
      "576/576 [==============================] - 20s 34ms/step - loss: 0.0505 - main_output_loss: 1.0967e-07 - aux_output_1_loss: 1.0967e-07 - aux_output_2_loss: 0.0505 - main_output_acc: 1.0000 - aux_output_1_acc: 1.0000 - aux_output_2_acc: 0.9913 - val_loss: 0.5931 - val_main_output_loss: 1.0900e-07 - val_aux_output_1_loss: 1.0900e-07 - val_aux_output_2_loss: 0.5931 - val_main_output_acc: 1.0000 - val_aux_output_1_acc: 1.0000 - val_aux_output_2_acc: 0.8906\n",
      "Epoch 14/50\n",
      "576/576 [==============================] - 20s 35ms/step - loss: 1.0590e-04 - main_output_loss: 1.0974e-07 - aux_output_1_loss: 1.0967e-07 - aux_output_2_loss: 1.0568e-04 - main_output_acc: 1.0000 - aux_output_1_acc: 1.0000 - aux_output_2_acc: 1.0000 - val_loss: 0.5327 - val_main_output_loss: 1.0900e-07 - val_aux_output_1_loss: 1.0900e-07 - val_aux_output_2_loss: 0.5327 - val_main_output_acc: 1.0000 - val_aux_output_1_acc: 1.0000 - val_aux_output_2_acc: 0.9219\n",
      "Epoch 15/50\n",
      "576/576 [==============================] - 21s 36ms/step - loss: 1.9918e-05 - main_output_loss: 1.0967e-07 - aux_output_1_loss: 1.0967e-07 - aux_output_2_loss: 1.9698e-05 - main_output_acc: 1.0000 - aux_output_1_acc: 1.0000 - aux_output_2_acc: 1.0000 - val_loss: 0.5311 - val_main_output_loss: 1.0900e-07 - val_aux_output_1_loss: 1.0900e-07 - val_aux_output_2_loss: 0.5311 - val_main_output_acc: 1.0000 - val_aux_output_1_acc: 1.0000 - val_aux_output_2_acc: 0.9375\n",
      "Epoch 16/50\n",
      "576/576 [==============================] - 20s 35ms/step - loss: 2.6397e-04 - main_output_loss: 1.0967e-07 - aux_output_1_loss: 1.0967e-07 - aux_output_2_loss: 2.6375e-04 - main_output_acc: 1.0000 - aux_output_1_acc: 1.0000 - aux_output_2_acc: 1.0000 - val_loss: 0.7896 - val_main_output_loss: 1.0900e-07 - val_aux_output_1_loss: 1.0900e-07 - val_aux_output_2_loss: 0.7896 - val_main_output_acc: 1.0000 - val_aux_output_1_acc: 1.0000 - val_aux_output_2_acc: 0.9219\n",
      "Epoch 17/50\n",
      "576/576 [==============================] - 20s 35ms/step - loss: 0.0096 - main_output_loss: 1.0967e-07 - aux_output_1_loss: 1.0967e-07 - aux_output_2_loss: 0.0096 - main_output_acc: 1.0000 - aux_output_1_acc: 1.0000 - aux_output_2_acc: 0.9983 - val_loss: 0.7770 - val_main_output_loss: 1.1087e-07 - val_aux_output_1_loss: 1.0900e-07 - val_aux_output_2_loss: 0.7770 - val_main_output_acc: 1.0000 - val_aux_output_1_acc: 1.0000 - val_aux_output_2_acc: 0.9062\n",
      "Epoch 18/50\n",
      "576/576 [==============================] - 20s 34ms/step - loss: 8.8829e-05 - main_output_loss: 1.0967e-07 - aux_output_1_loss: 1.0967e-07 - aux_output_2_loss: 8.8610e-05 - main_output_acc: 1.0000 - aux_output_1_acc: 1.0000 - aux_output_2_acc: 1.0000 - val_loss: 0.7465 - val_main_output_loss: 1.1273e-07 - val_aux_output_1_loss: 1.0900e-07 - val_aux_output_2_loss: 0.7465 - val_main_output_acc: 1.0000 - val_aux_output_1_acc: 1.0000 - val_aux_output_2_acc: 0.9062\n",
      "Epoch 19/50\n",
      "576/576 [==============================] - 20s 34ms/step - loss: 8.6217e-06 - main_output_loss: 1.0967e-07 - aux_output_1_loss: 1.0967e-07 - aux_output_2_loss: 8.4024e-06 - main_output_acc: 1.0000 - aux_output_1_acc: 1.0000 - aux_output_2_acc: 1.0000 - val_loss: 0.7799 - val_main_output_loss: 1.1832e-07 - val_aux_output_1_loss: 1.0900e-07 - val_aux_output_2_loss: 0.7799 - val_main_output_acc: 1.0000 - val_aux_output_1_acc: 1.0000 - val_aux_output_2_acc: 0.9219\n",
      "Epoch 20/50\n",
      "576/576 [==============================] - 19s 33ms/step - loss: 9.7438e-07 - main_output_loss: 1.0967e-07 - aux_output_1_loss: 1.0967e-07 - aux_output_2_loss: 7.5503e-07 - main_output_acc: 1.0000 - aux_output_1_acc: 1.0000 - aux_output_2_acc: 1.0000 - val_loss: 0.7886 - val_main_output_loss: 1.2204e-07 - val_aux_output_1_loss: 1.0900e-07 - val_aux_output_2_loss: 0.7886 - val_main_output_acc: 1.0000 - val_aux_output_1_acc: 1.0000 - val_aux_output_2_acc: 0.9375\n",
      "Epoch 21/50\n",
      "576/576 [==============================] - 20s 34ms/step - loss: 1.2943e-05 - main_output_loss: 1.0967e-07 - aux_output_1_loss: 1.0967e-07 - aux_output_2_loss: 1.2724e-05 - main_output_acc: 1.0000 - aux_output_1_acc: 1.0000 - aux_output_2_acc: 1.0000 - val_loss: 1.0665 - val_main_output_loss: 1.1273e-07 - val_aux_output_1_loss: 1.0900e-07 - val_aux_output_2_loss: 1.0665 - val_main_output_acc: 1.0000 - val_aux_output_1_acc: 1.0000 - val_aux_output_2_acc: 0.8906\n",
      "Epoch 22/50\n",
      "576/576 [==============================] - 21s 36ms/step - loss: 5.4458e-04 - main_output_loss: 1.0967e-07 - aux_output_1_loss: 1.0967e-07 - aux_output_2_loss: 5.4436e-04 - main_output_acc: 1.0000 - aux_output_1_acc: 1.0000 - aux_output_2_acc: 1.0000 - val_loss: 2.0068 - val_main_output_loss: 1.1087e-07 - val_aux_output_1_loss: 1.0900e-07 - val_aux_output_2_loss: 2.0068 - val_main_output_acc: 1.0000 - val_aux_output_1_acc: 1.0000 - val_aux_output_2_acc: 0.7813\n",
      "Epoch 23/50\n",
      "576/576 [==============================] - 19s 34ms/step - loss: 0.0126 - main_output_loss: 1.0967e-07 - aux_output_1_loss: 1.0967e-07 - aux_output_2_loss: 0.0126 - main_output_acc: 1.0000 - aux_output_1_acc: 1.0000 - aux_output_2_acc: 0.9965 - val_loss: 0.8112 - val_main_output_loss: 1.1087e-07 - val_aux_output_1_loss: 1.0900e-07 - val_aux_output_2_loss: 0.8112 - val_main_output_acc: 1.0000 - val_aux_output_1_acc: 1.0000 - val_aux_output_2_acc: 0.8906\n",
      "Epoch 24/50\n",
      "576/576 [==============================] - 20s 34ms/step - loss: 3.3981e-06 - main_output_loss: 1.0967e-07 - aux_output_1_loss: 1.0967e-07 - aux_output_2_loss: 3.1788e-06 - main_output_acc: 1.0000 - aux_output_1_acc: 1.0000 - aux_output_2_acc: 1.0000 - val_loss: 0.8225 - val_main_output_loss: 1.1087e-07 - val_aux_output_1_loss: 1.0900e-07 - val_aux_output_2_loss: 0.8225 - val_main_output_acc: 1.0000 - val_aux_output_1_acc: 1.0000 - val_aux_output_2_acc: 0.8906\n",
      "Epoch 25/50\n",
      "576/576 [==============================] - 20s 34ms/step - loss: 1.3534e-06 - main_output_loss: 1.0967e-07 - aux_output_1_loss: 1.0967e-07 - aux_output_2_loss: 1.1340e-06 - main_output_acc: 1.0000 - aux_output_1_acc: 1.0000 - aux_output_2_acc: 1.0000 - val_loss: 0.8532 - val_main_output_loss: 1.1087e-07 - val_aux_output_1_loss: 1.0900e-07 - val_aux_output_2_loss: 0.8532 - val_main_output_acc: 1.0000 - val_aux_output_1_acc: 1.0000 - val_aux_output_2_acc: 0.9062\n",
      "Epoch 26/50\n",
      "576/576 [==============================] - 19s 33ms/step - loss: 4.3731e-07 - main_output_loss: 1.0967e-07 - aux_output_1_loss: 1.0967e-07 - aux_output_2_loss: 2.1797e-07 - main_output_acc: 1.0000 - aux_output_1_acc: 1.0000 - aux_output_2_acc: 1.0000 - val_loss: 0.8747 - val_main_output_loss: 1.1087e-07 - val_aux_output_1_loss: 1.0900e-07 - val_aux_output_2_loss: 0.8747 - val_main_output_acc: 1.0000 - val_aux_output_1_acc: 1.0000 - val_aux_output_2_acc: 0.9062\n",
      "Epoch 27/50\n",
      "576/576 [==============================] - 20s 36ms/step - loss: 3.3612e-07 - main_output_loss: 1.0967e-07 - aux_output_1_loss: 1.0967e-07 - aux_output_2_loss: 1.1678e-07 - main_output_acc: 1.0000 - aux_output_1_acc: 1.0000 - aux_output_2_acc: 1.0000 - val_loss: 0.8525 - val_main_output_loss: 1.1087e-07 - val_aux_output_1_loss: 1.0900e-07 - val_aux_output_2_loss: 0.8525 - val_main_output_acc: 1.0000 - val_aux_output_1_acc: 1.0000 - val_aux_output_2_acc: 0.9062\n",
      "Epoch 28/50\n",
      "576/576 [==============================] - 21s 36ms/step - loss: 0.0735 - main_output_loss: 1.0967e-07 - aux_output_1_loss: 1.0967e-07 - aux_output_2_loss: 0.0735 - main_output_acc: 1.0000 - aux_output_1_acc: 1.0000 - aux_output_2_acc: 0.9931 - val_loss: 1.2048 - val_main_output_loss: 1.0900e-07 - val_aux_output_1_loss: 1.0900e-07 - val_aux_output_2_loss: 1.2048 - val_main_output_acc: 1.0000 - val_aux_output_1_acc: 1.0000 - val_aux_output_2_acc: 0.8750\n",
      "Epoch 29/50\n",
      "576/576 [==============================] - 20s 34ms/step - loss: 4.4052e-06 - main_output_loss: 1.0967e-07 - aux_output_1_loss: 1.0967e-07 - aux_output_2_loss: 4.1859e-06 - main_output_acc: 1.0000 - aux_output_1_acc: 1.0000 - aux_output_2_acc: 1.0000 - val_loss: 1.1852 - val_main_output_loss: 1.0900e-07 - val_aux_output_1_loss: 1.0900e-07 - val_aux_output_2_loss: 1.1852 - val_main_output_acc: 1.0000 - val_aux_output_1_acc: 1.0000 - val_aux_output_2_acc: 0.8750\n",
      "Epoch 30/50\n",
      "576/576 [==============================] - 20s 35ms/step - loss: 7.1664e-07 - main_output_loss: 1.0967e-07 - aux_output_1_loss: 1.0967e-07 - aux_output_2_loss: 4.9729e-07 - main_output_acc: 1.0000 - aux_output_1_acc: 1.0000 - aux_output_2_acc: 1.0000 - val_loss: 1.1691 - val_main_output_loss: 1.0900e-07 - val_aux_output_1_loss: 1.0900e-07 - val_aux_output_2_loss: 1.1691 - val_main_output_acc: 1.0000 - val_aux_output_1_acc: 1.0000 - val_aux_output_2_acc: 0.8906\n",
      "Epoch 31/50\n",
      "576/576 [==============================] - 18s 32ms/step - loss: 4.6774e-07 - main_output_loss: 1.0967e-07 - aux_output_1_loss: 1.0967e-07 - aux_output_2_loss: 2.4840e-07 - main_output_acc: 1.0000 - aux_output_1_acc: 1.0000 - aux_output_2_acc: 1.0000 - val_loss: 1.1222 - val_main_output_loss: 1.1087e-07 - val_aux_output_1_loss: 1.0900e-07 - val_aux_output_2_loss: 1.1222 - val_main_output_acc: 1.0000 - val_aux_output_1_acc: 1.0000 - val_aux_output_2_acc: 0.8906\n",
      "Epoch 32/50\n",
      "576/576 [==============================] - 20s 34ms/step - loss: 3.5689e-07 - main_output_loss: 1.0967e-07 - aux_output_1_loss: 1.0967e-07 - aux_output_2_loss: 1.3754e-07 - main_output_acc: 1.0000 - aux_output_1_acc: 1.0000 - aux_output_2_acc: 1.0000 - val_loss: 1.0760 - val_main_output_loss: 1.1273e-07 - val_aux_output_1_loss: 1.0900e-07 - val_aux_output_2_loss: 1.0760 - val_main_output_acc: 1.0000 - val_aux_output_1_acc: 1.0000 - val_aux_output_2_acc: 0.9062\n",
      "Epoch 33/50\n",
      "576/576 [==============================] - 20s 34ms/step - loss: 3.3096e-07 - main_output_loss: 1.0967e-07 - aux_output_1_loss: 1.0967e-07 - aux_output_2_loss: 1.1162e-07 - main_output_acc: 1.0000 - aux_output_1_acc: 1.0000 - aux_output_2_acc: 1.0000 - val_loss: 0.8561 - val_main_output_loss: 1.1459e-07 - val_aux_output_1_loss: 1.0900e-07 - val_aux_output_2_loss: 0.8561 - val_main_output_acc: 1.0000 - val_aux_output_1_acc: 1.0000 - val_aux_output_2_acc: 0.9062\n",
      "Epoch 34/50\n",
      "576/576 [==============================] - 20s 34ms/step - loss: 3.2938e-07 - main_output_loss: 1.0967e-07 - aux_output_1_loss: 1.0967e-07 - aux_output_2_loss: 1.1004e-07 - main_output_acc: 1.0000 - aux_output_1_acc: 1.0000 - aux_output_2_acc: 1.0000 - val_loss: 0.9928 - val_main_output_loss: 1.1459e-07 - val_aux_output_1_loss: 1.0900e-07 - val_aux_output_2_loss: 0.9928 - val_main_output_acc: 1.0000 - val_aux_output_1_acc: 1.0000 - val_aux_output_2_acc: 0.9062\n",
      "Epoch 35/50\n"
     ]
    },
    {
     "name": "stdout",
     "output_type": "stream",
     "text": [
      "576/576 [==============================] - 19s 34ms/step - loss: 3.2901e-07 - main_output_loss: 1.0967e-07 - aux_output_1_loss: 1.0967e-07 - aux_output_2_loss: 1.0967e-07 - main_output_acc: 1.0000 - aux_output_1_acc: 1.0000 - aux_output_2_acc: 1.0000 - val_loss: 0.9928 - val_main_output_loss: 1.1459e-07 - val_aux_output_1_loss: 1.0900e-07 - val_aux_output_2_loss: 0.9928 - val_main_output_acc: 1.0000 - val_aux_output_1_acc: 1.0000 - val_aux_output_2_acc: 0.9062\n",
      "Epoch 36/50\n",
      "576/576 [==============================] - 20s 34ms/step - loss: 3.2901e-07 - main_output_loss: 1.0967e-07 - aux_output_1_loss: 1.0967e-07 - aux_output_2_loss: 1.0967e-07 - main_output_acc: 1.0000 - aux_output_1_acc: 1.0000 - aux_output_2_acc: 1.0000 - val_loss: 0.9928 - val_main_output_loss: 1.1459e-07 - val_aux_output_1_loss: 1.0900e-07 - val_aux_output_2_loss: 0.9928 - val_main_output_acc: 1.0000 - val_aux_output_1_acc: 1.0000 - val_aux_output_2_acc: 0.9062\n",
      "Epoch 37/50\n",
      "576/576 [==============================] - 19s 34ms/step - loss: 3.2901e-07 - main_output_loss: 1.0967e-07 - aux_output_1_loss: 1.0967e-07 - aux_output_2_loss: 1.0967e-07 - main_output_acc: 1.0000 - aux_output_1_acc: 1.0000 - aux_output_2_acc: 1.0000 - val_loss: 0.9928 - val_main_output_loss: 1.1459e-07 - val_aux_output_1_loss: 1.0900e-07 - val_aux_output_2_loss: 0.9928 - val_main_output_acc: 1.0000 - val_aux_output_1_acc: 1.0000 - val_aux_output_2_acc: 0.9062\n",
      "Epoch 38/50\n",
      "576/576 [==============================] - 19s 34ms/step - loss: 3.2901e-07 - main_output_loss: 1.0967e-07 - aux_output_1_loss: 1.0967e-07 - aux_output_2_loss: 1.0967e-07 - main_output_acc: 1.0000 - aux_output_1_acc: 1.0000 - aux_output_2_acc: 1.0000 - val_loss: 0.9928 - val_main_output_loss: 1.1459e-07 - val_aux_output_1_loss: 1.0900e-07 - val_aux_output_2_loss: 0.9928 - val_main_output_acc: 1.0000 - val_aux_output_1_acc: 1.0000 - val_aux_output_2_acc: 0.9062\n",
      "Epoch 39/50\n",
      "576/576 [==============================] - 20s 35ms/step - loss: 3.2901e-07 - main_output_loss: 1.0967e-07 - aux_output_1_loss: 1.0967e-07 - aux_output_2_loss: 1.0967e-07 - main_output_acc: 1.0000 - aux_output_1_acc: 1.0000 - aux_output_2_acc: 1.0000 - val_loss: 0.9928 - val_main_output_loss: 1.1459e-07 - val_aux_output_1_loss: 1.0900e-07 - val_aux_output_2_loss: 0.9928 - val_main_output_acc: 1.0000 - val_aux_output_1_acc: 1.0000 - val_aux_output_2_acc: 0.9062\n",
      "Epoch 40/50\n",
      "576/576 [==============================] - 19s 34ms/step - loss: 3.2901e-07 - main_output_loss: 1.0967e-07 - aux_output_1_loss: 1.0967e-07 - aux_output_2_loss: 1.0967e-07 - main_output_acc: 1.0000 - aux_output_1_acc: 1.0000 - aux_output_2_acc: 1.0000 - val_loss: 0.9928 - val_main_output_loss: 1.1459e-07 - val_aux_output_1_loss: 1.0900e-07 - val_aux_output_2_loss: 0.9928 - val_main_output_acc: 1.0000 - val_aux_output_1_acc: 1.0000 - val_aux_output_2_acc: 0.9062\n",
      "Epoch 41/50\n",
      "576/576 [==============================] - 19s 34ms/step - loss: 3.2901e-07 - main_output_loss: 1.0967e-07 - aux_output_1_loss: 1.0967e-07 - aux_output_2_loss: 1.0967e-07 - main_output_acc: 1.0000 - aux_output_1_acc: 1.0000 - aux_output_2_acc: 1.0000 - val_loss: 0.9928 - val_main_output_loss: 1.1459e-07 - val_aux_output_1_loss: 1.0900e-07 - val_aux_output_2_loss: 0.9928 - val_main_output_acc: 1.0000 - val_aux_output_1_acc: 1.0000 - val_aux_output_2_acc: 0.9062\n",
      "Epoch 42/50\n",
      "576/576 [==============================] - 19s 34ms/step - loss: 3.2901e-07 - main_output_loss: 1.0967e-07 - aux_output_1_loss: 1.0967e-07 - aux_output_2_loss: 1.0967e-07 - main_output_acc: 1.0000 - aux_output_1_acc: 1.0000 - aux_output_2_acc: 1.0000 - val_loss: 0.9928 - val_main_output_loss: 1.1459e-07 - val_aux_output_1_loss: 1.0900e-07 - val_aux_output_2_loss: 0.9928 - val_main_output_acc: 1.0000 - val_aux_output_1_acc: 1.0000 - val_aux_output_2_acc: 0.9062\n",
      "Epoch 43/50\n",
      "576/576 [==============================] - 19s 34ms/step - loss: 3.2901e-07 - main_output_loss: 1.0967e-07 - aux_output_1_loss: 1.0967e-07 - aux_output_2_loss: 1.0967e-07 - main_output_acc: 1.0000 - aux_output_1_acc: 1.0000 - aux_output_2_acc: 1.0000 - val_loss: 0.9928 - val_main_output_loss: 1.1459e-07 - val_aux_output_1_loss: 1.0900e-07 - val_aux_output_2_loss: 0.9928 - val_main_output_acc: 1.0000 - val_aux_output_1_acc: 1.0000 - val_aux_output_2_acc: 0.9062\n",
      "Epoch 44/50\n",
      "576/576 [==============================] - 19s 34ms/step - loss: 3.2901e-07 - main_output_loss: 1.0967e-07 - aux_output_1_loss: 1.0967e-07 - aux_output_2_loss: 1.0967e-07 - main_output_acc: 1.0000 - aux_output_1_acc: 1.0000 - aux_output_2_acc: 1.0000 - val_loss: 0.9928 - val_main_output_loss: 1.1459e-07 - val_aux_output_1_loss: 1.0900e-07 - val_aux_output_2_loss: 0.9928 - val_main_output_acc: 1.0000 - val_aux_output_1_acc: 1.0000 - val_aux_output_2_acc: 0.9062\n",
      "Epoch 45/50\n",
      "576/576 [==============================] - 20s 34ms/step - loss: 3.2901e-07 - main_output_loss: 1.0967e-07 - aux_output_1_loss: 1.0967e-07 - aux_output_2_loss: 1.0967e-07 - main_output_acc: 1.0000 - aux_output_1_acc: 1.0000 - aux_output_2_acc: 1.0000 - val_loss: 0.9928 - val_main_output_loss: 1.1459e-07 - val_aux_output_1_loss: 1.0900e-07 - val_aux_output_2_loss: 0.9928 - val_main_output_acc: 1.0000 - val_aux_output_1_acc: 1.0000 - val_aux_output_2_acc: 0.9062\n",
      "Epoch 46/50\n",
      "576/576 [==============================] - 19s 34ms/step - loss: 3.2901e-07 - main_output_loss: 1.0967e-07 - aux_output_1_loss: 1.0967e-07 - aux_output_2_loss: 1.0967e-07 - main_output_acc: 1.0000 - aux_output_1_acc: 1.0000 - aux_output_2_acc: 1.0000 - val_loss: 0.9928 - val_main_output_loss: 1.1459e-07 - val_aux_output_1_loss: 1.0900e-07 - val_aux_output_2_loss: 0.9928 - val_main_output_acc: 1.0000 - val_aux_output_1_acc: 1.0000 - val_aux_output_2_acc: 0.9062\n",
      "Epoch 47/50\n",
      "576/576 [==============================] - 20s 34ms/step - loss: 3.2901e-07 - main_output_loss: 1.0967e-07 - aux_output_1_loss: 1.0967e-07 - aux_output_2_loss: 1.0967e-07 - main_output_acc: 1.0000 - aux_output_1_acc: 1.0000 - aux_output_2_acc: 1.0000 - val_loss: 0.9928 - val_main_output_loss: 1.1459e-07 - val_aux_output_1_loss: 1.0900e-07 - val_aux_output_2_loss: 0.9928 - val_main_output_acc: 1.0000 - val_aux_output_1_acc: 1.0000 - val_aux_output_2_acc: 0.9062\n",
      "Epoch 48/50\n",
      "576/576 [==============================] - 20s 35ms/step - loss: 3.2901e-07 - main_output_loss: 1.0967e-07 - aux_output_1_loss: 1.0967e-07 - aux_output_2_loss: 1.0967e-07 - main_output_acc: 1.0000 - aux_output_1_acc: 1.0000 - aux_output_2_acc: 1.0000 - val_loss: 0.9928 - val_main_output_loss: 1.1459e-07 - val_aux_output_1_loss: 1.0900e-07 - val_aux_output_2_loss: 0.9928 - val_main_output_acc: 1.0000 - val_aux_output_1_acc: 1.0000 - val_aux_output_2_acc: 0.9062\n",
      "Epoch 49/50\n",
      "576/576 [==============================] - 20s 34ms/step - loss: 3.2901e-07 - main_output_loss: 1.0967e-07 - aux_output_1_loss: 1.0967e-07 - aux_output_2_loss: 1.0967e-07 - main_output_acc: 1.0000 - aux_output_1_acc: 1.0000 - aux_output_2_acc: 1.0000 - val_loss: 0.9928 - val_main_output_loss: 1.1459e-07 - val_aux_output_1_loss: 1.0900e-07 - val_aux_output_2_loss: 0.9928 - val_main_output_acc: 1.0000 - val_aux_output_1_acc: 1.0000 - val_aux_output_2_acc: 0.9062\n",
      "Epoch 50/50\n",
      "576/576 [==============================] - 20s 35ms/step - loss: 3.2901e-07 - main_output_loss: 1.0967e-07 - aux_output_1_loss: 1.0967e-07 - aux_output_2_loss: 1.0967e-07 - main_output_acc: 1.0000 - aux_output_1_acc: 1.0000 - aux_output_2_acc: 1.0000 - val_loss: 0.9928 - val_main_output_loss: 1.1459e-07 - val_aux_output_1_loss: 1.0900e-07 - val_aux_output_2_loss: 0.9928 - val_main_output_acc: 1.0000 - val_aux_output_1_acc: 1.0000 - val_aux_output_2_acc: 0.9062\n",
      "160/160 [==============================] - 1s 7ms/step\n"
     ]
    }
   ],
   "source": [
    "#Collaborative net. \n",
    "#Each net is training on its own text file and looking for specific patterns in their\n",
    "#own right. However the idea behind the test is to see if sharing what each model is learning\n",
    "#will collectively help the main model. The model below has the sharing of both layers from\n",
    "#both auxiliary nets. \n",
    "\n",
    "\n",
    "#First auxiliary model..feeding it \"Dovish or hawkish\" text and associated labels.\n",
    "auxiliary_input_1 = Input(shape=(100,)) \n",
    "e_2 = Embedding(vocab_size_1,200, input_length=100,trainable=True)(auxiliary_input_1)\n",
    "lstm_2 = LSTM(200,input_shape=(100,1))(e_2)\n",
    "#Logistic regression layer\n",
    "auxiliary_output_1 = Dense(1, activation='sigmoid', name='aux_output_1')(lstm_2)  \n",
    "\n",
    "\n",
    "          \n",
    "#Second auxiliary model..feeding it \"Neutral or Dovish\" text and associated labels. \n",
    "auxiliary_input_2 = Input(shape=(100,)) \n",
    "e_3 = Embedding(vocab_size_1,200, input_length=100,trainable=True)(auxiliary_input_2)\n",
    "lstm_3 = LSTM(200,input_shape=(100,1))(e_3)\n",
    "#Logistic regression layer\n",
    "auxiliary_output_2 = Dense(1, activation='sigmoid', name='aux_output_2')(lstm_3) \n",
    "\n",
    "\n",
    "     \n",
    "#Main model...feeding it \"Neutral or hawkish\" text and associated labels.\n",
    "main_input = Input(shape=(100, ), name='aux_input')\n",
    "#Share word embeddings.\n",
    "e_1 = Embedding(vocab_size_1, 200,input_length=100,trainable=True)(main_input)\n",
    "#Share lstm layers. \n",
    "x = keras.layers.concatenate([e_1,e_2,e_3])\n",
    "#Final lstm layer of main model.\n",
    "lstm_1 = LSTM(200,input_shape=(100,1))(x) \n",
    "x2 = keras.layers.concatenate([lstm_1,lstm_2,lstm_3])\n",
    "#Logistic regression layer.\n",
    "main_output = Dense(1, activation='sigmoid', name='main_output')(x2)    \n",
    "    \n",
    "    \n",
    "#Define inputs and outputs from main model. \n",
    "model = Model(inputs=[main_input, auxiliary_input_1,auxiliary_input_2], outputs=[main_output, auxiliary_output_1,auxiliary_output_2])\n",
    "\n",
    "#Allowing for equal loss contributions from each model.  \n",
    "model.compile(optimizer='rmsprop', loss='binary_crossentropy',metrics=['acc'],loss_weights=[1.0,1.0,1.0]) \n",
    " \n",
    "\n",
    "history_1 = model.fit([X_train_1, X_train_2, X_train_3], [y_train_1, y_train_2, y_train_3],\n",
    "         batch_size=10, epochs=50,\n",
    "           validation_split=0.10, shuffle=True, verbose=1) \n",
    "\n",
    "model.evaluate([x_test_2018, X_test_2, X_test_3], [labels_2018, y_test_2, y_test_3], batch_size=10)\n",
    "\n",
    "collab_mod = model.predict([x_test_2018, X_test_2, X_test_3], batch_size=10,verbose=2)\n",
    " \n",
    " "
   ]
  },
  {
   "cell_type": "code",
   "execution_count": 22,
   "metadata": {},
   "outputs": [
    {
     "data": {
      "text/plain": [
       "['loss',\n",
       " 'main_output_loss',\n",
       " 'aux_output_1_loss',\n",
       " 'aux_output_2_loss',\n",
       " 'main_output_acc',\n",
       " 'aux_output_1_acc',\n",
       " 'aux_output_2_acc']"
      ]
     },
     "execution_count": 22,
     "metadata": {},
     "output_type": "execute_result"
    }
   ],
   "source": [
    "#Check metrics for collaborative net\n",
    "model.metrics_names "
   ]
  },
  {
   "cell_type": "code",
   "execution_count": 23,
   "metadata": {},
   "outputs": [
    {
     "data": {
      "text/plain": [
       "1.0    80\n",
       "0.0    80\n",
       "dtype: int64"
      ]
     },
     "execution_count": 23,
     "metadata": {},
     "output_type": "execute_result"
    }
   ],
   "source": [
    "#Baseline :test class labels \n",
    "labels_2018.value_counts()"
   ]
  },
  {
   "cell_type": "code",
   "execution_count": 24,
   "metadata": {},
   "outputs": [
    {
     "name": "stdout",
     "output_type": "stream",
     "text": [
      "[[80  0]\n",
      " [ 0 80]]\n",
      "1.0\n"
     ]
    }
   ],
   "source": [
    "#Precision/recall check & f1 score for collaborative model\n",
    "print_metrics(collab_mod[0],y_test_1)"
   ]
  },
  {
   "cell_type": "code",
   "execution_count": 25,
   "metadata": {},
   "outputs": [
    {
     "data": {
      "image/png": "[encoded data removed]",
      "text/plain": [
       "<matplotlib.figure.Figure at 0x1068e6ad0>"
      ]
     },
     "metadata": {},
     "output_type": "display_data"
    },
    {
     "data": {
      "image/png": "[encoded data removed]",
      "text/plain": [
       "<matplotlib.figure.Figure at 0x120e18550>"
      ]
     },
     "metadata": {},
     "output_type": "display_data"
    }
   ],
   "source": [
    "#Plot collaborative model behaviour over 50 epochs\n",
    "plot_model(history_1)"
   ]
  },
  {
   "cell_type": "code",
   "execution_count": 26,
   "metadata": {
    "scrolled": true
   },
   "outputs": [
    {
     "name": "stdout",
     "output_type": "stream",
     "text": [
      "Train on 576 samples, validate on 64 samples\n",
      "Epoch 1/50\n",
      "576/576 [==============================] - 11s 18ms/step - loss: 0.6745 - acc: 0.6892 - val_loss: 0.5401 - val_acc: 0.8594\n",
      "Epoch 2/50\n",
      "576/576 [==============================] - 9s 15ms/step - loss: 0.2294 - acc: 0.9288 - val_loss: 0.2726 - val_acc: 0.9062\n",
      "Epoch 3/50\n",
      "576/576 [==============================] - 9s 16ms/step - loss: 0.1627 - acc: 0.9497 - val_loss: 0.3071 - val_acc: 0.9219\n",
      "Epoch 4/50\n",
      "576/576 [==============================] - 9s 15ms/step - loss: 0.0339 - acc: 0.9913 - val_loss: 0.1963 - val_acc: 0.9375\n",
      "Epoch 5/50\n",
      "576/576 [==============================] - 9s 15ms/step - loss: 0.0039 - acc: 1.0000 - val_loss: 0.2375 - val_acc: 0.9219\n",
      "Epoch 6/50\n",
      "576/576 [==============================] - 8s 14ms/step - loss: 0.0013 - acc: 1.0000 - val_loss: 0.2354 - val_acc: 0.9219\n",
      "Epoch 7/50\n",
      "576/576 [==============================] - 9s 15ms/step - loss: 8.3819e-04 - acc: 1.0000 - val_loss: 0.2592 - val_acc: 0.9219\n",
      "Epoch 8/50\n",
      "576/576 [==============================] - 10s 17ms/step - loss: 5.8022e-04 - acc: 1.0000 - val_loss: 0.2682 - val_acc: 0.9219\n",
      "Epoch 9/50\n",
      "576/576 [==============================] - 8s 15ms/step - loss: 4.3630e-04 - acc: 1.0000 - val_loss: 0.3044 - val_acc: 0.9219\n",
      "Epoch 10/50\n",
      "576/576 [==============================] - 9s 15ms/step - loss: 3.4273e-04 - acc: 1.0000 - val_loss: 0.3016 - val_acc: 0.9219\n",
      "Epoch 11/50\n",
      "576/576 [==============================] - 9s 15ms/step - loss: 2.7589e-04 - acc: 1.0000 - val_loss: 0.2833 - val_acc: 0.9219\n",
      "Epoch 12/50\n",
      "576/576 [==============================] - 8s 15ms/step - loss: 2.2872e-04 - acc: 1.0000 - val_loss: 0.2876 - val_acc: 0.9219\n",
      "Epoch 13/50\n",
      "576/576 [==============================] - 9s 15ms/step - loss: 1.9191e-04 - acc: 1.0000 - val_loss: 0.2930 - val_acc: 0.9219\n",
      "Epoch 14/50\n",
      "576/576 [==============================] - 8s 15ms/step - loss: 1.6301e-04 - acc: 1.0000 - val_loss: 0.2818 - val_acc: 0.9062\n",
      "Epoch 15/50\n",
      "576/576 [==============================] - 9s 15ms/step - loss: 1.4103e-04 - acc: 1.0000 - val_loss: 0.2909 - val_acc: 0.9062\n",
      "Epoch 16/50\n",
      "576/576 [==============================] - 9s 15ms/step - loss: 1.2155e-04 - acc: 1.0000 - val_loss: 0.2192 - val_acc: 0.9375\n",
      "Epoch 17/50\n",
      "576/576 [==============================] - 8s 15ms/step - loss: 1.0908e-04 - acc: 1.0000 - val_loss: 0.2481 - val_acc: 0.9219\n",
      "Epoch 18/50\n",
      "576/576 [==============================] - 9s 15ms/step - loss: 9.5109e-05 - acc: 1.0000 - val_loss: 0.2581 - val_acc: 0.9062\n",
      "Epoch 19/50\n",
      "576/576 [==============================] - 9s 16ms/step - loss: 8.4279e-05 - acc: 1.0000 - val_loss: 0.2151 - val_acc: 0.9219\n",
      "Epoch 20/50\n",
      "576/576 [==============================] - 9s 15ms/step - loss: 7.5082e-05 - acc: 1.0000 - val_loss: 0.2521 - val_acc: 0.9062\n",
      "Epoch 21/50\n",
      "576/576 [==============================] - 8s 14ms/step - loss: 6.8200e-05 - acc: 1.0000 - val_loss: 0.2068 - val_acc: 0.9219\n",
      "Epoch 22/50\n",
      "576/576 [==============================] - 8s 14ms/step - loss: 6.2036e-05 - acc: 1.0000 - val_loss: 0.2188 - val_acc: 0.9219\n",
      "Epoch 23/50\n",
      "576/576 [==============================] - 9s 15ms/step - loss: 5.5645e-05 - acc: 1.0000 - val_loss: 0.1977 - val_acc: 0.9375\n",
      "Epoch 24/50\n",
      "576/576 [==============================] - 8s 15ms/step - loss: 5.1120e-05 - acc: 1.0000 - val_loss: 0.2370 - val_acc: 0.9062\n",
      "Epoch 25/50\n",
      "576/576 [==============================] - 8s 14ms/step - loss: 4.6588e-05 - acc: 1.0000 - val_loss: 0.1971 - val_acc: 0.9375\n",
      "Epoch 26/50\n",
      "576/576 [==============================] - 8s 14ms/step - loss: 4.2575e-05 - acc: 1.0000 - val_loss: 0.2186 - val_acc: 0.9219\n",
      "Epoch 27/50\n",
      "576/576 [==============================] - 9s 15ms/step - loss: 3.9405e-05 - acc: 1.0000 - val_loss: 0.2004 - val_acc: 0.9375\n",
      "Epoch 28/50\n",
      "576/576 [==============================] - 9s 15ms/step - loss: 3.5786e-05 - acc: 1.0000 - val_loss: 0.1847 - val_acc: 0.9375\n",
      "Epoch 29/50\n",
      "576/576 [==============================] - 8s 15ms/step - loss: 3.3593e-05 - acc: 1.0000 - val_loss: 0.1779 - val_acc: 0.9375\n",
      "Epoch 30/50\n",
      "576/576 [==============================] - 8s 14ms/step - loss: 3.0605e-05 - acc: 1.0000 - val_loss: 0.1707 - val_acc: 0.9531\n",
      "Epoch 31/50\n",
      "576/576 [==============================] - 8s 14ms/step - loss: 2.8414e-05 - acc: 1.0000 - val_loss: 0.1715 - val_acc: 0.9531\n",
      "Epoch 32/50\n",
      "576/576 [==============================] - 8s 14ms/step - loss: 2.6502e-05 - acc: 1.0000 - val_loss: 0.1764 - val_acc: 0.9531\n",
      "Epoch 33/50\n",
      "576/576 [==============================] - 8s 15ms/step - loss: 2.4590e-05 - acc: 1.0000 - val_loss: 0.1732 - val_acc: 0.9531\n",
      "Epoch 34/50\n",
      "576/576 [==============================] - 8s 15ms/step - loss: 2.2762e-05 - acc: 1.0000 - val_loss: 0.1936 - val_acc: 0.9375\n",
      "Epoch 35/50\n",
      "576/576 [==============================] - 9s 16ms/step - loss: 2.1365e-05 - acc: 1.0000 - val_loss: 0.1752 - val_acc: 0.9531\n",
      "Epoch 36/50\n",
      "576/576 [==============================] - 8s 15ms/step - loss: 2.0412e-05 - acc: 1.0000 - val_loss: 0.1723 - val_acc: 0.9531\n",
      "Epoch 37/50\n",
      "576/576 [==============================] - 9s 15ms/step - loss: 1.8652e-05 - acc: 1.0000 - val_loss: 0.1692 - val_acc: 0.9531\n",
      "Epoch 38/50\n",
      "576/576 [==============================] - 8s 15ms/step - loss: 1.7440e-05 - acc: 1.0000 - val_loss: 0.1764 - val_acc: 0.9531\n",
      "Epoch 39/50\n",
      "576/576 [==============================] - 10s 17ms/step - loss: 1.6354e-05 - acc: 1.0000 - val_loss: 0.1807 - val_acc: 0.9531\n",
      "Epoch 40/50\n",
      "576/576 [==============================] - 9s 16ms/step - loss: 1.5345e-05 - acc: 1.0000 - val_loss: 0.1788 - val_acc: 0.9531\n",
      "Epoch 41/50\n",
      "576/576 [==============================] - 8s 14ms/step - loss: 1.4413e-05 - acc: 1.0000 - val_loss: 0.1722 - val_acc: 0.9531\n",
      "Epoch 42/50\n",
      "576/576 [==============================] - 8s 15ms/step - loss: 1.3718e-05 - acc: 1.0000 - val_loss: 0.1883 - val_acc: 0.9687\n",
      "Epoch 43/50\n",
      "576/576 [==============================] - 10s 17ms/step - loss: 1.2736e-05 - acc: 1.0000 - val_loss: 0.1921 - val_acc: 0.9687\n",
      "Epoch 44/50\n",
      "576/576 [==============================] - 10s 17ms/step - loss: 1.2005e-05 - acc: 1.0000 - val_loss: 0.2012 - val_acc: 0.9531\n",
      "Epoch 45/50\n",
      "576/576 [==============================] - 9s 16ms/step - loss: 1.1449e-05 - acc: 1.0000 - val_loss: 0.1902 - val_acc: 0.9687\n",
      "Epoch 46/50\n",
      "576/576 [==============================] - 9s 15ms/step - loss: 1.0805e-05 - acc: 1.0000 - val_loss: 0.1866 - val_acc: 0.9687\n",
      "Epoch 47/50\n",
      "576/576 [==============================] - 9s 16ms/step - loss: 1.0178e-05 - acc: 1.0000 - val_loss: 0.1926 - val_acc: 0.9687\n",
      "Epoch 48/50\n",
      "576/576 [==============================] - 9s 15ms/step - loss: 9.5287e-06 - acc: 1.0000 - val_loss: 0.1835 - val_acc: 0.9687\n",
      "Epoch 49/50\n",
      "576/576 [==============================] - 9s 15ms/step - loss: 9.0448e-06 - acc: 1.0000 - val_loss: 0.1959 - val_acc: 0.9687\n",
      "Epoch 50/50\n",
      "576/576 [==============================] - 9s 15ms/step - loss: 8.5904e-06 - acc: 1.0000 - val_loss: 0.1900 - val_acc: 0.9687\n"
     ]
    }
   ],
   "source": [
    "#Solo model,using sequential model. Model is asked to predict if unseen text is neutral\n",
    "#or hawkish.\n",
    "\n",
    "model_2 = Sequential()\n",
    "\n",
    "\n",
    "#Add embedding layer, allow for layer to retrain\n",
    "e = Embedding(vocab_size_1, 200, input_length=100, trainable=True)\n",
    "model_2.add(e)\n",
    "\n",
    "#LSTM layer\n",
    "model_2.add(LSTM(200, input_shape=(100,1)))\n",
    "#Logistic Regression classifier layer\n",
    "model_2.add(Dense(1, activation='sigmoid'))\n",
    "\n",
    "#Compile model, same loss function and optimizer as main model from the collaborative net above\n",
    "model_2.compile(optimizer='Adam', loss='binary_crossentropy', metrics=['acc'])\n",
    " \n",
    "#Fit the model\n",
    "history_2 = model_2.fit(X_train_1, y_train_1, shuffle=True, batch_size=10, epochs=50, \n",
    "           validation_split=0.10,verbose=1)\n",
    "\n",
    "#Evaluate the model\n",
    "model_2.evaluate(x_test_2018,labels_2018, verbose=2,batch_size=10)\n",
    "\n",
    "pred_ldense = model_2.predict(x_test_2018, batch_size=10,verbose=2)"
   ]
  },
  {
   "cell_type": "code",
   "execution_count": 27,
   "metadata": {},
   "outputs": [
    {
     "name": "stdout",
     "output_type": "stream",
     "text": [
      "[[41 39]\n",
      " [39 41]]\n",
      "0.5125\n"
     ]
    }
   ],
   "source": [
    "#Confusion matrix and F1 score for solo model.\n",
    "#Solo model repeatedly produces a much lower precision or recall score. \n",
    "#The smaller the signal vs noise the wider the gap between the collaborative and solo\n",
    "#nets' f1 score.\n",
    " \n",
    "print_metrics(pred_ldense,y_test_1)"
   ]
  },
  {
   "cell_type": "code",
   "execution_count": 28,
   "metadata": {},
   "outputs": [
    {
     "data": {
      "image/png": "[encoded data removed]",
      "text/plain": [
       "<matplotlib.figure.Figure at 0x1068f29d0>"
      ]
     },
     "metadata": {},
     "output_type": "display_data"
    },
    {
     "data": {
      "image/png": "[encoded data removed]",
      "text/plain": [
       "<matplotlib.figure.Figure at 0x12068ed10>"
      ]
     },
     "metadata": {},
     "output_type": "display_data"
    }
   ],
   "source": [
    "#Plot model path over 50 epochs.  \n",
    "plot_model_solo(history_2)"
   ]
  }
 ],
 "metadata": {
  "kernelspec": {
   "display_name": "Python 2",
   "language": "python",
   "name": "python2"
  },
  "language_info": {
   "codemirror_mode": {
    "name": "ipython",
    "version": 2
   },
   "file_extension": ".py",
   "mimetype": "text/x-python",
   "name": "python",
   "nbconvert_exporter": "python",
   "pygments_lexer": "ipython2",
   "version": "2.7.14"
  }
 },
 "nbformat": 4,
 "nbformat_minor": 2
}
