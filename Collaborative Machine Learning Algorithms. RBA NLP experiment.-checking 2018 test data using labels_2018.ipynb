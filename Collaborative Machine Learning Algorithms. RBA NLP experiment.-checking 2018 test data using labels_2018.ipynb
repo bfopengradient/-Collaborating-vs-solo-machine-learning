{
 "cells": [
  {
   "cell_type": "markdown",
   "metadata": {},
   "source": [
    "#### Testing relative performance of multiple machine learning models \"working together\" versus a solo machine learning model. \n",
    "\n",
    "#### Experiment to see how multiple neural network models might \"collaborate\" versus a solo neural network tasked with the same classification challenge. The task for both nets was to classify unseen sections of RBA text.  \n",
    "\n",
    "#### Labels relate to forward actions by the RBA. Class labels were balanced for each run. Rebalancing the classes resulted in some reduction of variance within the classes of interest. \n",
    "\n",
    "#### Results are down the bottom of the notebook. \n",
    "\n",
    "#### Three distinct but related sets of text data were passed to three separate neural nets at the same time. Each had distinct and separate text classification tasks but at the same time the two auxiliary models would be allowed to share updates as they trained with the main model. \n",
    "\n",
    "#### The three data sets are as follows:  \n",
    "\n",
    "1. Text from RBA \"deemed\" neutral.\n",
    "2. Text from RBA \"deemed\" dovish.\n",
    "3. Text from RBA \"deemed\" hawkish.\n",
    "                  \n",
    "#### Machine learning models were set to analyse paragraphs or chunks of text in blocks of around 100 words at a time. LSTM layers were used to remember sequences of 100 words at a time and find any pattern or signal.\n",
    "\n",
    "#### Oct/2018"
   ]
  },
  {
   "cell_type": "code",
   "execution_count": 1,
   "metadata": {},
   "outputs": [
    {
     "name": "stderr",
     "output_type": "stream",
     "text": [
      "Using TensorFlow backend.\n"
     ]
    }
   ],
   "source": [
    "import os\n",
    "import shutil\n",
    "import time, glob\n",
    "\n",
    "#Tensorflow\n",
    "import tensorflow as tf \n",
    "\n",
    "#Pandas\n",
    "import pandas as pd\n",
    "from pandas import read_csv\n",
    "\n",
    "#Numpy\n",
    "import numpy as np\n",
    "from numpy import array\n",
    "from array import array\n",
    "from numpy import argmax\n",
    "from numpy import zeros\n",
    "\n",
    "#Randoms\n",
    "import os\n",
    "from tqdm import tqdm \n",
    "from itertools import cycle\n",
    "import logging\n",
    "logging.basicConfig(format='%(asctime)s : %(levelname)s : %(message)s', level=logging.INFO)\n",
    "import string\n",
    "\n",
    "#Matplotlib  \n",
    "%matplotlib inline\n",
    "import matplotlib.pyplot as plt\n",
    "\n",
    "\n",
    "#SK Learn\n",
    "import sklearn\n",
    "from sklearn.model_selection import train_test_split\n",
    "from sklearn import metrics\n",
    "from sklearn import preprocessing\n",
    "from sklearn.externals import joblib\n",
    "from sklearn.metrics import classification_report\n",
    "from sklearn.metrics import confusion_matrix\n",
    "from sklearn.metrics import f1_score\n",
    "from sklearn.utils import resample\n",
    " \n",
    "   \n",
    "#Keras\n",
    "import keras\n",
    "from keras.engine import Input\n",
    "from keras.models import Model\n",
    "from keras.layers.merge import dot\n",
    "from keras.utils import plot_model\n",
    "from keras import backend as K\n",
    "from keras import callbacks\n",
    "from keras import layers\n",
    "from keras import models\n",
    "from keras.wrappers.scikit_learn import KerasClassifier\n",
    "from keras.callbacks import ModelCheckpoint\n",
    "from keras.callbacks import ReduceLROnPlateau\n",
    "from keras.models import Sequential\n",
    "from keras.layers import Dense\n",
    "from keras.wrappers.scikit_learn import KerasClassifier\n",
    "from keras.preprocessing.text import Tokenizer\n",
    "from keras.preprocessing.sequence import pad_sequences\n",
    "from keras.utils.np_utils import to_categorical\n",
    "from keras.layers import Input, Dense, Flatten\n",
    "from keras.layers import Conv1D, MaxPooling1D\n",
    "from keras.layers import TimeDistributed\n",
    "from keras.layers.wrappers import TimeDistributed, Bidirectional\n",
    "from keras.layers.embeddings import Embedding\n",
    "from keras.layers.recurrent import LSTM, GRU\n",
    "from keras.layers.core import Dense, Masking\n",
    "from keras import regularizers\n",
    "from keras.layers import Flatten\n",
    "from keras.layers import Embedding\n",
    "from keras.layers import Dropout, Input\n",
    "from keras.layers.noise import GaussianNoise\n",
    "from keras.layers import LSTM\n",
    "from keras import optimizers\n",
    "from keras import regularizers\n",
    "from keras.layers import Merge\n",
    "from keras.layers.convolutional import Convolution2D, MaxPooling2D, ZeroPadding2D\n",
    "from keras.layers.core import Dense, Activation, Dropout, Reshape, Flatten\n",
    "from keras.utils.np_utils import to_categorical\n",
    "    \n",
    "#Print Confusion matrix and F1 score\n",
    "def print_metrics(self,y):\n",
    "    pred_round_1 = np.round(self, decimals=0,out=None)\n",
    "    f1 = f1_score(y, pred_round_1,average='binary')\n",
    "    con_1= confusion_matrix(y, pred_round_1)\n",
    "    print(con_1)\n",
    "    print(f1)\n",
    "    \n",
    "    \n",
    "#Plot convergence path for collaborative model   \n",
    "def plot_model(self): \n",
    "    plt.plot(self.history['main_output_acc'])\n",
    "    plt.plot(self.history['val_main_output_acc'])\n",
    "    plt.title('model accuracy')\n",
    "    plt.ylabel('accuracy')\n",
    "    plt.xlabel('epoch')\n",
    "    plt.legend(['train', 'val'], loc='upper left')\n",
    "    plt.show()     \n",
    "    plt.plot(self.history['main_output_loss'])\n",
    "    plt.plot(self.history['val_main_output_loss'])\n",
    "    plt.title('model loss')\n",
    "    plt.ylabel('loss')\n",
    "    plt.xlabel('epoch')\n",
    "    plt.legend(['train', 'val'], loc='upper left')\n",
    "    plt.show() \n",
    "    \n",
    "#Plot convergence path for solo model  \n",
    "def plot_model_solo(self): \n",
    "    plt.plot(self.history['acc'])\n",
    "    plt.plot(self.history['val_acc'])\n",
    "    plt.title('model accuracy')\n",
    "    plt.ylabel('accuracy')\n",
    "    plt.xlabel('epoch')\n",
    "    plt.legend(['train', 'val'], loc='upper left')\n",
    "    plt.show()     \n",
    "    plt.plot(self.history['loss'])\n",
    "    plt.plot(self.history['val_loss'])\n",
    "    plt.title('model loss')\n",
    "    plt.ylabel('loss')\n",
    "    plt.xlabel('epoch')\n",
    "    plt.legend(['train', 'val'], loc='upper left')\n",
    "    plt.show() "
   ]
  },
  {
   "cell_type": "markdown",
   "metadata": {},
   "source": [
    "### Read in text files for various predictor matrices.  Three bodies of text split into \"Neutral\", \"Dovish\" and \"Hawkish\". "
   ]
  },
  {
   "cell_type": "code",
   "execution_count": 2,
   "metadata": {},
   "outputs": [
    {
     "name": "stdout",
     "output_type": "stream",
     "text": [
      "((3984, 1), (923, 1), (529, 1))\n"
     ]
    }
   ],
   "source": [
    "#Read in all files from folder relating to \"RBA neutral\"  text\n",
    "with open(\"/Users/brianfarrell/Documents/RBA do nothing/outfile\", 'wb',) as outfile:\n",
    "    for filename in glob.glob( '/Users/brianfarrell/Documents/RBA do nothing/tabula*.csv'):\n",
    "        if filename == outfile:             \n",
    "            continue\n",
    "        with open(filename, 'rb') as readfile:\n",
    "            shutil.copyfileobj(readfile, outfile)\n",
    "#Save \"RBA neutral\" text\n",
    "x = pd.read_fwf('/Users/brianfarrell/Documents/RBA do nothing/outfile',\n",
    "                sep=\".\",encoding='utf8',usecols=[0], header=None)\n",
    "x.rename(columns={0:'text'},inplace=True)\n",
    "\n",
    "\n",
    "             \n",
    "#Open and read in all files relating to \"RBA dovish\" text\n",
    "with open(\"/Users/brianfarrell/Documents/RBA ease/rba_ease.csv\", 'wb',) as outfile:\n",
    "    for filename in glob.glob('/Users/brianfarrell/Documents/RBA ease/tabula*.csv',):\n",
    "        if filename == outfile:            \n",
    "            continue\n",
    "        with open(filename, 'rb') as readfile:\n",
    "            shutil.copyfileobj(readfile, outfile) \n",
    "#Save \"RBA dovish\" text\n",
    "x1 = pd.read_fwf('/Users/brianfarrell/Documents/RBA ease/rba_ease.csv',sep=\".\",encoding='utf8',\n",
    "                 usecols=[0], header=None)\n",
    "x1.rename(columns={0:'text'},inplace=True) \n",
    "\n",
    "\n",
    "#Read in all files relating to \"RBA hawkish\" text \n",
    "with open(\"/Users/brianfarrell/Documents/RBA hike/rba_hike.csv\", 'wb',) as outfile:\n",
    "    for filename in glob.glob('/Users/brianfarrell/Documents/RBA hike/tabula*.csv',):\n",
    "        if filename == outfile:             \n",
    "            continue\n",
    "        with open(filename, 'rb') as readfile:\n",
    "            shutil.copyfileobj(readfile, outfile) \n",
    "#Save \"RBA hawkish\" text\n",
    "x2 = pd.read_fwf('/Users/brianfarrell/Documents/RBA hike/rba_hike.csv',sep=\".\",\n",
    "                encoding='utf8',usecols=[0], header=None)\n",
    "x2.rename(columns={0:'text'},inplace=True)\n",
    " \n",
    " \n",
    "\n",
    "print(x.shape,x1.shape,x2.shape)"
   ]
  },
  {
   "cell_type": "markdown",
   "metadata": {},
   "source": [
    "### Define binary class labels for each neural net."
   ]
  },
  {
   "cell_type": "code",
   "execution_count": 3,
   "metadata": {},
   "outputs": [
    {
     "name": "stdout",
     "output_type": "stream",
     "text": [
      "((5436, 1), (400,), (400,))\n"
     ]
    }
   ],
   "source": [
    "#Define DF for text enocoding below. \n",
    "result= pd.concat([x,x1,x2])\n",
    "#Set target class label array for each Neural Net\n",
    "labels_zeros = np.zeros(400,)\n",
    "labels_ones = np.ones(400,)\n",
    "\n",
    "print(result.shape, labels_zeros.shape,labels_ones.shape)"
   ]
  },
  {
   "cell_type": "markdown",
   "metadata": {},
   "source": [
    "### Tokenize, encode and pad. No NLP preprocessing performed(eg, no punctuation or stopwords removed, no Stemming or Lemmatizing)."
   ]
  },
  {
   "cell_type": "code",
   "execution_count": 4,
   "metadata": {},
   "outputs": [
    {
     "name": "stdout",
     "output_type": "stream",
     "text": [
      "(2298, (3984, 10), (923, 10), (529, 10))\n"
     ]
    }
   ],
   "source": [
    "#Using one Tokinizer to fit on entire text from three files to allow for widest vocabulary index.\n",
    "\n",
    "#Encode blocks of 10 tokens at a time.\n",
    "max_length = 10\n",
    "\n",
    "t_1 = Tokenizer()\n",
    "docs_1= result['text']\n",
    "#Neutral\n",
    "docs_2 = x['text']\n",
    "#Dovish\n",
    "docs_3 = x1['text']\n",
    "#Hawkish\n",
    "docs_4 = x2['text']\n",
    " \n",
    "\n",
    "\n",
    "#Used the following Tokenizer to help encode all three predictor arrays for each Neural Network.\n",
    "#Each word and punctuation is assigned a unique integer. From there each word is effectively\n",
    "#assigned a 200 dimension word embedding vector. Each dimension represents a conversational context.\n",
    "#Number of contexts is decided upfront depending on the size and complexity of the target corpus. \n",
    "\n",
    "t_1.fit_on_texts(docs_1)\n",
    "vocab_size_1 = len(t_1.word_index) + 1\n",
    "\n",
    "#Neutral\n",
    "encoded_docs_1 = t_1.texts_to_sequences(docs_2)\n",
    "#Dovish\n",
    "encoded_docs_2 = t_1.texts_to_sequences(docs_3)\n",
    "#Hawkish\n",
    "encoded_docs_3 = t_1.texts_to_sequences(docs_4)\n",
    " \n",
    "\n",
    "\n",
    "#Neutral\n",
    "padded_docs_1 = pad_sequences(encoded_docs_1, maxlen=max_length, padding='post')\n",
    "#Dovish\n",
    "padded_docs_2 = pad_sequences(encoded_docs_2, maxlen=max_length, padding='post')\n",
    "#Hawkish\n",
    "padded_docs_3 = pad_sequences(encoded_docs_3, maxlen=max_length, padding='post')\n",
    " \n",
    "\n",
    "print(vocab_size_1,padded_docs_1.shape,padded_docs_2.shape,padded_docs_3.shape) "
   ]
  },
  {
   "cell_type": "code",
   "execution_count": 5,
   "metadata": {},
   "outputs": [
    {
     "name": "stdout",
     "output_type": "stream",
     "text": [
      "(4000, 10)\n",
      "(1000, 10)\n",
      "(600, 10)\n"
     ]
    }
   ],
   "source": [
    "#Subjectively decided to round up using top of text files as the top and bottom of corpus\n",
    "#tends to have important content.\n",
    " \n",
    "#Rounding up before reshaping\n",
    "#RBA neutral text enlarged\n",
    "padded_docs_4= padded_docs_1[0:16]\n",
    "padded_docs_5 = np.concatenate((padded_docs_1,padded_docs_4),axis=0)\n",
    " \n",
    "\n",
    "#Rounding up before reshaping\n",
    "#RBA dovish text enlarged\n",
    "padded_docs_6= padded_docs_2[0:77]\n",
    "padded_docs_7 = np.concatenate((padded_docs_2,padded_docs_6),axis=0)\n",
    " \n",
    "\n",
    "#Rounding up before reshaping\n",
    "#RBA hawkish text enlarged\n",
    "padded_docs_8= padded_docs_3[0:71]\n",
    "padded_docs_9 = np.concatenate((padded_docs_3,padded_docs_8),axis=0)\n",
    "print(padded_docs_5.shape,padded_docs_7.shape,padded_docs_9.shape)"
   ]
  },
  {
   "cell_type": "code",
   "execution_count": 6,
   "metadata": {},
   "outputs": [
    {
     "name": "stdout",
     "output_type": "stream",
     "text": [
      "((400, 100), (100, 100), (60, 100))\n"
     ]
    }
   ],
   "source": [
    "#Reshape encoded docs for lstm layer to remember sequence of 100 word blocks at a\n",
    "#time versus each class label.\n",
    "\n",
    "#RBA neutral text\n",
    "padded_docs_5= padded_docs_5.reshape(400,100)\n",
    "#RBA dovish text\n",
    "padded_docs_7= padded_docs_7.reshape(100,100)\n",
    "#RBA hawkish text\n",
    "padded_docs_9= padded_docs_9.reshape(60,100)\n",
    " \n",
    "\n",
    "print(padded_docs_5.shape,padded_docs_7.shape,padded_docs_9.shape)"
   ]
  },
  {
   "cell_type": "code",
   "execution_count": 7,
   "metadata": {},
   "outputs": [
    {
     "name": "stdout",
     "output_type": "stream",
     "text": [
      "((400, 100), (400, 100))\n"
     ]
    }
   ],
   "source": [
    "#Upsample with replacement to rebalance other classes to size of the largest class.\n",
    "\n",
    "#Upsample dovish text\n",
    "padded_docs_2_up = resample(padded_docs_7, \n",
    "                                 replace=True,     # sample with replacement\n",
    "                                 n_samples=400,    # to match majority class\n",
    "                                 random_state=123) # reproducible results\n",
    " \n",
    "#Upsample hawkish text\n",
    "padded_docs_3_up = resample(padded_docs_9, \n",
    "                                 replace=True,     # sample with replacement\n",
    "                                 n_samples=400,    # to match majority class\n",
    "                                 random_state=123) # reproducible results\n",
    " \n",
    "\n",
    "print(padded_docs_2_up.shape,padded_docs_3_up.shape)"
   ]
  },
  {
   "cell_type": "code",
   "execution_count": 8,
   "metadata": {},
   "outputs": [
    {
     "name": "stdout",
     "output_type": "stream",
     "text": [
      "((800, 100), (800, 100), (800, 100))\n"
     ]
    }
   ],
   "source": [
    "#Create four predictor arrays and define labels.\n",
    "labels = np.concatenate((labels_zeros,labels_ones),axis=0)\n",
    "#Assert label array shape\n",
    "labels.shape=(800,1)\n",
    "\n",
    "#Neutral or dovish predictor array.\n",
    "ne = np.concatenate((padded_docs_5,padded_docs_2_up),axis=0)\n",
    "\n",
    "#Neutral or hawkish predictor array.\n",
    "nh = np.concatenate((padded_docs_5,padded_docs_3_up),axis=0)\n",
    "  \n",
    "#Dovish or hawkish predictor array.\n",
    "eh = np.concatenate((padded_docs_2_up,padded_docs_3_up),axis=0)\n",
    "\n",
    " \n",
    "\n",
    "print(ne.shape,nh.shape,eh.shape)"
   ]
  },
  {
   "cell_type": "code",
   "execution_count": 9,
   "metadata": {},
   "outputs": [],
   "source": [
    "#Split arrays into train/test(80/20) for each neural network. Seeded split.\n",
    "X_train_1,X_test_1,y_train_1,y_test_1 = train_test_split(nh,labels,test_size=0.20, shuffle=True,random_state=42)\n",
    "X_train_2,X_test_2,y_train_2,y_test_2 = train_test_split(eh,labels, test_size=0.20, shuffle=True,random_state=42)\n",
    "X_train_3,X_test_3,y_train_3,y_test_3 = train_test_split(ne,labels, test_size=0.20, shuffle=True,random_state=42)"
   ]
  },
  {
   "cell_type": "code",
   "execution_count": 10,
   "metadata": {
    "scrolled": true
   },
   "outputs": [
    {
     "name": "stdout",
     "output_type": "stream",
     "text": [
      "Train on 576 samples, validate on 64 samples\n",
      "Epoch 1/50\n",
      "576/576 [==============================] - 16s 28ms/step - loss: 2.0548 - main_output_loss: 0.6763 - aux_output_1_loss: 0.6741 - aux_output_2_loss: 0.7044 - main_output_acc: 0.6545 - aux_output_1_acc: 0.7205 - aux_output_2_acc: 0.6267 - val_loss: 1.8194 - val_main_output_loss: 0.5890 - val_aux_output_1_loss: 0.6443 - val_aux_output_2_loss: 0.5861 - val_main_output_acc: 0.8437 - val_aux_output_1_acc: 0.7500 - val_aux_output_2_acc: 0.8438\n",
      "Epoch 2/50\n",
      "576/576 [==============================] - 13s 23ms/step - loss: 1.0476 - main_output_loss: 0.2649 - aux_output_1_loss: 0.3050 - aux_output_2_loss: 0.4778 - main_output_acc: 0.9097 - aux_output_1_acc: 0.9045 - aux_output_2_acc: 0.7986 - val_loss: 0.5770 - val_main_output_loss: 0.0774 - val_aux_output_1_loss: 0.0949 - val_aux_output_2_loss: 0.4047 - val_main_output_acc: 0.9844 - val_aux_output_1_acc: 0.9687 - val_aux_output_2_acc: 0.8437\n",
      "Epoch 3/50\n",
      "576/576 [==============================] - 14s 25ms/step - loss: 0.3441 - main_output_loss: 0.0388 - aux_output_1_loss: 0.0586 - aux_output_2_loss: 0.2468 - main_output_acc: 0.9948 - aux_output_1_acc: 0.9896 - aux_output_2_acc: 0.9219 - val_loss: 0.3894 - val_main_output_loss: 0.0114 - val_aux_output_1_loss: 0.0100 - val_aux_output_2_loss: 0.3679 - val_main_output_acc: 1.0000 - val_aux_output_1_acc: 1.0000 - val_aux_output_2_acc: 0.8750\n",
      "Epoch 4/50\n",
      "576/576 [==============================] - 14s 25ms/step - loss: 0.2705 - main_output_loss: 0.0528 - aux_output_1_loss: 0.0842 - aux_output_2_loss: 0.1335 - main_output_acc: 0.9809 - aux_output_1_acc: 0.9878 - aux_output_2_acc: 0.9531 - val_loss: 0.4417 - val_main_output_loss: 0.0062 - val_aux_output_1_loss: 0.0058 - val_aux_output_2_loss: 0.4297 - val_main_output_acc: 1.0000 - val_aux_output_1_acc: 1.0000 - val_aux_output_2_acc: 0.8906\n",
      "Epoch 5/50\n",
      "576/576 [==============================] - 14s 25ms/step - loss: 0.1036 - main_output_loss: 0.0012 - aux_output_1_loss: 0.0015 - aux_output_2_loss: 0.1008 - main_output_acc: 1.0000 - aux_output_1_acc: 1.0000 - aux_output_2_acc: 0.9687 - val_loss: 0.3998 - val_main_output_loss: 8.2859e-04 - val_aux_output_1_loss: 5.0007e-04 - val_aux_output_2_loss: 0.3985 - val_main_output_acc: 1.0000 - val_aux_output_1_acc: 1.0000 - val_aux_output_2_acc: 0.8750\n",
      "Epoch 6/50\n",
      "576/576 [==============================] - 14s 24ms/step - loss: 0.0520 - main_output_loss: 3.5429e-04 - aux_output_1_loss: 0.0037 - aux_output_2_loss: 0.0480 - main_output_acc: 1.0000 - aux_output_1_acc: 1.0000 - aux_output_2_acc: 0.9844 - val_loss: 0.2715 - val_main_output_loss: 2.3517e-04 - val_aux_output_1_loss: 5.3600e-04 - val_aux_output_2_loss: 0.2707 - val_main_output_acc: 1.0000 - val_aux_output_1_acc: 1.0000 - val_aux_output_2_acc: 0.9219\n",
      "Epoch 7/50\n",
      "576/576 [==============================] - 15s 26ms/step - loss: 0.0309 - main_output_loss: 7.4379e-04 - aux_output_1_loss: 0.0158 - aux_output_2_loss: 0.0144 - main_output_acc: 1.0000 - aux_output_1_acc: 0.9965 - aux_output_2_acc: 0.9983 - val_loss: 0.5790 - val_main_output_loss: 8.0219e-04 - val_aux_output_1_loss: 0.0210 - val_aux_output_2_loss: 0.5572 - val_main_output_acc: 1.0000 - val_aux_output_1_acc: 0.9844 - val_aux_output_2_acc: 0.8437\n",
      "Epoch 8/50\n",
      "576/576 [==============================] - 16s 27ms/step - loss: 0.0174 - main_output_loss: 5.0945e-05 - aux_output_1_loss: 0.0019 - aux_output_2_loss: 0.0154 - main_output_acc: 1.0000 - aux_output_1_acc: 1.0000 - aux_output_2_acc: 0.9948 - val_loss: 0.4094 - val_main_output_loss: 6.9052e-04 - val_aux_output_1_loss: 0.0827 - val_aux_output_2_loss: 0.3260 - val_main_output_acc: 1.0000 - val_aux_output_1_acc: 0.9688 - val_aux_output_2_acc: 0.9219\n",
      "Epoch 9/50\n",
      "576/576 [==============================] - 15s 26ms/step - loss: 0.0190 - main_output_loss: 3.5867e-05 - aux_output_1_loss: 0.0091 - aux_output_2_loss: 0.0099 - main_output_acc: 1.0000 - aux_output_1_acc: 0.9983 - aux_output_2_acc: 0.9983 - val_loss: 0.3739 - val_main_output_loss: 0.0065 - val_aux_output_1_loss: 0.0988 - val_aux_output_2_loss: 0.2686 - val_main_output_acc: 1.0000 - val_aux_output_1_acc: 0.9844 - val_aux_output_2_acc: 0.9219\n",
      "Epoch 10/50\n",
      "576/576 [==============================] - 16s 28ms/step - loss: 0.0013 - main_output_loss: 6.5530e-06 - aux_output_1_loss: 8.7131e-04 - aux_output_2_loss: 4.6495e-04 - main_output_acc: 1.0000 - aux_output_1_acc: 1.0000 - aux_output_2_acc: 1.0000 - val_loss: 0.3805 - val_main_output_loss: 8.6794e-05 - val_aux_output_1_loss: 0.0243 - val_aux_output_2_loss: 0.3561 - val_main_output_acc: 1.0000 - val_aux_output_1_acc: 0.9844 - val_aux_output_2_acc: 0.9219\n",
      "Epoch 11/50\n",
      "576/576 [==============================] - 14s 24ms/step - loss: 2.0989e-04 - main_output_loss: 1.5575e-07 - aux_output_1_loss: 1.7990e-04 - aux_output_2_loss: 2.9831e-05 - main_output_acc: 1.0000 - aux_output_1_acc: 1.0000 - aux_output_2_acc: 1.0000 - val_loss: 0.4519 - val_main_output_loss: 0.0012 - val_aux_output_1_loss: 0.1133 - val_aux_output_2_loss: 0.3374 - val_main_output_acc: 1.0000 - val_aux_output_1_acc: 0.9844 - val_aux_output_2_acc: 0.9531\n",
      "Epoch 12/50\n",
      "576/576 [==============================] - 14s 24ms/step - loss: 0.0056 - main_output_loss: 1.3134e-07 - aux_output_1_loss: 1.8724e-05 - aux_output_2_loss: 0.0056 - main_output_acc: 1.0000 - aux_output_1_acc: 1.0000 - aux_output_2_acc: 0.9983 - val_loss: 2.3089 - val_main_output_loss: 0.0056 - val_aux_output_1_loss: 0.0052 - val_aux_output_2_loss: 2.2981 - val_main_output_acc: 1.0000 - val_aux_output_1_acc: 1.0000 - val_aux_output_2_acc: 0.6250\n",
      "Epoch 13/50\n",
      "576/576 [==============================] - 14s 24ms/step - loss: 0.0715 - main_output_loss: 0.0064 - aux_output_1_loss: 0.0251 - aux_output_2_loss: 0.0400 - main_output_acc: 0.9983 - aux_output_1_acc: 0.9965 - aux_output_2_acc: 0.9896 - val_loss: 0.5314 - val_main_output_loss: 0.0014 - val_aux_output_1_loss: 0.0363 - val_aux_output_2_loss: 0.4937 - val_main_output_acc: 1.0000 - val_aux_output_1_acc: 0.9844 - val_aux_output_2_acc: 0.8750\n",
      "Epoch 14/50\n",
      "576/576 [==============================] - 15s 25ms/step - loss: 2.8718e-04 - main_output_loss: 5.4023e-07 - aux_output_1_loss: 1.5079e-04 - aux_output_2_loss: 1.3585e-04 - main_output_acc: 1.0000 - aux_output_1_acc: 1.0000 - aux_output_2_acc: 1.0000 - val_loss: 0.5761 - val_main_output_loss: 9.7224e-04 - val_aux_output_1_loss: 0.0444 - val_aux_output_2_loss: 0.5306 - val_main_output_acc: 1.0000 - val_aux_output_1_acc: 0.9844 - val_aux_output_2_acc: 0.8750\n",
      "Epoch 15/50\n",
      "576/576 [==============================] - 13s 23ms/step - loss: 2.9419e-05 - main_output_loss: 1.4801e-07 - aux_output_1_loss: 6.9847e-06 - aux_output_2_loss: 2.2286e-05 - main_output_acc: 1.0000 - aux_output_1_acc: 1.0000 - aux_output_2_acc: 1.0000 - val_loss: 0.7109 - val_main_output_loss: 1.3349e-04 - val_aux_output_1_loss: 0.0187 - val_aux_output_2_loss: 0.6920 - val_main_output_acc: 1.0000 - val_aux_output_1_acc: 0.9844 - val_aux_output_2_acc: 0.8750\n",
      "Epoch 16/50\n",
      "576/576 [==============================] - 13s 23ms/step - loss: 3.0610e-06 - main_output_loss: 1.1009e-07 - aux_output_1_loss: 1.1314e-06 - aux_output_2_loss: 1.8195e-06 - main_output_acc: 1.0000 - aux_output_1_acc: 1.0000 - aux_output_2_acc: 1.0000 - val_loss: 0.7226 - val_main_output_loss: 8.1389e-05 - val_aux_output_1_loss: 4.9223e-05 - val_aux_output_2_loss: 0.7225 - val_main_output_acc: 1.0000 - val_aux_output_1_acc: 1.0000 - val_aux_output_2_acc: 0.8906\n",
      "Epoch 17/50\n",
      "576/576 [==============================] - 15s 26ms/step - loss: 4.3084e-07 - main_output_loss: 1.0967e-07 - aux_output_1_loss: 1.4907e-07 - aux_output_2_loss: 1.7210e-07 - main_output_acc: 1.0000 - aux_output_1_acc: 1.0000 - aux_output_2_acc: 1.0000 - val_loss: 0.7702 - val_main_output_loss: 7.5969e-05 - val_aux_output_1_loss: 3.3351e-07 - val_aux_output_2_loss: 0.7701 - val_main_output_acc: 1.0000 - val_aux_output_1_acc: 1.0000 - val_aux_output_2_acc: 0.9062\n",
      "Epoch 18/50\n",
      "576/576 [==============================] - 15s 26ms/step - loss: 0.4333 - main_output_loss: 0.0184 - aux_output_1_loss: 0.0380 - aux_output_2_loss: 0.3768 - main_output_acc: 0.9948 - aux_output_1_acc: 0.9965 - aux_output_2_acc: 0.9740 - val_loss: 0.8094 - val_main_output_loss: 0.0115 - val_aux_output_1_loss: 0.0508 - val_aux_output_2_loss: 0.7471 - val_main_output_acc: 1.0000 - val_aux_output_1_acc: 0.9844 - val_aux_output_2_acc: 0.8906\n"
     ]
    },
    {
     "name": "stdout",
     "output_type": "stream",
     "text": [
      "Epoch 19/50\n",
      "576/576 [==============================] - 16s 28ms/step - loss: 0.0117 - main_output_loss: 1.2130e-05 - aux_output_1_loss: 2.5643e-07 - aux_output_2_loss: 0.0117 - main_output_acc: 1.0000 - aux_output_1_acc: 1.0000 - aux_output_2_acc: 0.9965 - val_loss: 0.5064 - val_main_output_loss: 0.0018 - val_aux_output_1_loss: 0.0531 - val_aux_output_2_loss: 0.4515 - val_main_output_acc: 1.0000 - val_aux_output_1_acc: 0.9844 - val_aux_output_2_acc: 0.9375\n",
      "Epoch 20/50\n",
      "576/576 [==============================] - 16s 28ms/step - loss: 8.4440e-05 - main_output_loss: 1.5787e-07 - aux_output_1_loss: 1.6334e-07 - aux_output_2_loss: 8.4119e-05 - main_output_acc: 1.0000 - aux_output_1_acc: 1.0000 - aux_output_2_acc: 1.0000 - val_loss: 0.6451 - val_main_output_loss: 9.0918e-04 - val_aux_output_1_loss: 0.0538 - val_aux_output_2_loss: 0.5904 - val_main_output_acc: 1.0000 - val_aux_output_1_acc: 0.9844 - val_aux_output_2_acc: 0.9375\n",
      "Epoch 21/50\n",
      "576/576 [==============================] - 16s 28ms/step - loss: 5.6528e-06 - main_output_loss: 1.1110e-07 - aux_output_1_loss: 1.3604e-07 - aux_output_2_loss: 5.4057e-06 - main_output_acc: 1.0000 - aux_output_1_acc: 1.0000 - aux_output_2_acc: 1.0000 - val_loss: 0.7286 - val_main_output_loss: 3.1638e-04 - val_aux_output_1_loss: 0.0520 - val_aux_output_2_loss: 0.6762 - val_main_output_acc: 1.0000 - val_aux_output_1_acc: 0.9844 - val_aux_output_2_acc: 0.9375\n",
      "Epoch 22/50\n",
      "576/576 [==============================] - 18s 30ms/step - loss: 8.5911e-05 - main_output_loss: 1.1050e-07 - aux_output_1_loss: 1.1516e-07 - aux_output_2_loss: 8.5685e-05 - main_output_acc: 1.0000 - aux_output_1_acc: 1.0000 - aux_output_2_acc: 1.0000 - val_loss: 1.1490 - val_main_output_loss: 2.4997e-04 - val_aux_output_1_loss: 0.0400 - val_aux_output_2_loss: 1.1087 - val_main_output_acc: 1.0000 - val_aux_output_1_acc: 0.9844 - val_aux_output_2_acc: 0.8750\n",
      "Epoch 23/50\n",
      "576/576 [==============================] - 16s 28ms/step - loss: 0.0012 - main_output_loss: 1.1175e-07 - aux_output_1_loss: 1.0974e-07 - aux_output_2_loss: 0.0012 - main_output_acc: 1.0000 - aux_output_1_acc: 1.0000 - aux_output_2_acc: 1.0000 - val_loss: 0.6771 - val_main_output_loss: 1.3834e-05 - val_aux_output_1_loss: 0.0122 - val_aux_output_2_loss: 0.6649 - val_main_output_acc: 1.0000 - val_aux_output_1_acc: 0.9844 - val_aux_output_2_acc: 0.9062\n",
      "Epoch 24/50\n",
      "576/576 [==============================] - 18s 31ms/step - loss: 1.7326e-05 - main_output_loss: 1.0967e-07 - aux_output_1_loss: 1.0967e-07 - aux_output_2_loss: 1.7106e-05 - main_output_acc: 1.0000 - aux_output_1_acc: 1.0000 - aux_output_2_acc: 1.0000 - val_loss: 0.7365 - val_main_output_loss: 1.3668e-05 - val_aux_output_1_loss: 0.0122 - val_aux_output_2_loss: 0.7243 - val_main_output_acc: 1.0000 - val_aux_output_1_acc: 0.9844 - val_aux_output_2_acc: 0.9062\n",
      "Epoch 25/50\n",
      "576/576 [==============================] - 14s 25ms/step - loss: 1.2279e-06 - main_output_loss: 1.0967e-07 - aux_output_1_loss: 1.0967e-07 - aux_output_2_loss: 1.0085e-06 - main_output_acc: 1.0000 - aux_output_1_acc: 1.0000 - aux_output_2_acc: 1.0000 - val_loss: 0.8027 - val_main_output_loss: 1.5760e-05 - val_aux_output_1_loss: 0.0122 - val_aux_output_2_loss: 0.7905 - val_main_output_acc: 1.0000 - val_aux_output_1_acc: 0.9844 - val_aux_output_2_acc: 0.9219\n",
      "Epoch 26/50\n",
      "576/576 [==============================] - 15s 26ms/step - loss: 3.7807e-07 - main_output_loss: 1.0967e-07 - aux_output_1_loss: 1.0967e-07 - aux_output_2_loss: 1.5872e-07 - main_output_acc: 1.0000 - aux_output_1_acc: 1.0000 - aux_output_2_acc: 1.0000 - val_loss: 0.7986 - val_main_output_loss: 1.7260e-05 - val_aux_output_1_loss: 0.0122 - val_aux_output_2_loss: 0.7864 - val_main_output_acc: 1.0000 - val_aux_output_1_acc: 0.9844 - val_aux_output_2_acc: 0.9062\n",
      "Epoch 27/50\n",
      "576/576 [==============================] - 14s 25ms/step - loss: 3.2963e-07 - main_output_loss: 1.0967e-07 - aux_output_1_loss: 1.0967e-07 - aux_output_2_loss: 1.1029e-07 - main_output_acc: 1.0000 - aux_output_1_acc: 1.0000 - aux_output_2_acc: 1.0000 - val_loss: 0.8702 - val_main_output_loss: 2.1414e-05 - val_aux_output_1_loss: 0.0122 - val_aux_output_2_loss: 0.8580 - val_main_output_acc: 1.0000 - val_aux_output_1_acc: 0.9844 - val_aux_output_2_acc: 0.9062\n",
      "Epoch 28/50\n",
      "576/576 [==============================] - 14s 25ms/step - loss: 3.3002e-07 - main_output_loss: 1.0967e-07 - aux_output_1_loss: 1.0967e-07 - aux_output_2_loss: 1.1068e-07 - main_output_acc: 1.0000 - aux_output_1_acc: 1.0000 - aux_output_2_acc: 1.0000 - val_loss: 0.9348 - val_main_output_loss: 2.7438e-05 - val_aux_output_1_loss: 0.0122 - val_aux_output_2_loss: 0.9226 - val_main_output_acc: 1.0000 - val_aux_output_1_acc: 0.9844 - val_aux_output_2_acc: 0.9062\n",
      "Epoch 29/50\n",
      "576/576 [==============================] - 15s 26ms/step - loss: 3.2901e-07 - main_output_loss: 1.0967e-07 - aux_output_1_loss: 1.0967e-07 - aux_output_2_loss: 1.0967e-07 - main_output_acc: 1.0000 - aux_output_1_acc: 1.0000 - aux_output_2_acc: 1.0000 - val_loss: 0.8614 - val_main_output_loss: 2.4200e-05 - val_aux_output_1_loss: 0.0122 - val_aux_output_2_loss: 0.8492 - val_main_output_acc: 1.0000 - val_aux_output_1_acc: 0.9844 - val_aux_output_2_acc: 0.8906\n",
      "Epoch 30/50\n",
      "576/576 [==============================] - 14s 25ms/step - loss: 3.2901e-07 - main_output_loss: 1.0967e-07 - aux_output_1_loss: 1.0967e-07 - aux_output_2_loss: 1.0967e-07 - main_output_acc: 1.0000 - aux_output_1_acc: 1.0000 - aux_output_2_acc: 1.0000 - val_loss: 0.8614 - val_main_output_loss: 2.4200e-05 - val_aux_output_1_loss: 0.0122 - val_aux_output_2_loss: 0.8492 - val_main_output_acc: 1.0000 - val_aux_output_1_acc: 0.9844 - val_aux_output_2_acc: 0.8906\n",
      "Epoch 31/50\n",
      "576/576 [==============================] - 15s 25ms/step - loss: 3.2901e-07 - main_output_loss: 1.0967e-07 - aux_output_1_loss: 1.0967e-07 - aux_output_2_loss: 1.0967e-07 - main_output_acc: 1.0000 - aux_output_1_acc: 1.0000 - aux_output_2_acc: 1.0000 - val_loss: 0.8614 - val_main_output_loss: 2.4200e-05 - val_aux_output_1_loss: 0.0122 - val_aux_output_2_loss: 0.8492 - val_main_output_acc: 1.0000 - val_aux_output_1_acc: 0.9844 - val_aux_output_2_acc: 0.8906\n",
      "Epoch 32/50\n",
      "576/576 [==============================] - 16s 28ms/step - loss: 3.2901e-07 - main_output_loss: 1.0967e-07 - aux_output_1_loss: 1.0967e-07 - aux_output_2_loss: 1.0967e-07 - main_output_acc: 1.0000 - aux_output_1_acc: 1.0000 - aux_output_2_acc: 1.0000 - val_loss: 0.8614 - val_main_output_loss: 2.4200e-05 - val_aux_output_1_loss: 0.0122 - val_aux_output_2_loss: 0.8492 - val_main_output_acc: 1.0000 - val_aux_output_1_acc: 0.9844 - val_aux_output_2_acc: 0.8906\n",
      "Epoch 33/50\n",
      "576/576 [==============================] - 15s 26ms/step - loss: 3.2901e-07 - main_output_loss: 1.0967e-07 - aux_output_1_loss: 1.0967e-07 - aux_output_2_loss: 1.0967e-07 - main_output_acc: 1.0000 - aux_output_1_acc: 1.0000 - aux_output_2_acc: 1.0000 - val_loss: 0.8614 - val_main_output_loss: 2.4200e-05 - val_aux_output_1_loss: 0.0122 - val_aux_output_2_loss: 0.8492 - val_main_output_acc: 1.0000 - val_aux_output_1_acc: 0.9844 - val_aux_output_2_acc: 0.8906\n",
      "Epoch 34/50\n",
      "576/576 [==============================] - 15s 25ms/step - loss: 3.2901e-07 - main_output_loss: 1.0967e-07 - aux_output_1_loss: 1.0967e-07 - aux_output_2_loss: 1.0967e-07 - main_output_acc: 1.0000 - aux_output_1_acc: 1.0000 - aux_output_2_acc: 1.0000 - val_loss: 0.8614 - val_main_output_loss: 2.4200e-05 - val_aux_output_1_loss: 0.0122 - val_aux_output_2_loss: 0.8492 - val_main_output_acc: 1.0000 - val_aux_output_1_acc: 0.9844 - val_aux_output_2_acc: 0.8906\n",
      "Epoch 35/50\n",
      "576/576 [==============================] - 16s 28ms/step - loss: 3.2901e-07 - main_output_loss: 1.0967e-07 - aux_output_1_loss: 1.0967e-07 - aux_output_2_loss: 1.0967e-07 - main_output_acc: 1.0000 - aux_output_1_acc: 1.0000 - aux_output_2_acc: 1.0000 - val_loss: 0.8614 - val_main_output_loss: 2.4200e-05 - val_aux_output_1_loss: 0.0122 - val_aux_output_2_loss: 0.8492 - val_main_output_acc: 1.0000 - val_aux_output_1_acc: 0.9844 - val_aux_output_2_acc: 0.8906\n",
      "Epoch 36/50\n"
     ]
    },
    {
     "name": "stdout",
     "output_type": "stream",
     "text": [
      "576/576 [==============================] - 15s 25ms/step - loss: 3.2901e-07 - main_output_loss: 1.0967e-07 - aux_output_1_loss: 1.0967e-07 - aux_output_2_loss: 1.0967e-07 - main_output_acc: 1.0000 - aux_output_1_acc: 1.0000 - aux_output_2_acc: 1.0000 - val_loss: 0.8614 - val_main_output_loss: 2.4200e-05 - val_aux_output_1_loss: 0.0122 - val_aux_output_2_loss: 0.8492 - val_main_output_acc: 1.0000 - val_aux_output_1_acc: 0.9844 - val_aux_output_2_acc: 0.8906\n",
      "Epoch 37/50\n",
      "576/576 [==============================] - 15s 26ms/step - loss: 3.2901e-07 - main_output_loss: 1.0967e-07 - aux_output_1_loss: 1.0967e-07 - aux_output_2_loss: 1.0967e-07 - main_output_acc: 1.0000 - aux_output_1_acc: 1.0000 - aux_output_2_acc: 1.0000 - val_loss: 0.8614 - val_main_output_loss: 2.4200e-05 - val_aux_output_1_loss: 0.0122 - val_aux_output_2_loss: 0.8492 - val_main_output_acc: 1.0000 - val_aux_output_1_acc: 0.9844 - val_aux_output_2_acc: 0.8906\n",
      "Epoch 38/50\n",
      "576/576 [==============================] - 16s 28ms/step - loss: 3.2901e-07 - main_output_loss: 1.0967e-07 - aux_output_1_loss: 1.0967e-07 - aux_output_2_loss: 1.0967e-07 - main_output_acc: 1.0000 - aux_output_1_acc: 1.0000 - aux_output_2_acc: 1.0000 - val_loss: 0.8614 - val_main_output_loss: 2.4200e-05 - val_aux_output_1_loss: 0.0122 - val_aux_output_2_loss: 0.8492 - val_main_output_acc: 1.0000 - val_aux_output_1_acc: 0.9844 - val_aux_output_2_acc: 0.8906\n",
      "Epoch 39/50\n",
      "576/576 [==============================] - 17s 29ms/step - loss: 3.2901e-07 - main_output_loss: 1.0967e-07 - aux_output_1_loss: 1.0967e-07 - aux_output_2_loss: 1.0967e-07 - main_output_acc: 1.0000 - aux_output_1_acc: 1.0000 - aux_output_2_acc: 1.0000 - val_loss: 0.8614 - val_main_output_loss: 2.4200e-05 - val_aux_output_1_loss: 0.0122 - val_aux_output_2_loss: 0.8492 - val_main_output_acc: 1.0000 - val_aux_output_1_acc: 0.9844 - val_aux_output_2_acc: 0.8906\n",
      "Epoch 40/50\n",
      "576/576 [==============================] - 18s 30ms/step - loss: 3.2901e-07 - main_output_loss: 1.0967e-07 - aux_output_1_loss: 1.0967e-07 - aux_output_2_loss: 1.0967e-07 - main_output_acc: 1.0000 - aux_output_1_acc: 1.0000 - aux_output_2_acc: 1.0000 - val_loss: 0.8614 - val_main_output_loss: 2.4200e-05 - val_aux_output_1_loss: 0.0122 - val_aux_output_2_loss: 0.8492 - val_main_output_acc: 1.0000 - val_aux_output_1_acc: 0.9844 - val_aux_output_2_acc: 0.8906\n",
      "Epoch 41/50\n",
      "576/576 [==============================] - 14s 25ms/step - loss: 3.2901e-07 - main_output_loss: 1.0967e-07 - aux_output_1_loss: 1.0967e-07 - aux_output_2_loss: 1.0967e-07 - main_output_acc: 1.0000 - aux_output_1_acc: 1.0000 - aux_output_2_acc: 1.0000 - val_loss: 0.8614 - val_main_output_loss: 2.4200e-05 - val_aux_output_1_loss: 0.0122 - val_aux_output_2_loss: 0.8492 - val_main_output_acc: 1.0000 - val_aux_output_1_acc: 0.9844 - val_aux_output_2_acc: 0.8906\n",
      "Epoch 42/50\n",
      "576/576 [==============================] - 15s 26ms/step - loss: 3.2901e-07 - main_output_loss: 1.0967e-07 - aux_output_1_loss: 1.0967e-07 - aux_output_2_loss: 1.0967e-07 - main_output_acc: 1.0000 - aux_output_1_acc: 1.0000 - aux_output_2_acc: 1.0000 - val_loss: 0.8614 - val_main_output_loss: 2.4200e-05 - val_aux_output_1_loss: 0.0122 - val_aux_output_2_loss: 0.8492 - val_main_output_acc: 1.0000 - val_aux_output_1_acc: 0.9844 - val_aux_output_2_acc: 0.8906\n",
      "Epoch 43/50\n",
      "576/576 [==============================] - 13s 23ms/step - loss: 3.2901e-07 - main_output_loss: 1.0967e-07 - aux_output_1_loss: 1.0967e-07 - aux_output_2_loss: 1.0967e-07 - main_output_acc: 1.0000 - aux_output_1_acc: 1.0000 - aux_output_2_acc: 1.0000 - val_loss: 0.8614 - val_main_output_loss: 2.4200e-05 - val_aux_output_1_loss: 0.0122 - val_aux_output_2_loss: 0.8492 - val_main_output_acc: 1.0000 - val_aux_output_1_acc: 0.9844 - val_aux_output_2_acc: 0.8906\n",
      "Epoch 44/50\n",
      "576/576 [==============================] - 15s 26ms/step - loss: 3.2901e-07 - main_output_loss: 1.0967e-07 - aux_output_1_loss: 1.0967e-07 - aux_output_2_loss: 1.0967e-07 - main_output_acc: 1.0000 - aux_output_1_acc: 1.0000 - aux_output_2_acc: 1.0000 - val_loss: 0.8614 - val_main_output_loss: 2.4200e-05 - val_aux_output_1_loss: 0.0122 - val_aux_output_2_loss: 0.8492 - val_main_output_acc: 1.0000 - val_aux_output_1_acc: 0.9844 - val_aux_output_2_acc: 0.8906\n",
      "Epoch 45/50\n",
      "576/576 [==============================] - 15s 26ms/step - loss: 3.2901e-07 - main_output_loss: 1.0967e-07 - aux_output_1_loss: 1.0967e-07 - aux_output_2_loss: 1.0967e-07 - main_output_acc: 1.0000 - aux_output_1_acc: 1.0000 - aux_output_2_acc: 1.0000 - val_loss: 0.8614 - val_main_output_loss: 2.4200e-05 - val_aux_output_1_loss: 0.0122 - val_aux_output_2_loss: 0.8492 - val_main_output_acc: 1.0000 - val_aux_output_1_acc: 0.9844 - val_aux_output_2_acc: 0.8906\n",
      "Epoch 46/50\n",
      "576/576 [==============================] - 15s 25ms/step - loss: 3.2901e-07 - main_output_loss: 1.0967e-07 - aux_output_1_loss: 1.0967e-07 - aux_output_2_loss: 1.0967e-07 - main_output_acc: 1.0000 - aux_output_1_acc: 1.0000 - aux_output_2_acc: 1.0000 - val_loss: 0.8614 - val_main_output_loss: 2.4200e-05 - val_aux_output_1_loss: 0.0122 - val_aux_output_2_loss: 0.8492 - val_main_output_acc: 1.0000 - val_aux_output_1_acc: 0.9844 - val_aux_output_2_acc: 0.8906\n",
      "Epoch 47/50\n",
      "576/576 [==============================] - 15s 26ms/step - loss: 3.2901e-07 - main_output_loss: 1.0967e-07 - aux_output_1_loss: 1.0967e-07 - aux_output_2_loss: 1.0967e-07 - main_output_acc: 1.0000 - aux_output_1_acc: 1.0000 - aux_output_2_acc: 1.0000 - val_loss: 0.8614 - val_main_output_loss: 2.4200e-05 - val_aux_output_1_loss: 0.0122 - val_aux_output_2_loss: 0.8492 - val_main_output_acc: 1.0000 - val_aux_output_1_acc: 0.9844 - val_aux_output_2_acc: 0.8906\n",
      "Epoch 48/50\n",
      "576/576 [==============================] - 14s 25ms/step - loss: 3.2901e-07 - main_output_loss: 1.0967e-07 - aux_output_1_loss: 1.0967e-07 - aux_output_2_loss: 1.0967e-07 - main_output_acc: 1.0000 - aux_output_1_acc: 1.0000 - aux_output_2_acc: 1.0000 - val_loss: 0.8614 - val_main_output_loss: 2.4200e-05 - val_aux_output_1_loss: 0.0122 - val_aux_output_2_loss: 0.8492 - val_main_output_acc: 1.0000 - val_aux_output_1_acc: 0.9844 - val_aux_output_2_acc: 0.8906\n",
      "Epoch 49/50\n",
      "576/576 [==============================] - 16s 27ms/step - loss: 3.2901e-07 - main_output_loss: 1.0967e-07 - aux_output_1_loss: 1.0967e-07 - aux_output_2_loss: 1.0967e-07 - main_output_acc: 1.0000 - aux_output_1_acc: 1.0000 - aux_output_2_acc: 1.0000 - val_loss: 0.8614 - val_main_output_loss: 2.4200e-05 - val_aux_output_1_loss: 0.0122 - val_aux_output_2_loss: 0.8492 - val_main_output_acc: 1.0000 - val_aux_output_1_acc: 0.9844 - val_aux_output_2_acc: 0.8906\n",
      "Epoch 50/50\n",
      "576/576 [==============================] - 14s 23ms/step - loss: 3.2901e-07 - main_output_loss: 1.0967e-07 - aux_output_1_loss: 1.0967e-07 - aux_output_2_loss: 1.0967e-07 - main_output_acc: 1.0000 - aux_output_1_acc: 1.0000 - aux_output_2_acc: 1.0000 - val_loss: 0.8614 - val_main_output_loss: 2.4200e-05 - val_aux_output_1_loss: 0.0122 - val_aux_output_2_loss: 0.8492 - val_main_output_acc: 1.0000 - val_aux_output_1_acc: 0.9844 - val_aux_output_2_acc: 0.8906\n",
      "160/160 [==============================] - 1s 5ms/step\n"
     ]
    }
   ],
   "source": [
    "#Collaborative net. Each net is training on its own text file and looking for specific \n",
    "#patterns in their own right. However the idea behind the test is to see if sharing what each\n",
    "#model is learning via the LSTM layers will collectively help the main model.  \n",
    "\n",
    "\n",
    "#First auxiliary model..feeding it \"Dovish or hawkish\" text and associated labels.\n",
    "auxiliary_input_1 = Input(shape=(100,)) \n",
    "e_2 = Embedding(vocab_size_1,200, input_length=100,trainable=True)(auxiliary_input_1)\n",
    "lstm_2 = LSTM(200,input_shape=(100,1))(e_2)\n",
    "#Logistic regression layer\n",
    "auxiliary_output_1 = Dense(1, activation='sigmoid', name='aux_output_1')(lstm_2)  \n",
    "\n",
    "          \n",
    "#Second auxiliary model..feeding it \"Neutral or Dovish\" text and associated labels. \n",
    "auxiliary_input_2 = Input(shape=(100,)) \n",
    "e_3 = Embedding(vocab_size_1,200, input_length=100,trainable=True)(auxiliary_input_2)\n",
    "lstm_3 = LSTM(200,input_shape=(100,1))(e_3)\n",
    "#Logistic regression layer\n",
    "auxiliary_output_2 = Dense(1, activation='sigmoid', name='aux_output_2')(lstm_3) \n",
    "\n",
    "\n",
    "#Main model...feeding it \"Neutral or hawkish\" text and associated labels.\n",
    "main_input = Input(shape=(100, ), name='aux_input')\n",
    "e_1 = Embedding(vocab_size_1, 200,input_length=100,trainable=True)(main_input)\n",
    "lstm_1 = LSTM(200,input_shape=(100,1))(e_1) \n",
    "#Merge LSTM layers\n",
    "x = keras.layers.concatenate([lstm_1,lstm_2,lstm_3])  \n",
    "#logistic regression layer\n",
    "main_output = Dense(1, activation='sigmoid', name='main_output')(x)    \n",
    "         \n",
    "#Define inputs and outputs from main model. \n",
    "model = Model(inputs=[main_input, auxiliary_input_1,auxiliary_input_2], outputs=[main_output, auxiliary_output_1,auxiliary_output_2])\n",
    "\n",
    "\n",
    "#Allowing for equal loss contributions from each model.  \n",
    "model.compile(optimizer='rmsprop', loss='binary_crossentropy',metrics=['acc'],loss_weights=[1.0,1.0,1.0]) \n",
    " \n",
    "\n",
    "history_1 = model.fit([X_train_1, X_train_2, X_train_3], [y_train_1, y_train_2, y_train_3],\n",
    "         batch_size=10, epochs=50,\n",
    "           validation_split=0.10, shuffle=True, verbose=1) \n",
    "\n",
    "\n",
    "model.evaluate([X_test_1, X_test_2, X_test_3], [y_test_1, y_test_2, y_test_3], batch_size=10)\n",
    "\n",
    "\n",
    "collab_mod = model.predict([X_test_1, X_test_2, X_test_3], batch_size=10,verbose=2) "
   ]
  },
  {
   "cell_type": "code",
   "execution_count": 11,
   "metadata": {},
   "outputs": [
    {
     "data": {
      "text/plain": [
       "['loss',\n",
       " 'main_output_loss',\n",
       " 'aux_output_1_loss',\n",
       " 'aux_output_2_loss',\n",
       " 'main_output_acc',\n",
       " 'aux_output_1_acc',\n",
       " 'aux_output_2_acc']"
      ]
     },
     "execution_count": 11,
     "metadata": {},
     "output_type": "execute_result"
    }
   ],
   "source": [
    "#Check metrics for collaborative net\n",
    "model.metrics_names "
   ]
  },
  {
   "cell_type": "code",
   "execution_count": 12,
   "metadata": {},
   "outputs": [
    {
     "name": "stdout",
     "output_type": "stream",
     "text": [
      "[[80  0]\n",
      " [ 0 80]]\n",
      "1.0\n"
     ]
    }
   ],
   "source": [
    "#Precision/recall check & f1 score for collaborative model\n",
    "print_metrics(collab_mod[0],y_test_1)"
   ]
  },
  {
   "cell_type": "code",
   "execution_count": 13,
   "metadata": {},
   "outputs": [
    {
     "data": {
      "image/png": "[encoded data removed]",
      "text/plain": [
       "<matplotlib.figure.Figure at 0x115ed9550>"
      ]
     },
     "metadata": {},
     "output_type": "display_data"
    },
    {
     "data": {
      "image/png": "[encoded data removed]",
      "text/plain": [
       "<matplotlib.figure.Figure at 0x11d832ed0>"
      ]
     },
     "metadata": {},
     "output_type": "display_data"
    }
   ],
   "source": [
    "#Plot collaborative model behaviour over 50 epochs\n",
    "plot_model(history_1)"
   ]
  },
  {
   "cell_type": "code",
   "execution_count": 14,
   "metadata": {
    "scrolled": true
   },
   "outputs": [
    {
     "name": "stdout",
     "output_type": "stream",
     "text": [
      "Train on 576 samples, validate on 64 samples\n",
      "Epoch 1/50\n",
      "576/576 [==============================] - 10s 17ms/step - loss: 0.9521 - acc: 0.5243 - val_loss: 0.6698 - val_acc: 0.6875\n",
      "Epoch 2/50\n",
      "576/576 [==============================] - 8s 15ms/step - loss: 0.6165 - acc: 0.7187 - val_loss: 0.5507 - val_acc: 0.8281\n",
      "Epoch 3/50\n",
      "576/576 [==============================] - 9s 15ms/step - loss: 0.2733 - acc: 0.9097 - val_loss: 0.1305 - val_acc: 0.9531\n",
      "Epoch 4/50\n",
      "576/576 [==============================] - 9s 15ms/step - loss: 0.0550 - acc: 0.9896 - val_loss: 0.1255 - val_acc: 0.9531\n",
      "Epoch 5/50\n",
      "576/576 [==============================] - 9s 15ms/step - loss: 0.0183 - acc: 0.9983 - val_loss: 0.0743 - val_acc: 0.9687\n",
      "Epoch 6/50\n",
      "576/576 [==============================] - 9s 16ms/step - loss: 0.0035 - acc: 1.0000 - val_loss: 0.0733 - val_acc: 0.9844\n",
      "Epoch 7/50\n",
      "576/576 [==============================] - 9s 15ms/step - loss: 0.0019 - acc: 1.0000 - val_loss: 0.0719 - val_acc: 0.9844\n",
      "Epoch 8/50\n",
      "576/576 [==============================] - 9s 16ms/step - loss: 0.0012 - acc: 1.0000 - val_loss: 0.0790 - val_acc: 0.9844\n",
      "Epoch 9/50\n",
      "576/576 [==============================] - 9s 16ms/step - loss: 8.0027e-04 - acc: 1.0000 - val_loss: 0.1918 - val_acc: 0.9687\n",
      "Epoch 10/50\n",
      "576/576 [==============================] - 9s 16ms/step - loss: 0.3433 - acc: 0.9427 - val_loss: 0.1858 - val_acc: 0.9687\n",
      "Epoch 11/50\n",
      "576/576 [==============================] - 9s 15ms/step - loss: 0.1335 - acc: 0.9844 - val_loss: 0.1752 - val_acc: 0.9687\n",
      "Epoch 12/50\n",
      "576/576 [==============================] - 9s 16ms/step - loss: 0.1365 - acc: 0.9653 - val_loss: 0.2339 - val_acc: 0.9531\n",
      "Epoch 13/50\n",
      "576/576 [==============================] - 10s 17ms/step - loss: 0.0712 - acc: 0.9826 - val_loss: 0.1500 - val_acc: 0.9531\n",
      "Epoch 14/50\n",
      "576/576 [==============================] - 10s 17ms/step - loss: 0.0063 - acc: 1.0000 - val_loss: 0.1527 - val_acc: 0.9687\n",
      "Epoch 15/50\n",
      "576/576 [==============================] - 9s 16ms/step - loss: 0.0026 - acc: 1.0000 - val_loss: 0.0935 - val_acc: 0.9687\n",
      "Epoch 16/50\n",
      "576/576 [==============================] - 9s 16ms/step - loss: 0.0017 - acc: 1.0000 - val_loss: 0.1969 - val_acc: 0.9687\n",
      "Epoch 17/50\n",
      "576/576 [==============================] - 9s 16ms/step - loss: 0.0012 - acc: 1.0000 - val_loss: 0.0797 - val_acc: 0.9687\n",
      "Epoch 18/50\n",
      "576/576 [==============================] - 9s 16ms/step - loss: 8.0075e-04 - acc: 1.0000 - val_loss: 0.0757 - val_acc: 0.9687\n",
      "Epoch 19/50\n",
      "576/576 [==============================] - 9s 16ms/step - loss: 6.3621e-04 - acc: 1.0000 - val_loss: 0.0740 - val_acc: 0.9687\n",
      "Epoch 20/50\n",
      "576/576 [==============================] - 9s 16ms/step - loss: 5.1368e-04 - acc: 1.0000 - val_loss: 0.0682 - val_acc: 0.9687\n",
      "Epoch 21/50\n",
      "576/576 [==============================] - 9s 16ms/step - loss: 4.2899e-04 - acc: 1.0000 - val_loss: 0.0508 - val_acc: 0.9687\n",
      "Epoch 22/50\n",
      "576/576 [==============================] - 9s 16ms/step - loss: 3.6525e-04 - acc: 1.0000 - val_loss: 0.0505 - val_acc: 0.9687\n",
      "Epoch 23/50\n",
      "576/576 [==============================] - 9s 16ms/step - loss: 3.1345e-04 - acc: 1.0000 - val_loss: 0.0637 - val_acc: 0.9687\n",
      "Epoch 24/50\n",
      "576/576 [==============================] - 9s 16ms/step - loss: 2.7410e-04 - acc: 1.0000 - val_loss: 0.0627 - val_acc: 0.9687\n",
      "Epoch 25/50\n",
      "576/576 [==============================] - 9s 16ms/step - loss: 2.4404e-04 - acc: 1.0000 - val_loss: 0.0670 - val_acc: 0.9687\n",
      "Epoch 26/50\n",
      "576/576 [==============================] - 9s 16ms/step - loss: 2.1534e-04 - acc: 1.0000 - val_loss: 0.0359 - val_acc: 0.9687\n",
      "Epoch 27/50\n",
      "576/576 [==============================] - 9s 16ms/step - loss: 1.9259e-04 - acc: 1.0000 - val_loss: 0.0493 - val_acc: 0.9687\n",
      "Epoch 28/50\n",
      "576/576 [==============================] - 9s 16ms/step - loss: 1.7374e-04 - acc: 1.0000 - val_loss: 0.0644 - val_acc: 0.9687\n",
      "Epoch 29/50\n",
      "576/576 [==============================] - 9s 16ms/step - loss: 1.5789e-04 - acc: 1.0000 - val_loss: 0.0488 - val_acc: 0.9687\n",
      "Epoch 30/50\n",
      "576/576 [==============================] - 9s 16ms/step - loss: 1.4368e-04 - acc: 1.0000 - val_loss: 0.0493 - val_acc: 0.9687\n",
      "Epoch 31/50\n",
      "576/576 [==============================] - 10s 17ms/step - loss: 1.3104e-04 - acc: 1.0000 - val_loss: 0.0488 - val_acc: 0.9687\n",
      "Epoch 32/50\n",
      "576/576 [==============================] - 9s 15ms/step - loss: 1.2037e-04 - acc: 1.0000 - val_loss: 0.0474 - val_acc: 0.9687\n",
      "Epoch 33/50\n",
      "576/576 [==============================] - 9s 16ms/step - loss: 1.1063e-04 - acc: 1.0000 - val_loss: 0.0450 - val_acc: 0.9687\n",
      "Epoch 34/50\n",
      "576/576 [==============================] - 9s 16ms/step - loss: 1.0244e-04 - acc: 1.0000 - val_loss: 0.0492 - val_acc: 0.9687\n",
      "Epoch 35/50\n",
      "576/576 [==============================] - 9s 16ms/step - loss: 9.4970e-05 - acc: 1.0000 - val_loss: 0.0425 - val_acc: 0.9687\n",
      "Epoch 36/50\n",
      "576/576 [==============================] - 9s 15ms/step - loss: 8.8500e-05 - acc: 1.0000 - val_loss: 0.0407 - val_acc: 0.9687\n",
      "Epoch 37/50\n",
      "576/576 [==============================] - 9s 16ms/step - loss: 8.2456e-05 - acc: 1.0000 - val_loss: 0.1400 - val_acc: 0.9531\n",
      "Epoch 38/50\n",
      "576/576 [==============================] - 9s 16ms/step - loss: 7.7483e-05 - acc: 1.0000 - val_loss: 0.1409 - val_acc: 0.9531\n",
      "Epoch 39/50\n",
      "576/576 [==============================] - 9s 16ms/step - loss: 7.2463e-05 - acc: 1.0000 - val_loss: 0.1429 - val_acc: 0.9531\n",
      "Epoch 40/50\n",
      "576/576 [==============================] - 9s 15ms/step - loss: 6.8234e-05 - acc: 1.0000 - val_loss: 0.1369 - val_acc: 0.9687\n",
      "Epoch 41/50\n",
      "576/576 [==============================] - 9s 16ms/step - loss: 6.4302e-05 - acc: 1.0000 - val_loss: 0.0433 - val_acc: 0.9687\n",
      "Epoch 42/50\n",
      "576/576 [==============================] - 9s 16ms/step - loss: 6.0678e-05 - acc: 1.0000 - val_loss: 0.0388 - val_acc: 0.9844\n",
      "Epoch 43/50\n",
      "576/576 [==============================] - 9s 16ms/step - loss: 5.7034e-05 - acc: 1.0000 - val_loss: 0.1464 - val_acc: 0.9531\n",
      "Epoch 44/50\n",
      "576/576 [==============================] - 9s 16ms/step - loss: 5.3776e-05 - acc: 1.0000 - val_loss: 0.1422 - val_acc: 0.9687\n",
      "Epoch 45/50\n",
      "576/576 [==============================] - 8s 15ms/step - loss: 5.0699e-05 - acc: 1.0000 - val_loss: 0.1466 - val_acc: 0.9531\n",
      "Epoch 46/50\n",
      "576/576 [==============================] - 9s 15ms/step - loss: 4.8038e-05 - acc: 1.0000 - val_loss: 0.1468 - val_acc: 0.9531\n",
      "Epoch 47/50\n",
      "576/576 [==============================] - 10s 17ms/step - loss: 4.5847e-05 - acc: 1.0000 - val_loss: 0.1446 - val_acc: 0.9687\n",
      "Epoch 48/50\n",
      "576/576 [==============================] - 9s 16ms/step - loss: 4.3497e-05 - acc: 1.0000 - val_loss: 0.1480 - val_acc: 0.9531\n",
      "Epoch 49/50\n",
      "576/576 [==============================] - 9s 16ms/step - loss: 4.1139e-05 - acc: 1.0000 - val_loss: 0.1422 - val_acc: 0.9687\n",
      "Epoch 50/50\n",
      "576/576 [==============================] - 9s 16ms/step - loss: 3.9125e-05 - acc: 1.0000 - val_loss: 0.1481 - val_acc: 0.9531\n"
     ]
    }
   ],
   "source": [
    "#Solo model,using sequential model. Model is asked to predict if unseen text is neutral\n",
    "#or hawkish.\n",
    "\n",
    "model_2 = Sequential()\n",
    "\n",
    "\n",
    "#Add embedding layer, allow for layer to retrain\n",
    "e = Embedding(vocab_size_1, 200, input_length=100, trainable=True)\n",
    "model_2.add(e)\n",
    "\n",
    "#LSTM layer\n",
    "model_2.add(LSTM(200, input_shape=(100,1)))\n",
    "#Logistic Regression classifier layer\n",
    "model_2.add(Dense(1, activation='sigmoid'))\n",
    "\n",
    "#Compile model, same loss function and optimizer as main model from the collaborative net above\n",
    "model_2.compile(optimizer='Adam', loss='binary_crossentropy', metrics=['acc'])\n",
    " \n",
    "#Fit the model\n",
    "history_2 = model_2.fit(X_train_1, y_train_1, shuffle=True, batch_size=10, epochs=50, \n",
    "           validation_split=0.10,verbose=1)\n",
    "\n",
    "#Evaluate the model\n",
    "model_2.evaluate(X_test_1,y_test_1, verbose=2,batch_size=10)\n",
    "\n",
    "pred_ldense = model_2.predict(X_test_1, batch_size=10,verbose=2)"
   ]
  },
  {
   "cell_type": "code",
   "execution_count": 15,
   "metadata": {},
   "outputs": [
    {
     "name": "stdout",
     "output_type": "stream",
     "text": [
      "[[75  5]\n",
      " [ 0 80]]\n",
      "0.9696969696969697\n"
     ]
    }
   ],
   "source": [
    "#Confusion matrix and F1 score for solo model.\n",
    "print_metrics(pred_ldense,y_test_1)"
   ]
  },
  {
   "cell_type": "code",
   "execution_count": 16,
   "metadata": {},
   "outputs": [
    {
     "data": {
      "image/png": "[encoded data removed]",
      "text/plain": [
       "<matplotlib.figure.Figure at 0x11e258450>"
      ]
     },
     "metadata": {},
     "output_type": "display_data"
    },
    {
     "data": {
      "image/png": "[encoded data removed]",
      "text/plain": [
       "<matplotlib.figure.Figure at 0x11e242390>"
      ]
     },
     "metadata": {},
     "output_type": "display_data"
    }
   ],
   "source": [
    "#Plot model path over 50 epochs.  \n",
    "plot_model_solo(history_2)"
   ]
  }
 ],
 "metadata": {
  "kernelspec": {
   "display_name": "Python 2",
   "language": "python",
   "name": "python2"
  },
  "language_info": {
   "codemirror_mode": {
    "name": "ipython",
    "version": 2
   },
   "file_extension": ".py",
   "mimetype": "text/x-python",
   "name": "python",
   "nbconvert_exporter": "python",
   "pygments_lexer": "ipython2",
   "version": "2.7.14"
  }
 },
 "nbformat": 4,
 "nbformat_minor": 2
}
